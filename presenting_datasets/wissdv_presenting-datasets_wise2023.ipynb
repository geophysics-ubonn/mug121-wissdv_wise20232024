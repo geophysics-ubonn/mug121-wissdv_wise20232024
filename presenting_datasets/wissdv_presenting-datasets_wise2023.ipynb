{
 "cells": [
  {
   "cell_type": "markdown",
   "metadata": {},
   "source": [
    "Wintersemester 2023/2024"
   ]
  },
  {
   "cell_type": "markdown",
   "metadata": {},
   "source": [
    "# mug121 - Wissenschaftliche Datenverarbeitung: Aufbereitung und Präsentation eines Datensatzes"
   ]
  },
  {
   "cell_type": "markdown",
   "metadata": {},
   "source": [
    "> Niklas Heidemann (heidemann@geo.uni-bonn.de)"
   ]
  },
  {
   "cell_type": "markdown",
   "metadata": {
    "tags": []
   },
   "source": [
    "----\n",
    "\n",
    "## Setting:\n",
    "\n",
    "Sie sollen die Daten eines geowissenschaftlichen Projekts mit unvollständiger Datenlage zum Thema \"artesischer Brunnen\" in Kleingruppen (maximal 4 Personen) sichten, aufbereiten und präsentieren. Pro Gruppe sollen zwei Datensätze von fünf verfügbaren Datensätzen ausgewählt und die Resultate in einer 20 minütigen Präsentation sowie einem einseitigen Handout vorgestellt werden.\n",
    "\n",
    "## Datensätze:\n",
    "\n",
    "Folgende Datensätze stehen zur Auswahl und sollen jeweils mit einem bestimmten Fokus bearbeitet werden:\n",
    "\n",
    "| Datensatz Nr.  | Name  | Fokus  | Anmerkungen  |\n",
    "|---|---|---|---|\n",
    "| 01  | Topografie, GOK und Brunnen:<br> *mug121_psds_01_topography.csv*<br>*mug121_psds_01_well.txt*  | Geowissenschaften:<br> Datensatz laden, in einem vollständigen Plot darstellen und im Bezug auf das Thema \"artesischer Brunnen\" erklären und interpretieren. | Datensatz besteht aus 2 (kleinen) Datendateien. Angaben in [m]  |\n",
    "| 02  | Elektrische Sondierung:<br>*mug121_psds_02_electrical_model.csv*  | Geophysik:<br> Modell-Datensatz der geoelektrischen Sondierung laden, in einem vollständigen Plot darstellen (spezifischer elektrischer Widerstand rho ($\\rho$ $[\\Omega m]$) oder elektrische Leitfähigkeit sigma ($\\sigma$ $[\\frac{S}{m}]$) auf der x-Achse, Tiefe $z$ auf der y-Achse auftragen) und Interpreationsversuche im Bezug auf geologische Schichtung im Thema \"artesischer Brunnen\". | Sondierung in direkter Nähe eines Brunnens in einem Tal.  |\n",
    "| 03  | Pegelstände:<br>*mug121_psds_03_pegel.csv*  | Geowissenschaften/(Meteorologie):<br> Datensatz laden (`pandas`), Daten zeitabhängig (Zeit auf der x-Achse) in einem vollständigen Plot darstellen und im Bezug auf das Thema \"artesischer Brunnen\" erklären und interpretieren.  | Pegelstände im Brunnen (Austritt mitgemessen) [cm]  |\n",
    "| 04  | Niederschlag:<br>*mug121_psds_04_precipitation.csv*  | Meteorologie:<br> Datensatz laden (`pandas`), Daten zeitabhängig (Zeit auf der x-Achse) in einem vollständigen Plot darstellen und im Bezug auf das Thema \"artesischer Brunnen\" erklären und interpretieren. | Mittlerer Monatsniederschlag [mm]  |\n",
    "| 05  | Luftfeuchtigkeit GOK: <br>*mug121_psds_05_humidity.txt* | Geowissenschaften: <br> Datensatz laden, Daten ortsabhängig (Profilverlauf auf der x-Achse) in einem vollständigen Plot darstellen und im Bezug auf das Thema \"artesischer Brunnen\" erklären und interpretieren. | Luftfeuchtigkeit direkt an der Erdoberfläche, gemittelt über ein Jahr [%] |\n",
    "| 06  | Iso-Daten einer Region: <br>*mug121_psds_06_isodata.txt* | Geowissenschaften/Meteorologie: <br> Datensatz laden (numpy), Daten richtungsabhängig nach X, Y, Z trennen und in einem vollständigen 2-D Contour-Plot darstellen. Im Bezug auf das Thema \"artesischer Brunnen\" einordnen, interpretieren und vervollständigen. | Unbekannte Einheit [ ], regionaler Bezug. Der Z-Wert ist nicht zwangsläufig im Richtungsbezug zu verstehen, es kann auch ein Messwert gemeint sein. Dies geht nicht aus dem Datensatz hervor. |\n",
    "\n",
    "## Gruppen, Datensatz-Auswahl und Bearbeitungszeit:\n",
    "\n",
    "Die Auswahl, Aufbereitung und Präsentation der Datensätze sollen Sie bitte in Kleingruppen von maximal 4 Personen durchführen. \n",
    "\n",
    "Pro Gruppe wählen Sie **zwei** der verfügbaren Datensätze aus. **Achtung:** Manche Datensätze bestehen aus mehreren Datendateien, die trotzdem als ein Datensatz zählen. Innerhalb der Gruppe ist die Bearbeitung und Aufgabenteilung ganz Ihnen überlassen. Melden Sie sich frühzeitig, wenn es Probleme in der Gruppendynamik oder der bearbeitung gibt, damit wir früh genug eine Lösung finden können.\n",
    "\n",
    "Zur Bearbeitung haben Sie bis zum Termin der Präsentation im Februar Zeit. Dieser wird gesondert per Mail angekündigt.\n",
    "\n",
    "## Verwaltung, Prozessierung und Interpretation - Bearbeitung (Aufbereitung und Darstellung):\n",
    "\n",
    "Die Bearbeitung soll alle Aspekte der wissenschaftlichen Datenverarbeitung umfassen, die wir im Rahmen des Kurses behandelt haben:\n",
    "\n",
    "Bereiten Sie die Aspekte so vor, dass Sie sie mindestens innerhalb des JupyterLabs aufrufen und zeigen können, bestenfalls in einem Präsentations-Notebook.\n",
    "\n",
    "* Ordnerstruktur (Datenstruktur) erstellen, Datendatei(en) ablegen und Metadaten-Datei schreiben\n",
    "* einen Überblick über die Datenstruktur geben (Stichwort `tree`)\n",
    "* Datendatei(en) laden\n",
    "    * Import\n",
    "    * in Variable speichern\n",
    "* Überblick über den Dateninhalt verschaffen\n",
    "    * Ausgabe (print)\n",
    "    * ggf. kleine Statistik\n",
    "    * ggf. aufteilen (Stichwort: Zeilen- und Spalten-Indizierung)\n",
    "* Daten darstellen\n",
    "    * ggf. zusätzliche Berechnungen oder Varianten der Darstellungsform\n",
    "    * Plot\n",
    "    * Plot vervollständigen\n",
    "    * Plot abspeichern\n",
    "\n",
    "Machen Sie sich Gedanken zu den folgenden Fragen und interpretieren Sie Ihren Datensatz vor dem Hintergrund des Themas:\n",
    "\n",
    "* Was zeigt der Datensatz?\n",
    "* Warum ist dieser Datensatz Teil des Themas \"artesischer Brunnen\"?\n",
    "* Gibt es zeitliche Verläufe/Abhängigkeiten/Prozesse oder zeigen die Daten ein bestimmtes Setting?\n",
    "* Was lässt sich aus diesem Datensatz für das Thema \"artesischer Brunnen\" schließen?\n",
    "\n",
    "Schreiben Sie Ihre Antworten stichpunktartig auf, um sie in der Präsentation parat zu haben.\n",
    "\n",
    "\n",
    "## Präsentation:\n",
    "\n",
    "Bereiten Sie Ihren Datensatz so auf, dass Sie diesen gemeinsam 20 Minuten lang (nicht länger) vorstellen können.\n",
    "\n",
    "Dies sollten Sie bestenfalls in der Jupyter-Umgebung in Verbindung mit einem Jupyter-Notebook machen. Nutzen Sie zur Präsentation dann die aus der Vorlesung bekannten Präsentations-Funktionen (Simple Interface und Presentation Mode). \n",
    "\n",
    "So haben Sie auch Ihren Code dabei und können diesen im Laufe der Präsentation und bei Fragen vorzeigen. Bereiten Sie also auch Ihren Code so auf, dass Sie ihn gut präsentieren können.\n",
    "\n",
    "Wichtige Aspekte der Präsentation:\n",
    "\n",
    "* Zeigen Sie Ihre Plots!\n",
    "* Bereiten Sie Ausgaben zur Veranschaulichung des Datensatzes vor.\n",
    "* Nutzen Sie die Möglichkeiten von Markdown-Text und print-Ausgaben.\n",
    "* Teilen Sie die Präsentation sinnvoll unter sich auf.\n",
    "* Denken Sie auch daran, kurz auf Ihre Ordnerstruktur, Metadaten etc. einzugehen. Also alles rund um den Datensatz.\n",
    "\n",
    "## Abgabe als Handout mit Plot:\n",
    "\n",
    "Zusätzlich zu der Präsentation geben Sie bitte ein Handout ab. Dieses soll folgende Form haben:\n",
    "\n",
    "* maximal eine A4-Seite\n",
    "* Schriftgröße 11 mit Zeilenabstand 1.25 \n",
    "* Seitenränder nicht größer als 2.5 cm\n",
    "* Titel, Datum und Namen der Autor*innen\n",
    "\n",
    "### Das Handout soll folgenden Inhalt haben:\n",
    "\n",
    "* Hintergrund/Setting der Datenlage\n",
    "* Zusammenfassung der gewählten Datensätze\n",
    "* Zusammenfassung Ihrer Schritte in Verwaltung, Prozessierung, Interpretation und Darstellung\n",
    "* minimal und maximal eine Abbildung als Übersicht über die Datensätze (subplots!)\n",
    "* Erklärung des Ergebnisplots"
   ]
  },
  {
   "cell_type": "markdown",
   "metadata": {},
   "source": [
    "**Hinweise:**\n",
    "\n",
    "* Nutzen Sie das Internet! Begriffsklärungen können hier auch fachlich schnell weiterhelfen.\n",
    "* Sie benötigen vermutlich die Module `numpy`, `pandas` und `matplotlib.pyplot`.\n",
    "* Mit den Funktionen `ax.axhline`, `ax.axvline` bzw. `plt.hlines`, `plt.vlines` lassen sich horizontale und vertikale Linien in einem Plot ziehen. Das bietet sich an, wenn man markante Punkte/Abschnitte markieren oder Features in einen Plot \"einzeichnen\" möchte.\n",
    "* Zum Kommentieren müssen Sie Ihrem Kommentar die Raute `#` voranstellen. Das kann in einer Zeile hinter oder über/unter dem Code durchgeführt werden.\n",
    "* Sollten Sie auf Fehler stoßen: Nicht verzweifeln! Tippen Sie Ihren Code, überprüfen Sie, ob Sie die Tippfehler gemacht haben und schreiben Sie bei unlösbaren Fehlern einen kurzen Kommentar-Text, was Sie an dem Fehler nicht verstehen. Diesen können Sie auch in Ihrer Präsentation erklären. Fragen Sie generell aber lieber nach!\n",
    "* Starten Sie bei Fehlern ggf. Ihren Kernel neu: Der Kernel sollte oben rechts auf *py3-general* eingestellt sein. Nutzen Sie `Run -> Restart Kernel and Run All Cells`.\n",
    "* Lassen Sie Ihre Antwort \"sprechen\": **Code kommentieren! Und zwar soviel wie möglich!**<br>"
   ]
  },
  {
   "cell_type": "markdown",
   "metadata": {},
   "source": [
    "----"
   ]
  },
  {
   "cell_type": "markdown",
   "metadata": {},
   "source": [
    "Hier die ersten beiden Zeilen für Ihren Beginn: Viel Erfolg!"
   ]
  },
  {
   "cell_type": "markdown",
   "metadata": {},
   "source": []
  },
  {
   "cell_type": "code",
   "execution_count": null,
   "metadata": {},
   "outputs": [],
   "source": []
  },
  {
   "cell_type": "code",
   "execution_count": null,
   "metadata": {},
   "outputs": [],
   "source": []
  }
 ],
 "metadata": {
  "kernelspec": {
   "display_name": "py3-general [conda env:py3-general]",
   "language": "python",
   "name": "conda-env-py3-general-py"
  },
  "language_info": {
   "codemirror_mode": {
    "name": "ipython",
    "version": 3
   },
   "file_extension": ".py",
   "mimetype": "text/x-python",
   "name": "python",
   "nbconvert_exporter": "python",
   "pygments_lexer": "ipython3",
   "version": "3.9.18"
  }
 },
 "nbformat": 4,
 "nbformat_minor": 4
}
