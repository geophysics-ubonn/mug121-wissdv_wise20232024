{
 "cells": [
  {
   "cell_type": "markdown",
   "id": "multiple-winner",
   "metadata": {
    "tags": []
   },
   "source": [
    "----\n",
    "----\n",
    "\n",
    "## Exkurs: Mathematische Operationen\n",
    "\n",
    "Sowohl `numpy` als auch `pandas` haben Methoden und Funktionen für Statistik und numerische oder analytische Operationen.\n",
    "\n",
    "Weitere Operationen aus dem C-Standard erhält man mit den Modulen `math` [python.org - math](https://docs.python.org/3/library/math.html) (für nicht-komplexe Zahlen) und `cmath` [python.org - cmath](https://docs.python.org/3/library/cmath.html) (für komplexe Zahlen).\n",
    "\n",
    "Spezielle Funktionen für Berechnungen im wissenschaftlichen Gebrauch (Algorithmen für Interpolationen, Inversion, Eigenwert-Probleme etc.) sind im Modul `scipy` (*Scientific Python* [scipy.org](https://scipy.org/)) verfügbar.\n",
    "\n",
    "Für die symbolhafte Darstellung in der Mathematik gibt es das Modul `sympy` (*Symbolic Python* [sympy.org](https://www.sympy.org/en/index.html)).\n",
    "\n",
    "-----\n",
    "\n",
    "\n",
    "### Komplexe Zahlen\n",
    "\n",
    "Funktionen für komplexe Zahlen mit `numpy`:\n",
    "\n",
    "```python\n",
    "\n",
    "# komplexe Zahl:\n",
    "c = complex(2, 3)\n",
    "c = 2 + 3j\n",
    "\n",
    "import numpy as np\n",
    "np.real # Realteil\n",
    "np.imag # Imaginärteil\n",
    "np.abs # Betrag\n",
    "np.conjugate # konjugiert Komplexes\n",
    "```\n",
    "\n",
    "Funktionen für komplexe Zahlen mit `cmath`:\n",
    "\n",
    "```python\n",
    "import cmath\n",
    "cmath.polar # Umrechnung in Polarform\n",
    "cmath.rect # Umrechnung in kartesische Form\n",
    "cmath.phase # Berechnung der Phase\n",
    "```\n",
    "----\n",
    "\n"
   ]
  },
  {
   "cell_type": "code",
   "execution_count": 1,
   "id": "rolled-press",
   "metadata": {},
   "outputs": [
    {
     "name": "stdout",
     "output_type": "stream",
     "text": [
      "(2+3j)\n",
      "(1+2j)\n"
     ]
    }
   ],
   "source": [
    "# Codezeile zum Testen\n",
    "\n",
    "import numpy as np\n",
    "\n",
    "c = complex(2, 3)\n",
    "komplexe_zahl = 1 + 2j\n",
    "\n",
    "print(c, komplexe_zahl, sep=\"\\n\")"
   ]
  },
  {
   "cell_type": "markdown",
   "id": "applied-tunisia",
   "metadata": {},
   "source": [
    "---\n",
    "#### **Aufgabe Komplexe Zahlen:**\n",
    "\n",
    "1. Führen Sie für zwei beliebige komplexe Zahlen die folgenden Berechnungen durch:\n",
    "\n",
    "    a) Summe<br>\n",
    "    b) Differenz<br>\n",
    "    c) Produkt<br>\n",
    "    d) Division\n",
    "\n",
    "2. Lassen Sie sich den Real- und Imaginärteil sowie Betrag und konjugiert Komplexes ausgeben.\n",
    "\n",
    "3. Rechnen Sie eine der komplexen Zahlen mit `cmath.polar` in Polarform um. Gibt es Alternativen zu `cmath.polar`? Funktioniert auch die Rückberechnung in die kartesische Form?\n",
    "\n",
    "----"
   ]
  },
  {
   "cell_type": "code",
   "execution_count": 5,
   "id": "handmade-correction",
   "metadata": {},
   "outputs": [
    {
     "name": "stdout",
     "output_type": "stream",
     "text": [
      "(3+5j)\n",
      "(1+1j)\n",
      "(-4+7j)\n",
      "(1.6-0.2j)\n",
      "2.0\n",
      "2.0\n",
      "3.0\n",
      "3.0\n",
      "3.605551275463989\n",
      "(2-3j)\n"
     ]
    }
   ],
   "source": [
    "# Eigener Code zu 1\n",
    "\n",
    "import numpy as np\n",
    "\n",
    "summe = c + komplexe_zahl\n",
    "differenz = c - komplexe_zahl\n",
    "produkt = c * komplexe_zahl\n",
    "quotient = c / komplexe_zahl\n",
    "\n",
    "print(summe, differenz, produkt, quotient, sep=\"\\n\")\n",
    "\n",
    "# Eigener Code zu 2\n",
    "\n",
    "print(np.real(c), c.real, np.imag(c), c.imag, np.abs(c), np.conjugate(c), sep=\"\\n\")"
   ]
  },
  {
   "cell_type": "code",
   "execution_count": 7,
   "id": "stylish-cricket",
   "metadata": {},
   "outputs": [
    {
     "name": "stdout",
     "output_type": "stream",
     "text": [
      "(3.605551275463989, 0.982793723247329)\n",
      "3.605551275463989 0.982793723247329\n",
      "(2+3j)\n"
     ]
    }
   ],
   "source": [
    "# Eigener Code zu 3\n",
    "\n",
    "import numpy as np\n",
    "import cmath\n",
    "\n",
    "polar = cmath.polar(c) # Polardarstellung (Betrag und Phase) wird als Tupel in Variable geschrieben\n",
    "print(polar)\n",
    "\n",
    "phase = cmath.phase(c) # nur Phase\n",
    "betrag = np.abs(c) # nur Betrag\n",
    "print(betrag, phase)\n",
    "\n",
    "polar_r, polar_phi = cmath.polar(c) # zwei Variablen zuweisen, um auf Betrag und Phase separat zugreifen zu können\n",
    "\n",
    "kartesisch = cmath.rect(polar_r, polar_phi) \n",
    "print(kartesisch)\n"
   ]
  },
  {
   "cell_type": "markdown",
   "id": "retired-treatment",
   "metadata": {},
   "source": [
    "----\n",
    "\n",
    "### Lineare Algebra\n",
    "\n",
    "Wichtige Funktionen für lineare Algebra mit NumPy:\n",
    "\n",
    "```python\n",
    "import numpy as np\n",
    "\n",
    "np.dot                # Skalarprodukt\n",
    "np.cross              # Kreuzprodukt\n",
    "np.transpose          # Transponierte\n",
    "np.linalg.det         # Determinante\n",
    "np.linalg.norm        # Betrag (Vektoren und Matrizen)\n",
    "np.linalg.eig         # Eigenwerte und Eigenvektoren\n",
    "\n",
    "np.linalg.solve       # Solver für lineare Gleichungssysteme\n",
    "\n",
    "np.linalg.inv         # Inverse\n",
    "np.linalg.pinv        # Pseudoinverse\n",
    "\n",
    "np.linalg.svd         # Singulärwertzerlegung\n",
    "\n",
    "```\n",
    "\n",
    "Vielleicht nützlich zur Überprüfung von Matheaufgaben :-)\n",
    "\n",
    "----\n"
   ]
  },
  {
   "cell_type": "markdown",
   "id": "democratic-lemon",
   "metadata": {},
   "source": [
    "---\n",
    "#### **Aufgabe Lineare Algebra:**\n",
    "\n",
    "1. Geben Sie für die Matrizen \n",
    "```python\n",
    "A = np.array([[1, 2],[3, 4]])\n",
    "B = np.array([[2, 3], [4, 5]])\n",
    "C = np.array([[1/2, 0, np.sqrt(3)/2], [0, -1, 0],[-np.sqrt(3)/2, 0, 1/2]])\n",
    "```\n",
    "und den Vektor\n",
    "```python\n",
    "b = np.array([np.sqrt(3), -1, 1]) \n",
    "```\n",
    "die Transponierten aus.\n",
    "\n",
    "2. Berechnen Sie für $ A, B, C, b $ alle möglichen (2.1) Determinanten und Normen und (2.2) Inversen/Pseudoinversen.\n",
    "\n",
    "3. Welche Produkte lassen sich zwischen welchen Matrizen/Vektoren mit `np.linalg.dot` sowie `np.linalg.cross` berechnen?\n",
    "\n",
    "4. Lösen Sie mit `np.linalg.solve` das Gleichungssystem  $ Cx=b $ nach $ x $. Überprüfen Sie, ob durch Invertieren von $ C $ und Multiplizieren mit $ b $ das gleiche Ergebnis rauskommt.\n",
    "\n",
    "----"
   ]
  },
  {
   "cell_type": "code",
   "execution_count": 10,
   "id": "appreciated-rough",
   "metadata": {},
   "outputs": [
    {
     "name": "stdout",
     "output_type": "stream",
     "text": [
      "[[1 2]\n",
      " [3 4]]\n",
      "\n",
      "[[1 3]\n",
      " [2 4]]\n",
      "\n",
      "[[2 3]\n",
      " [4 5]]\n",
      "\n",
      "[[2 4]\n",
      " [3 5]]\n",
      "\n",
      "[[ 0.5        0.         0.8660254]\n",
      " [ 0.        -1.         0.       ]\n",
      " [-0.8660254  0.         0.5      ]]\n",
      "\n",
      "[[ 0.5        0.        -0.8660254]\n",
      " [ 0.        -1.         0.       ]\n",
      " [ 0.8660254  0.         0.5      ]]\n",
      "\n",
      "[[ 1.73205081]\n",
      " [-1.        ]\n",
      " [ 1.        ]]\n",
      "\n",
      "[[ 1.73205081 -1.          1.        ]]\n",
      "\n",
      "[[ 1.73205081]\n",
      " [-1.        ]\n",
      " [ 1.        ]]\n"
     ]
    }
   ],
   "source": [
    "# Eigener Code zu 1\n",
    "\n",
    "import numpy as np\n",
    "\n",
    "A = np.array([[1, 2],\n",
    "              [3, 4]])\n",
    "\n",
    "B = np.array([[2, 3],\n",
    "              [4, 5]])\n",
    "\n",
    "C = np.array([[1/2, 0, np.sqrt(3)/2],\n",
    "              [0, -1, 0],\n",
    "              [-np.sqrt(3)/2, 0, 1/2]])\n",
    "            \n",
    "b = np.array([[np.sqrt(3)],\n",
    "              [-1],\n",
    "              [1]]) # als Spaltenvektor\n",
    "            \n",
    "b_alternativ = np.array([np.sqrt(3), -1, 1]).reshape((3, 1)) # Übergabe als Spaltenvektor via reshape\n",
    "\n",
    "print(A, np.transpose(A), B, np.transpose(B), C, np.transpose(C), b, np.transpose(b), b_alternativ, sep=\"\\n\\n\")\n"
   ]
  },
  {
   "cell_type": "code",
   "execution_count": 14,
   "id": "comparable-plaza",
   "metadata": {},
   "outputs": [
    {
     "name": "stdout",
     "output_type": "stream",
     "text": [
      "-2.0000000000000004 5.477225575051661\n",
      "-2.0 7.3484692283495345\n",
      "-0.9999999999999999 1.7320508075688772\n",
      "2.23606797749979\n"
     ]
    }
   ],
   "source": [
    "# Eigener Code zu 2.1\n",
    "\n",
    "detA = np.linalg.det(A)\n",
    "detB = np.linalg.det(B)\n",
    "detC = np.linalg.det(C)\n",
    "#detb = np.linalg.det(b) # Fehler wegen falscher Dimension, Determinante nur bei quadratischen Matrizen möglich\n",
    "\n",
    "\n",
    "normA = np.linalg.norm(A)\n",
    "normB = np.linalg.norm(B)\n",
    "normC = np.linalg.norm(C)\n",
    "normb = np.linalg.norm(b)\n",
    "\n",
    "print(detA, normA)\n",
    "print(detB, normB)\n",
    "print(detC, normC)\n",
    "print(normb)"
   ]
  },
  {
   "cell_type": "code",
   "execution_count": 16,
   "id": "aerial-female",
   "metadata": {},
   "outputs": [
    {
     "name": "stdout",
     "output_type": "stream",
     "text": [
      "[[-2.   1. ]\n",
      " [ 1.5 -0.5]] \n",
      "\n",
      "[[-2.5  1.5]\n",
      " [ 2.  -1. ]] \n",
      "\n",
      "[[ 0.5       -0.        -0.8660254]\n",
      " [-0.        -1.        -0.       ]\n",
      " [ 0.8660254  0.         0.5      ]] \n",
      "\n",
      "[[ 0.34641016 -0.2         0.2       ]] \n",
      "\n"
     ]
    }
   ],
   "source": [
    "# Eigener Code zu 2.2\n",
    "\n",
    "invA = np.linalg.inv(A)\n",
    "invB = np.linalg.inv(B)\n",
    "invC = np.linalg.inv(C)\n",
    "pinvb = np.linalg.pinv(b) #da inv = Inverse nur bei quadratischen Matrizen möglich, hier pinv = Pseudoinverse\n",
    "\n",
    "print(invA,\"\\n\")\n",
    "print(invB,\"\\n\")\n",
    "print(invC,\"\\n\")\n",
    "print(pinvb,\"\\n\")\n"
   ]
  },
  {
   "cell_type": "code",
   "execution_count": 25,
   "id": "coral-pocket",
   "metadata": {},
   "outputs": [
    {
     "name": "stdout",
     "output_type": "stream",
     "text": [
      "[[10 13]\n",
      " [22 29]]\n",
      "\n",
      "[[ 2  6]\n",
      " [12 20]]\n",
      "\n",
      "[[11 16]\n",
      " [19 28]]\n",
      "\n",
      "[[1.0000000e+00 0.0000000e+00]\n",
      " [8.8817842e-16 1.0000000e+00]]\n",
      "\n",
      "[[1.00000000e+00 0.00000000e+00]\n",
      " [1.11022302e-16 1.00000000e+00]]\n",
      "[[ 1.73205081]\n",
      " [ 1.        ]\n",
      " [-1.        ]]\n",
      "[[0. 0. 0.]]\n"
     ]
    }
   ],
   "source": [
    "# Eigener Code zu 3\n",
    "\n",
    "AB = np.dot(A, B) # Matrizenprodukt\n",
    "AmalB = A * B # Vorsicht: Keine mathematische Entsprechung! Komponentenweise Multiplikation\n",
    "\n",
    "BA = np.dot(B, A)\n",
    "\n",
    "AinvA = np.dot(A, invA)\n",
    "invAA = np.dot(invA, A)\n",
    "\n",
    "print(AB, AmalB, BA, AinvA, invAA, sep=\"\\n\\n\")\n",
    "\n",
    "\n",
    "Cb = np.dot(C, b) # auch Produkt Matrix mal Vektor\n",
    "#bC = np.dot(b, C) # Fehler, da Dimension für das Produkt nicht stimmt\n",
    "\n",
    "kreuz = np.cross(b.reshape(1, 3), b.reshape(1, 3)) # erwartet Zeilenvektor als Eingabe, daher mit reshape Dimension anpassen\n",
    "\n",
    "print(Cb, kreuz, sep=\"\\n\")"
   ]
  },
  {
   "cell_type": "code",
   "execution_count": 29,
   "id": "considerable-mexico",
   "metadata": {
    "tags": []
   },
   "outputs": [
    {
     "name": "stdout",
     "output_type": "stream",
     "text": [
      "[[-0.]\n",
      " [ 1.]\n",
      " [ 2.]]\n",
      "[[0.]\n",
      " [1.]\n",
      " [2.]]\n"
     ]
    }
   ],
   "source": [
    "# Eigener Code zu 4\n",
    "\n",
    "print(np.linalg.solve(C, b)) # GLS Cx=b nach x lösen\n",
    "\n",
    "x = np.dot(invC, b) # Probe durch auflösen x = C^(-1)b und x ausrechnen\n",
    "print(x)"
   ]
  },
  {
   "cell_type": "code",
   "execution_count": 33,
   "id": "concerned-defeat",
   "metadata": {
    "tags": []
   },
   "outputs": [
    {
     "name": "stdout",
     "output_type": "stream",
     "text": [
      "(array([-0.37228132,  5.37228132]), array([[-0.82456484, -0.41597356],\n",
      "       [ 0.56576746, -0.90937671]]))\n",
      "[-0.37228132  5.37228132] [[-0.82456484 -0.41597356]\n",
      " [ 0.56576746 -0.90937671]]\n",
      "(array([[-0.40455358, -0.9145143 ],\n",
      "       [-0.9145143 ,  0.40455358]]), array([5.4649857 , 0.36596619]), array([[-0.57604844, -0.81741556],\n",
      "       [ 0.81741556, -0.57604844]]))\n"
     ]
    }
   ],
   "source": [
    "# Exkurs Eigenwerte und Singulärwertzerlegung\n",
    "\n",
    "print(np.linalg.eig(A)) # Eigenwerte und Eigenvektoren werden berechnet und jeweils als array gespreichert\n",
    "eigenwerte, eigenvektoren = np.linalg.eig(A) # Zuweisen von zwei Variablen, um auf Eigenwerte und Eigenvektoren separat zugreifen zu können\n",
    "print(eigenwerte, eigenvektoren)\n",
    "\n",
    "print(np.linalg.svd(A)) # Ergebnis ist array bestehend aus symmetrische Matrix, Singulärwerte, transponierte einer anderen symmetrischen Matrix"
   ]
  },
  {
   "cell_type": "markdown",
   "id": "celtic-introduction",
   "metadata": {
    "tags": []
   },
   "source": [
    "----\n",
    "### Regression\n",
    "\n",
    "Wichtige Funktionen für Regressionen:\n",
    "\n",
    "```python\n",
    "import numpy\n",
    "\n",
    "np.polyfit() # Fit von Polynomen von Grad n\n",
    "np.polyval() # entsprechende Werteverteilung\n",
    "\n",
    "```\n",
    "\n",
    "----\n",
    "\n",
    "Andere Bibliotheken:<br>\n",
    "beispielsweise\n",
    "\n",
    "```python\n",
    "import scipy.stats as scstats\n",
    "\n",
    "scstats.linregress() # lineare Regression\n",
    "\n",
    "```\n",
    "----\n",
    "\n",
    "#### **Aufgabe zur Regression:**\n",
    "\n",
    "Ermitteln Sie zu\n",
    "```python\n",
    "x = np.linspace(0, 10, 10)\n",
    "y = [1, 2, 3, 2, 6, 8, 6, 9, 10, 8]\n",
    "```\n",
    "eine polynomielle Regression zweiten und fünften Grades.\n",
    "\n",
    "Plotten Sie die Datenpunkte und die zwei Regressionen als Funktionen in einer geeigneten Darstellung.\n",
    "\n",
    "----"
   ]
  },
  {
   "cell_type": "code",
   "execution_count": 34,
   "id": "appropriate-strike",
   "metadata": {},
   "outputs": [
    {
     "data": {
      "image/png": "[encoded data removed]",
      "text/plain": [
       "<Figure size 432x288 with 1 Axes>"
      ]
     },
     "metadata": {
      "needs_background": "light"
     },
     "output_type": "display_data"
    }
   ],
   "source": [
    "# Eigener Code\n",
    "\n",
    "import numpy as np\n",
    "import matplotlib.pyplot as plt\n",
    "\n",
    "x = np.linspace(0, 10, 10)\n",
    "y = [1, 2, 3, 2, 6, 8, 6, 9, 10, 8]\n",
    "\n",
    "regression2 = np.polyfit(x, y, 2)\n",
    "werte2 = np.polyval(regression2, x)\n",
    "\n",
    "regression5 = np.polyfit(x, y, 5)\n",
    "werte5 = np.polyval(regression5, x)\n",
    "\n",
    "\n",
    "plt.scatter(x, y)\n",
    "plt.plot(x, werte2, \"r-\", x, werte5, \"k--\")\n",
    "plt.show()\n"
   ]
  },
  {
   "cell_type": "code",
   "execution_count": 36,
   "id": "vulnerable-workshop",
   "metadata": {},
   "outputs": [
    {
     "data": {
      "image/png": "[encoded data removed]",
      "text/plain": [
       "<Figure size 432x288 with 1 Axes>"
      ]
     },
     "metadata": {
      "needs_background": "light"
     },
     "output_type": "display_data"
    }
   ],
   "source": [
    "#Alternative, um bei wenigen Datenpunkten glattere Regressionsfunktionen zu erhalten\n",
    "\n",
    "import numpy as np\n",
    "import matplotlib.pyplot as plt\n",
    "\n",
    "x = np.linspace(0, 10, 10)\n",
    "y = [1, 2, 3, 2, 6, 8, 6, 9, 10, 8]\n",
    "\n",
    "regression2 = np.polyfit(x, y, 2)\n",
    "p2 = np.poly1d(regression2)\n",
    "\n",
    "regression5 = np.polyfit(x, y, 5)\n",
    "p5 = np.poly1d(regression5)\n",
    "\n",
    "xp = np.linspace(0, 10, 100)\n",
    "\n",
    "plt.scatter(x, y)\n",
    "plt.plot(xp, p2(xp), \"r-\", xp, p5(xp), \"k--\")\n",
    "plt.show()\n"
   ]
  },
  {
   "cell_type": "markdown",
   "id": "convertible-interpretation",
   "metadata": {
    "tags": []
   },
   "source": [
    "----\n",
    "### Symbolisches Python\n",
    "\n",
    "Mit SymPy (symbolisches Python) können Sie Integrale oder Ableitungen symbolisch berechnen oder Differenzialgleichungen symbolisch lösen. Auch die Vereinfachung mathematischer Terme ist möglich.\n",
    "\n",
    "Modul `sympy` (*Symbolic Python* [sympy.org](https://www.sympy.org/en/index.html)) mit vielen Beispielen, auch zum [Plotten in SymPy](https://docs.sympy.org/latest/modules/plotting.html).\n",
    "\n",
    "```python\n",
    "from sympy import symbols\n",
    "from sympy import diff, integrate\n",
    "\n",
    "x = symbols(\"x\")\n",
    "y = x**3-7*x**2+7*x+15\n",
    "y_1 = diff(y, x, 1)\n",
    "y_2 = diff(y, x, 2)\n",
    "y_3 = diff(y, x, 3)\n",
    "\n",
    "Y = integrate(y,x)\n",
    "\n",
    "```\n",
    "----\n",
    "----"
   ]
  },
  {
   "cell_type": "code",
   "execution_count": 37,
   "id": "natural-quest",
   "metadata": {},
   "outputs": [
    {
     "data": {
      "text/latex": [
       "$\\displaystyle x^{3} - 7 x^{2} + 7 x + 15$"
      ],
      "text/plain": [
       "x**3 - 7*x**2 + 7*x + 15"
      ]
     },
     "execution_count": 37,
     "metadata": {},
     "output_type": "execute_result"
    }
   ],
   "source": [
    "# Codezeile zum Testen der Symbole\n",
    "\n",
    "from sympy import symbols\n",
    "\n",
    "x = symbols(\"x\")\n",
    "y = x**3-7*x**2+7*x+15\n",
    "y"
   ]
  },
  {
   "cell_type": "code",
   "execution_count": 38,
   "id": "excess-disease",
   "metadata": {},
   "outputs": [
    {
     "data": {
      "text/latex": [
       "$\\displaystyle \\left(x + 2\\right)^{5}$"
      ],
      "text/plain": [
       "(x + 2)**5"
      ]
     },
     "execution_count": 38,
     "metadata": {},
     "output_type": "execute_result"
    }
   ],
   "source": [
    "(x + 2)**5"
   ]
  },
  {
   "cell_type": "markdown",
   "id": "danish-candle",
   "metadata": {},
   "source": [
    "---\n",
    "#### **Aufgabe SymPy:**\n",
    "\n",
    "1. Was machen `expand`, `factor`, `ratsimp` und `simplify`?\n",
    "\n",
    "2. Leiten Sie die Funktion $ y $ von oben drei mal ab und berechnen Sie die Stammfunktion.\n",
    "\n",
    "3. Nutzen Sie `solve` sowie `subs` neben der Ableitungen für eine Kurvendiskussion der Funktion $ x^3 - x^2 $.\n",
    "\n",
    "4. Wie lassen sich (4.1) bestimmte Integrale und (4.2) uneigentliche Integrale bestimmen?\n",
    "\n",
    "5. Testen Sie die Plot-Funktion in `sympy`.\n",
    "\n",
    "----"
   ]
  },
  {
   "cell_type": "code",
   "execution_count": 40,
   "id": "considerable-estimate",
   "metadata": {},
   "outputs": [
    {
     "data": {
      "text/latex": [
       "$\\displaystyle x^{5} + 10 x^{4} + 40 x^{3} + 80 x^{2} + 80 x + 32$"
      ],
      "text/plain": [
       "x**5 + 10*x**4 + 40*x**3 + 80*x**2 + 80*x + 32"
      ]
     },
     "execution_count": 40,
     "metadata": {},
     "output_type": "execute_result"
    }
   ],
   "source": [
    "# Eigener Code zu 1\n",
    "\n",
    "from sympy import expand\n",
    "\n",
    "expand((x + 2)**5) # Ausmultiplizieren"
   ]
  },
  {
   "cell_type": "code",
   "execution_count": 44,
   "id": "presidential-count",
   "metadata": {},
   "outputs": [
    {
     "data": {
      "text/latex": [
       "$\\displaystyle \\left(x + 1\\right)^{2}$"
      ],
      "text/plain": [
       "(x + 1)**2"
      ]
     },
     "execution_count": 44,
     "metadata": {},
     "output_type": "execute_result"
    }
   ],
   "source": [
    "from sympy import factor\n",
    "factor(x**2 + 2*x + 1) # Faktorisieren"
   ]
  },
  {
   "cell_type": "code",
   "execution_count": 46,
   "id": "center-crawford",
   "metadata": {},
   "outputs": [
    {
     "data": {
      "text/latex": [
       "$\\displaystyle x^{2} \\left(3 x^{3} + 7\\right)$"
      ],
      "text/plain": [
       "x**2*(3*x**3 + 7)"
      ]
     },
     "execution_count": 46,
     "metadata": {},
     "output_type": "execute_result"
    }
   ],
   "source": [
    "factor(3*x**5 + 7*x**2)"
   ]
  },
  {
   "cell_type": "code",
   "execution_count": 50,
   "id": "touched-possession",
   "metadata": {},
   "outputs": [
    {
     "data": {
      "text/latex": [
       "$\\displaystyle \\frac{x_{1} + x_{2}}{x_{1} x_{2}}$"
      ],
      "text/plain": [
       "(x1 + x2)/(x1*x2)"
      ]
     },
     "execution_count": 50,
     "metadata": {},
     "output_type": "execute_result"
    }
   ],
   "source": [
    "from sympy import ratsimp\n",
    "\n",
    "x1, x2 = symbols('x1 x2')\n",
    "ratsimp(1/x1 + 1/x2) # Gebrochenrationale Funktionen vereinfachen"
   ]
  },
  {
   "cell_type": "code",
   "execution_count": 51,
   "id": "latin-mechanics",
   "metadata": {},
   "outputs": [
    {
     "data": {
      "text/latex": [
       "$\\displaystyle 1$"
      ],
      "text/plain": [
       "1"
      ]
     },
     "execution_count": 51,
     "metadata": {},
     "output_type": "execute_result"
    }
   ],
   "source": [
    "import sympy # ganzes Modul sympy wird importiert, es muss aber sympy. vor alle sympy-Funktionen geschrieben werden\n",
    "\n",
    "sympy.simplify(sympy.sin(x)**2 + sympy.cos(x)**2) # Vereinfachen"
   ]
  },
  {
   "cell_type": "code",
   "execution_count": 83,
   "id": "charitable-cemetery",
   "metadata": {},
   "outputs": [
    {
     "name": "stdout",
     "output_type": "stream",
     "text": [
      "3*x**2 - 14*x + 7\n",
      "2*(3*x - 7)\n",
      "6\n",
      "x**4/4 - 7*x**3/3 + 7*x**2/2 + 15*x\n"
     ]
    }
   ],
   "source": [
    "# Eigener Code zu 2\n",
    "\n",
    "#import sympy\n",
    "import sympy as sy # Import analog zu numpy mit einem Kürzel\n",
    "\n",
    "x = sy.symbols(\"x\")\n",
    "y = x**3-7*x**2+7*x+15\n",
    "\n",
    "y_1 = sy.diff(y, x, 1) # erste Ableitung von y bzgl. x\n",
    "y_2 = sy.diff(y, x, 2) # zweite Ableitung von y bzgl. x\n",
    "y_3 = sy.diff(y, x, 3) # dritte Ableitung von y bzgl. x\n",
    "\n",
    "Y = sy.integrate(y,x) # Stammfunktion (unbestimmtes Integral) von y bzgl. x\n",
    "\n",
    "print(y_1, y_2, y_3, Y, sep=\"\\n\") # Ausgabe ohne interpretiertes Python"
   ]
  },
  {
   "cell_type": "code",
   "execution_count": 74,
   "id": "sophisticated-korea",
   "metadata": {},
   "outputs": [
    {
     "data": {
      "text/latex": [
       "$\\displaystyle - \\sin{\\left(x \\right)}$"
      ],
      "text/plain": [
       "-sin(x)"
      ]
     },
     "execution_count": 74,
     "metadata": {},
     "output_type": "execute_result"
    }
   ],
   "source": [
    "# Exkurs zu diff, Eq, solve und subs\n",
    "\n",
    "from sympy import * # Vorsicht! * überschreibt alle Funktionen mit den SymPy-Funktionen! Nur sehr sorgsam nutzen\n",
    "x, y, t, a = symbols(\"x y t a\") # mehrere Symbole können auch gleichzeitig definiert werden\n",
    "\n",
    "funktion1 = cos(x)\n",
    "ableitung1 = diff(funktion1, x)\n",
    "ableitung1"
   ]
  },
  {
   "cell_type": "code",
   "execution_count": 60,
   "id": "major-deployment",
   "metadata": {},
   "outputs": [
    {
     "data": {
      "text/latex": [
       "$\\displaystyle \\frac{\\left(\\frac{x^{6} \\left(- 12 x^{3} - 1\\right)}{\\left(3 x^{4} + x + 2\\right)^{2}} + \\frac{6 x^{5}}{3 x^{4} + x + 2}\\right) \\left(3 x^{4} + x + 2\\right)}{x^{6}}$"
      ],
      "text/plain": [
       "(x**6*(-12*x**3 - 1)/(3*x**4 + x + 2)**2 + 6*x**5/(3*x**4 + x + 2))*(3*x**4 + x + 2)/x**6"
      ]
     },
     "execution_count": 60,
     "metadata": {},
     "output_type": "execute_result"
    }
   ],
   "source": [
    "funktion2 = log(x**6/(2+x+3*x**4))\n",
    "ableitung2 = diff(funktion2, x)\n",
    "ableitung2"
   ]
  },
  {
   "cell_type": "code",
   "execution_count": 61,
   "id": "elder-czech",
   "metadata": {},
   "outputs": [
    {
     "data": {
      "text/latex": [
       "$\\displaystyle \\frac{2 t e^{- t^{2}}}{\\left(1 + e^{- t^{2}}\\right)^{2}}$"
      ],
      "text/plain": [
       "2*t*exp(-t**2)/(1 + exp(-t**2))**2"
      ]
     },
     "execution_count": 61,
     "metadata": {},
     "output_type": "execute_result"
    }
   ],
   "source": [
    "funktion3 = 1/(1+exp(-t**2))\n",
    "ableitung3 = diff(funktion3, t)\n",
    "ableitung3"
   ]
  },
  {
   "cell_type": "code",
   "execution_count": 62,
   "id": "sophisticated-infrastructure",
   "metadata": {},
   "outputs": [
    {
     "data": {
      "text/latex": [
       "$\\displaystyle - \\frac{a e^{- a y} \\log{\\left(\\cos{\\left(y \\right)} \\right)}}{\\log{\\left(10 \\right)}} - \\frac{e^{- a y} \\sin{\\left(y \\right)}}{\\log{\\left(10 \\right)} \\cos{\\left(y \\right)}}$"
      ],
      "text/plain": [
       "-a*exp(-a*y)*log(cos(y))/log(10) - exp(-a*y)*sin(y)/(log(10)*cos(y))"
      ]
     },
     "execution_count": 62,
     "metadata": {},
     "output_type": "execute_result"
    }
   ],
   "source": [
    "funktion4 = exp(-a*y)*log(cos(y), 10)\n",
    "ableitung4 = diff(funktion4, y)\n",
    "ableitung4"
   ]
  },
  {
   "cell_type": "code",
   "execution_count": 64,
   "id": "micro-observer",
   "metadata": {},
   "outputs": [
    {
     "data": {
      "text/latex": [
       "$\\displaystyle a x^{2} + b x + c = 0$"
      ],
      "text/plain": [
       "Eq(a*x**2 + b*x + c, 0)"
      ]
     },
     "execution_count": 64,
     "metadata": {},
     "output_type": "execute_result"
    }
   ],
   "source": [
    "from sympy import *\n",
    "a, b, c = symbols('a b c')\n",
    "gleichung = Eq(a*x**2 + b*x + c, 0)\n",
    "gleichung"
   ]
  },
  {
   "cell_type": "code",
   "execution_count": 68,
   "id": "latest-graham",
   "metadata": {},
   "outputs": [
    {
     "data": {
      "text/plain": [
       "[(-b + sqrt(-4*a*c + b**2))/(2*a), -(b + sqrt(-4*a*c + b**2))/(2*a)]"
      ]
     },
     "execution_count": 68,
     "metadata": {},
     "output_type": "execute_result"
    }
   ],
   "source": [
    "solve(gleichung, x) # Gleichung nach x lösen; es gibt zwei Lösungen, die als Tupel ausgegeben werden"
   ]
  },
  {
   "cell_type": "code",
   "execution_count": 71,
   "id": "other-heater",
   "metadata": {},
   "outputs": [
    {
     "data": {
      "text/latex": [
       "$\\displaystyle \\frac{- b + \\sqrt{- 4 a c + b^{2}}}{2 a}$"
      ],
      "text/plain": [
       "(-b + sqrt(-4*a*c + b**2))/(2*a)"
      ]
     },
     "execution_count": 71,
     "metadata": {},
     "output_type": "execute_result"
    }
   ],
   "source": [
    "(-b + sqrt(-4*a*c + b**2))/(2*a) # erste Lösung interpretiert anschauen"
   ]
  },
  {
   "cell_type": "code",
   "execution_count": 73,
   "id": "closed-clark",
   "metadata": {},
   "outputs": [
    {
     "data": {
      "text/plain": [
       "[1, 2]"
      ]
     },
     "execution_count": 73,
     "metadata": {},
     "output_type": "execute_result"
    }
   ],
   "source": [
    "solve(gleichung.subs({a:1, b:-3, c:2})) # Lösungsmenge für bestimmte Variablen a, b und c"
   ]
  },
  {
   "cell_type": "code",
   "execution_count": 78,
   "id": "musical-karen",
   "metadata": {},
   "outputs": [
    {
     "name": "stdout",
     "output_type": "stream",
     "text": [
      "Nullstellen: [0, 1]\n",
      "Extremstellen: [0, 2/3] \n",
      " Wendestellen: [1/3]\n",
      "y-Werte der Nullstellen: 0 0 \n",
      " y-Werte der Extremstellen: -4/27 \n",
      " y-Wert der Wendestelle: -2/27\n",
      "Krümmung: 2\n"
     ]
    }
   ],
   "source": [
    "# Eigener Code zu 3\n",
    "\n",
    "from sympy import *\n",
    "\n",
    "x = Symbol('x')\n",
    "\n",
    "s = x**3 - x**2\n",
    "\n",
    "Nullstellen = solve(s, x)\n",
    "print('Nullstellen:', Nullstellen)\n",
    "\n",
    "abl1 = diff(s, x)\n",
    "abl2 = diff(s, x, 2)\n",
    "\n",
    "Extremstelle = solve(abl1, x)\n",
    "Wendestelle = solve(abl2, x)\n",
    "print('Extremstellen:',Extremstelle, '\\n', 'Wendestellen:', Wendestelle)\n",
    "\n",
    "n1 = s.subs(x, Nullstellen[0])\n",
    "n2 = s.subs(x, Nullstellen[1])\n",
    "ext1 = s.subs(x, Extremstelle[1])\n",
    "wen1 = s.subs(x, Wendestelle[0])\n",
    "print('y-Werte der Nullstellen:', n1, n2,'\\n', 'y-Werte der Extremstellen:', ext1,'\\n', 'y-Wert der Wendestelle:', wen1)\n",
    "\n",
    "kr = abs(abl2.subs(x, 0))/(sqrt(1+abl1.subs(x, 0)**2))**3\n",
    "print('Krümmung:', kr)\n",
    "\n"
   ]
  },
  {
   "cell_type": "code",
   "execution_count": 81,
   "id": "engaging-catalyst",
   "metadata": {},
   "outputs": [
    {
     "name": "stdout",
     "output_type": "stream",
     "text": [
      "-28 + sin(5)/5 - exp(-2)/2 + sin(15)/5 + exp(6)/2\n",
      "1\n",
      "-1/6 + 5*sqrt(5)/6\n",
      "-3/4 + 2*log(2)\n",
      "0\n"
     ]
    }
   ],
   "source": [
    "# Eigener Code zu 4.1\n",
    "\n",
    "from sympy import *\n",
    "\n",
    "x = symbols('x')\n",
    "a = 5\n",
    "\n",
    "f1 = exp(2*x)+cos(a*x)-3*x**2\n",
    "f2 = abs(x)\n",
    "f3 = sqrt(4*x-3)\n",
    "f4 = x*log(x)\n",
    "f5 = sin(x)*cos(x)\n",
    "\n",
    "int1 = integrate(f1, (x, -1, 3)) # bestimmte Integrale mit Grenzen von.. bis..\n",
    "int2 = integrate(f2, (x, -1, 1))\n",
    "int3 = integrate(f3, (x, 1, 2))\n",
    "int4 = integrate(f4, (x, 1, 2))\n",
    "int5 = integrate(f5, (x, 0, pi))\n",
    "\n",
    "print(int1, int2, int3, int4, int5, sep=\"\\n\")\n"
   ]
  },
  {
   "cell_type": "code",
   "execution_count": 82,
   "id": "intimate-office",
   "metadata": {},
   "outputs": [
    {
     "name": "stdout",
     "output_type": "stream",
     "text": [
      "oo\n",
      "1.33333333333333\n",
      "3\n"
     ]
    }
   ],
   "source": [
    "# Eigener Code zu 4.2\n",
    "\n",
    "from sympy import *\n",
    "\n",
    "x = Symbol('x')\n",
    "\n",
    "integrand1 = 1/(x**2)\n",
    "integrand2 = x**(-0.25)\n",
    "integrand3 = 3/(x**2)\n",
    "\n",
    "integral1 = integrate(integrand1, (x, 0, 1))\n",
    "integral2 = integrate(integrand2, (x, 0, 1))\n",
    "integral3 = integrate(integrand3, (x, 1, oo)) # für Unendlich oo eintragen\n",
    "\n",
    "print(integral1, integral2, integral3, sep=\"\\n\")\n"
   ]
  },
  {
   "cell_type": "code",
   "execution_count": 84,
   "id": "arctic-scanning",
   "metadata": {
    "tags": []
   },
   "outputs": [
    {
     "data": {
      "image/png": "[encoded data removed]",
      "text/plain": [
       "<Figure size 432x288 with 1 Axes>"
      ]
     },
     "metadata": {
      "needs_background": "light"
     },
     "output_type": "display_data"
    },
    {
     "data": {
      "text/plain": [
       "<sympy.plotting.plot.Plot at 0x7f062384a760>"
      ]
     },
     "execution_count": 84,
     "metadata": {},
     "output_type": "execute_result"
    }
   ],
   "source": [
    "# Eigener Code zu 5\n",
    "\n",
    "from sympy.plotting import plot\n",
    "\n",
    "plot(funktion1, ableitung1, (x, -np.pi, np.pi))"
   ]
  },
  {
   "cell_type": "code",
   "execution_count": 85,
   "id": "loaded-victoria",
   "metadata": {
    "tags": []
   },
   "outputs": [
    {
     "data": {
      "image/png": "[encoded data removed]",
      "text/plain": [
       "<Figure size 432x288 with 1 Axes>"
      ]
     },
     "metadata": {
      "needs_background": "light"
     },
     "output_type": "display_data"
    },
    {
     "data": {
      "text/plain": [
       "<sympy.plotting.plot.Plot at 0x7f06239bbf10>"
      ]
     },
     "execution_count": 85,
     "metadata": {},
     "output_type": "execute_result"
    }
   ],
   "source": [
    "plot(funktion3, ableitung3)"
   ]
  },
  {
   "cell_type": "code",
   "execution_count": 87,
   "id": "integral-belly",
   "metadata": {},
   "outputs": [
    {
     "name": "stdout",
     "output_type": "stream",
     "text": [
      "1 - x**2 + O(x**3)\n",
      "exp(-1) - 2*(x - 1)*exp(-1) + (x - 1)**2*exp(-1) + O((x - 1)**3, (x, 1))\n"
     ]
    },
    {
     "data": {
      "text/plain": [
       "[<matplotlib.lines.Line2D at 0x7f0623576340>,\n",
       " <matplotlib.lines.Line2D at 0x7f0623576370>,\n",
       " <matplotlib.lines.Line2D at 0x7f0623576430>]"
      ]
     },
     "execution_count": 87,
     "metadata": {},
     "output_type": "execute_result"
    },
    {
     "data": {
      "image/png": "[encoded data removed]",
      "text/plain": [
       "<Figure size 432x288 with 1 Axes>"
      ]
     },
     "metadata": {
      "needs_background": "light"
     },
     "output_type": "display_data"
    }
   ],
   "source": [
    "# Beispiel Taylorreihe\n",
    "\n",
    "import numpy as np\n",
    "from sympy import *\n",
    "import matplotlib as mpl\n",
    "import matplotlib.pyplot as plt\n",
    "%matplotlib inline\n",
    "\n",
    "x = S('x')\n",
    "\n",
    "f = exp(-x**2)\n",
    "\n",
    "#Taylorreihe im Entwicklungspunkt 0 bis Grad 2 (also ausschliesslich 3)\n",
    "T1 = f.series(x, 0, 3)\n",
    "print(T1)\n",
    "\n",
    "#Taylorreihe im Entwicklungspunkt 1 bis Grad 2 (also ausschliesslich 3)\n",
    "T2 = f.series(x, 1, 3)\n",
    "print(T2)\n",
    "\n",
    "xwerte = np.linspace(-np.pi/2, np.pi/2, 50)\n",
    "fwerte = np.exp(-xwerte**2)\n",
    "T1werte = 1 - xwerte**2\n",
    "T2werte = np.exp(-1) - 2*(xwerte - 1)*np.exp(-1) + (xwerte - 1)**2*np.exp(-1)\n",
    "\n",
    "plt.plot(xwerte, fwerte, xwerte, T1werte, xwerte, T2werte)"
   ]
  },
  {
   "cell_type": "code",
   "execution_count": 90,
   "id": "several-mauritius",
   "metadata": {},
   "outputs": [
    {
     "data": {
      "text/latex": [
       "$\\displaystyle 1 - x^{2} + O\\left(x^{3}\\right)$"
      ],
      "text/plain": [
       "1 - x**2 + O(x**3)"
      ]
     },
     "execution_count": 90,
     "metadata": {},
     "output_type": "execute_result"
    }
   ],
   "source": [
    "T1"
   ]
  },
  {
   "cell_type": "code",
   "execution_count": 91,
   "id": "pursuant-gospel",
   "metadata": {},
   "outputs": [
    {
     "data": {
      "text/latex": [
       "$\\displaystyle e^{-1} - \\frac{2 \\left(x - 1\\right)}{e} + \\frac{\\left(x - 1\\right)^{2}}{e} + O\\left(\\left(x - 1\\right)^{3}; x\\rightarrow 1\\right)$"
      ],
      "text/plain": [
       "exp(-1) - 2*(x - 1)*exp(-1) + (x - 1)**2*exp(-1) + O((x - 1)**3, (x, 1))"
      ]
     },
     "execution_count": 91,
     "metadata": {},
     "output_type": "execute_result"
    }
   ],
   "source": [
    "T2"
   ]
  },
  {
   "cell_type": "code",
   "execution_count": null,
   "id": "intermediate-melissa",
   "metadata": {},
   "outputs": [],
   "source": []
  }
 ],
 "metadata": {
  "kernelspec": {
   "display_name": "py3-general [conda env:py3-general]",
   "language": "python",
   "name": "conda-env-py3-general-py"
  },
  "language_info": {
   "codemirror_mode": {
    "name": "ipython",
    "version": 3
   },
   "file_extension": ".py",
   "mimetype": "text/x-python",
   "name": "python",
   "nbconvert_exporter": "python",
   "pygments_lexer": "ipython3",
   "version": "3.9.18"
  }
 },
 "nbformat": 4,
 "nbformat_minor": 5
}
