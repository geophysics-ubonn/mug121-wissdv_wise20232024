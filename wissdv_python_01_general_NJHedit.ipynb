{
 "cells": [
  {
   "cell_type": "markdown",
   "metadata": {},
   "source": [
    "Wintersemester 2023/2024"
   ]
  },
  {
   "cell_type": "markdown",
   "metadata": {},
   "source": [
    "# mug121 - Wissenschaftliche Datenverarbeitung: Python-Einführung – Notebook 1"
   ]
  },
  {
   "cell_type": "code",
   "execution_count": 1,
   "metadata": {},
   "outputs": [
    {
     "name": "stdout",
     "output_type": "stream",
     "text": [
      "Willkommen zur Python-Einführung im Modul \"Wissenschaftliche Datenverarbeitung\"!\n"
     ]
    }
   ],
   "source": [
    "print('Willkommen zur Python-Einführung im Modul \"Wissenschaftliche Datenverarbeitung\"!')"
   ]
  },
  {
   "cell_type": "markdown",
   "metadata": {},
   "source": [
    "> Niklas Heidemann (heidemann@geo.uni-bonn.de)<br>\n"
   ]
  },
  {
   "cell_type": "markdown",
   "metadata": {},
   "source": [
    "---\n",
    "## Python, iPython und Jupyter\n",
    "\n",
    "### Was ist Python?\n",
    "\n",
    "* universelle, interpretierte, höhere (~~Scriptsprache~~) Programmiersprache\n",
    "* objektorientierte, aspektorientierte, funktionale Programmierung (multiparadigmatisch)\n",
    "* vergleichsweise einfache, schlanke Syntax\n",
    "* open-source (gestützt durch gemeinnützige *Python Software Foundation*)\n",
    "* entwickelt von *Guido van Rossum* 1991\n",
    "* *Python* geht auf *Monty Python* und nicht auf Schlangengattung zurück\n",
    "* seit 2008 Python 3.0\n",
    "* viele etablierte Erweiterungen zu Algebra, Numerik, Darstellung etc. verfügbar\n",
    "\n",
    "\n",
    "#### Installation und Nutzung\n",
    "\n",
    "* Python 3.x (mit x $\\geq$ 6)\n",
    "* aktuelle Version unter [www.python.org](http://www.python.org \"python.org\")\n",
    "* Installation einer Distribution (Python + Erweiterungen + Werkzeuge)\n",
    "  * bspw.: [Anaconda](https://www.anaconda.com/distribution/ \"anaconda.com\"), WinPython etc.\n",
    "  * [Anaconda (conda) cheat sheet](https://docs.anaconda.com/anaconda/) ([download](https://docs.anaconda.com/_downloads/9ee215ff15fde24bf01791d719084950/Anaconda-Starter-Guide.pdf))\n",
    "\n",
    "\n",
    "* Nutzung in der Commandozeile:\n",
    "  * `python3` ([shell](https://www.python.org/shell/))\n",
    "  * [`ipython`](https://ipython.org/) (weitere interaktive Elemente verglichen mit python3 shell)\n",
    "* Nutzung als ausführbare Datei:\n",
    "  * *Python*-Script `python3 dateiname.py`\n",
    "  * Jupyter Notebook `jupyter lab dateiname.ipynb`\n",
    "  \n",
    "\n",
    "### Was ist Jupyter?\n",
    "\n",
    "* interpretierte Oberfläche zum Kompilieren von Python, R, C, Octave (Matlab), etc.\n",
    "* **Notebooks** oder Scriptfiles\n",
    "* Ordnerübersicht, Terminal, etc.\n",
    "* lokal in Distributionen enthalten (jupyter lab, jupyter hub)\n",
    "oder\n",
    "* **online** ([Jupyter Hub Geophysik](https://jupyter.geo.uni-bonn.de:8088/) / [Jupyter Hub Meteorologie](https://hub.meteo.uni-bonn.de:8000/))\n",
    "* [Online-Handbuch](https://jupyter-notebook.readthedocs.io/en/stable/index.html)\n"
   ]
  },
  {
   "cell_type": "code",
   "execution_count": 2,
   "metadata": {},
   "outputs": [
    {
     "name": "stdout",
     "output_type": "stream",
     "text": [
      "The Zen of Python, by Tim Peters\n",
      "\n",
      "Beautiful is better than ugly.\n",
      "Explicit is better than implicit.\n",
      "Simple is better than complex.\n",
      "Complex is better than complicated.\n",
      "Flat is better than nested.\n",
      "Sparse is better than dense.\n",
      "Readability counts.\n",
      "Special cases aren't special enough to break the rules.\n",
      "Although practicality beats purity.\n",
      "Errors should never pass silently.\n",
      "Unless explicitly silenced.\n",
      "In the face of ambiguity, refuse the temptation to guess.\n",
      "There should be one-- and preferably only one --obvious way to do it.\n",
      "Although that way may not be obvious at first unless you're Dutch.\n",
      "Now is better than never.\n",
      "Although never is often better than *right* now.\n",
      "If the implementation is hard to explain, it's a bad idea.\n",
      "If the implementation is easy to explain, it may be a good idea.\n",
      "Namespaces are one honking great idea -- let's do more of those!\n"
     ]
    }
   ],
   "source": [
    "import this"
   ]
  },
  {
   "cell_type": "code",
   "execution_count": 3,
   "metadata": {},
   "outputs": [],
   "source": [
    "# Easter-Egg-artige Auflistung der Grundideen/Philosophie der Programmiersprache Python"
   ]
  },
  {
   "cell_type": "markdown",
   "metadata": {},
   "source": [
    "## Syntax und Befehle\n",
    "\n",
    "(siehe auch cheat sheets - [Link auf eCampus](https://ecampus.uni-bonn.de/goto_ecampus_fold_2384996.html))\n",
    "\n",
    "wesentliche Ziele und Regeln von *Python* (Easter Egg): \n",
    "```python\n",
    "import this\n",
    "```\n",
    "\n",
    "Kommentar: `#` (Codezeile wird nicht kompiliert / ausgeführt)\n",
    "\n",
    "\n",
    "String:\n",
    "```python\n",
    "\"string\"\n",
    "``` \n",
    "```python\n",
    "'string'\n",
    "```\n",
    "\n",
    "Docstring:\n",
    "```python\n",
    "\"\"\"docstring\"\"\"\n",
    "``` \n",
    "```python\n",
    "'''docstring'''\n",
    "```\n",
    "\n",
    "Hilfefunktion: \n",
    "```python\n",
    "help()\n",
    "```\n",
    "\n",
    "Abfrage Datentyp: \n",
    "```python\n",
    "type()\n",
    "```\n",
    "\n",
    "Print-Befehl: \n",
    "```python\n",
    "print()\n",
    "```\n",
    "\n",
    "Auflistung von Variablen: \n",
    "```python\n",
    "%whos\n",
    "```\n",
    "\n",
    "Ausgabe Docstring: \n",
    "```python\n",
    "this?\n",
    "```\n",
    "\n",
    "Ausgabe Sourcecode: \n",
    "```python\n",
    "this??\n",
    "```\n",
    "\n",
    "\n",
    "### Nützliche Einstellungen und Keyboard-Shortcuts im Jupyter Hub/Lab\n",
    "\n",
    "`File -> Save Notebook` `Ctrl + S`\n",
    "\n",
    "`File -> Export Notebook As...`\n",
    "\n",
    "`View -> Show Line Numbers`\n",
    "\n",
    "`Run -> Restart Kernel and Run All Cells` (kann manches Problem beheben)\n",
    "\n",
    "**Kommentar (Zeilen/Blöcke):** `Ctrl + NUM/`\n",
    "\n",
    "**Auto-Vervollständigung:** `Tab`\n",
    "\n",
    "**Hilfe über Docstring-Shortcut:** `Shift + Tab`\n",
    "\n",
    "**Ausführen (Kompilieren) von Zellen:** `Shift + Enter`\n",
    "\n",
    "Trennen von Zellen am Cursor: `Ctrl + Shift + –`"
   ]
  },
  {
   "cell_type": "markdown",
   "metadata": {},
   "source": [
    "> ## FEHLER\n",
    ">\n",
    "> * werden oft zusammen mit potentiell fehlerhaften Codefragmenten ausgegeben\n",
    "> * bei unverständlichen Fehlern zuerst Syntax überprüfen\n",
    "> * **Fehlermeldungen lesen und verstehen versuchen kann eine große Hilfe sein!**"
   ]
  },
  {
   "cell_type": "code",
   "execution_count": 4,
   "metadata": {},
   "outputs": [],
   "source": [
    "# Codezeile zum Testen\n",
    "\n",
    "# help()"
   ]
  },
  {
   "cell_type": "code",
   "execution_count": 5,
   "metadata": {},
   "outputs": [],
   "source": [
    "# # print?"
   ]
  },
  {
   "cell_type": "code",
   "execution_count": 6,
   "metadata": {},
   "outputs": [],
   "source": [
    "# # print??"
   ]
  },
  {
   "cell_type": "markdown",
   "metadata": {},
   "source": [
    "----\n",
    "#### **Aufgabe 0:**\n",
    "\n",
    "Geben Sie ein eigenes \"Hello World\"-ähnliches Statement aus und speichern Sie es anschließend unter der Variable ```hello_world```.\n",
    "\n",
    "Hinweis: Mithilfe der Definition einer Variable lassen sich Zellenausgaben unter einer Variablen abspeichern:\n",
    "\n",
    "```python \n",
    "variable = ...\n",
    "```"
   ]
  },
  {
   "cell_type": "code",
   "execution_count": 7,
   "metadata": {},
   "outputs": [
    {
     "name": "stdout",
     "output_type": "stream",
     "text": [
      "Variable      Type      Data/Info\n",
      "---------------------------------\n",
      "hello_world   str       Mein 'Hello World'-Statement!\n",
      "this          module    <module 'this' from '/srv<...>l/lib/python3.9/this.py'>\n",
      "Mein 'Hello World'-Statement!\n"
     ]
    }
   ],
   "source": [
    "# Codezeile Aufgabe\n",
    "\n",
    "\"Mein 'Hello World'-Statement\"\n",
    "hello_world = \"Mein 'Hello World'-Statement!\"\n",
    "%whos\n",
    "print(hello_world)"
   ]
  },
  {
   "cell_type": "code",
   "execution_count": 8,
   "metadata": {},
   "outputs": [
    {
     "name": "stdout",
     "output_type": "stream",
     "text": [
      "Mein 'Hello World'-Statement!\n"
     ]
    }
   ],
   "source": [
    "# Folgende Zeile zum Überprüfen einkommentieren\n",
    "print(hello_world) # das ist mein Print-Statement\n"
   ]
  },
  {
   "cell_type": "markdown",
   "metadata": {},
   "source": [
    "> ## Tipp: Code dokumentieren\n",
    ">\n",
    "> * Dokumentation einzelner Codezeilen / ganzer Codeblöcke mit `#` oder Docstrings\n",
    "> * theoretisches Vorgehen beschreiben\n",
    "> * Begründungen für Programmierentscheidungen liefern\n",
    "> * Warum?\n",
    ">   * Reproduzierbarkeit\n",
    ">   * Verständlichkeit \n",
    ">   * Routine\n",
    "\n",
    "----\n",
    "----\n",
    "## Datentypen\n",
    "\n",
    "*```Funktion(x)``` zum Erstellen und Umformatieren von x in den jeweiligen Datentyp, Beispiel für Formatierung des Datentyps*\n",
    "\n",
    "Integer (Ganzzahl): ```int```\n",
    "```python\n",
    "int(), 1\n",
    "``` \n",
    "\n",
    "Float (Gleitkommazahl): ```float``` (Hinweis: Statt Kommata ```,``` werden Punkte ```.``` verwendet)\n",
    "```python\n",
    "float(), 1.01\n",
    "```\n",
    "\n",
    "Komplexe Zahl: ```complex```\n",
    "```python\n",
    "complex(), 2j\n",
    "```\n",
    "\n",
    "Logische Ausdrücke: ```bool``` (```True``` oder ```False```)\n",
    "```python\n",
    "bool(), True, False\n",
    "```\n",
    "\n",
    "String (Zeichenkette): ```str``` (bedingt änderbar - Groß-/Kleinschreibung etc.)\n",
    "```python\n",
    "str(), \"string\", 'string'\n",
    "```\n",
    "\n",
    "### Container\n",
    "\n",
    "* iterierbare Objekte (***iterables***)\n",
    "* änderbar (***mutable***) / nicht änderbar\n",
    "* indizierbar (siehe auch [Indizierung von Containern](#Indizierung-von-Containern \"Link zu 'Indizierung von Containern'\"))\n",
    "\n",
    "String (Zeichenkette): ```str``` (bedingt änderbar - Groß-/Kleinschreibung etc.)\n",
    "```python\n",
    "str(), \"string\", 'string'\n",
    "```\n",
    "Tupel: ```tuple``` (**nicht änderbar**)\n",
    "```python\n",
    "tuple(), (wert1, wert2)\n",
    "```\n",
    "\n",
    "Liste: ```list``` (änderbar)\n",
    "```python\n",
    "list(), [wert1, wert2]\n",
    "```\n",
    "\n",
    "Dictionary: ```dict``` (änderbar)\n",
    "```python\n",
    "dict(), {schlüssel1 : wert1, schlüssel2 : wert2}\n",
    "```\n",
    "\n",
    "Variable / Zuweisung: (änderbar, ***case sensitive*** (Groß- und Kleinschreibung werden unterscheiden), muss sich von [**Schlüsselwörtern**](#Schlüsselwörter \"Link auf Kapitel Schlüsselwörter\") unterscheiden)\n",
    "```python\n",
    "variable = \"string\"\n",
    "```\n",
    "\n",
    "*auch Mehrfachzuweisung ist möglich:*\n",
    "```python\n",
    "var1, var2 = \"str1\", \"str2\"\n",
    "```\n",
    "\n",
    "## Schlüsselwörter\n",
    "\n",
    "```python\n",
    "\n",
    "and, as, assert, async, await \n",
    "break, \n",
    "class, continue, \n",
    "def, del, \n",
    "elif, else, except, \n",
    "False, finally, for, from, \n",
    "global, \n",
    "if, import, in, is, \n",
    "lambda, \n",
    "None, nonlocal, not, \n",
    "or, \n",
    "pass, \n",
    "raise, return, \n",
    "True, try, \n",
    "while, with, \n",
    "yield\n",
    "```"
   ]
  },
  {
   "cell_type": "markdown",
   "metadata": {},
   "source": [
    "## Operatoren\n",
    "\n",
    "### Rechenoperatoren (arithmetische Operatoren): \n",
    "```python\n",
    "+  -  *  /   **   %   //\n",
    "```\n",
    "* Summe: `+`\n",
    "* Differenz: `-`\n",
    "* Produkt: `*`\n",
    "* Quotient: `/`\n",
    "* Potenz (Power): `**`\n",
    "* Modulus (Rest bei ganzzahliger Division): `%`\n",
    "* ganzzahlige Division: `//`\n",
    "\n",
    "### Logische (boolsche) Operatoren: \n",
    "```python\n",
    "<  >  =  <=  >=  ==  !=  &  ^  not  is  in  and  or\n",
    "```\n",
    "\n",
    "* kleiner: `<`\n",
    "* größer: `>`\n",
    "* gleich (Zuweisung): `=`\n",
    "* kleiner-gleich: `<=`\n",
    "* größer-gleich: ` >=`\n",
    "* ist gleich (equals-equals): `==`\n",
    "* ungleich: `!=`\n",
    "* UND: `&`\n",
    "* ODER: `^`\n",
    "* nicht: `not`\n",
    "* identisch: `is`\n",
    "* Element/Teil: `in`\n",
    "* logisches UND: `and`\n",
    "* logisches ODER: `or`"
   ]
  },
  {
   "cell_type": "markdown",
   "metadata": {},
   "source": [
    "----\n",
    "#### **Aufgabe 1:**\n",
    "\n",
    "Berechnen Sie <br>\n",
    "a) $4 + 5$ <br>\n",
    "b) $3.5 \\cdot 4$<br>\n",
    "c) $(3000 + 200) \\cdot \\frac{3}{25}$ <br>\n",
    "d) $\"x\" + \"yz\"$ <br>\n",
    "e) $4 + 3i$ <br> mithilfe von Python und speichern Sie die Ausgaben als Variablen ```a, b, c, d``` und ```e```. \n",
    "\n",
    "Beachten Sie: Es gibt immer mehrere verschiedene Möglichkeiten um Daten, in diesem Fall Ergebnisse, auszugeben (siehe Kommentare)."
   ]
  },
  {
   "cell_type": "code",
   "execution_count": 9,
   "metadata": {},
   "outputs": [
    {
     "data": {
      "text/plain": [
       "(4+3j)"
      ]
     },
     "execution_count": 9,
     "metadata": {},
     "output_type": "execute_result"
    }
   ],
   "source": [
    "# Codezeile Aufgabe\n",
    "\n",
    "# # Ausgabe einzeln ohne print-Funktion - nur das jeweils letzte Ergebnis wird in die Outputzeile geprinted\n",
    "4 + 5\n",
    "3.5 * 4\n",
    "(3000 + 200) * 3/25\n",
    "\"x\" + \"yz\"\n",
    "4 + 3j\n"
   ]
  },
  {
   "cell_type": "code",
   "execution_count": 10,
   "metadata": {},
   "outputs": [
    {
     "name": "stdout",
     "output_type": "stream",
     "text": [
      "a) 9\n",
      "b) 14.0\n",
      "c) 384.0\n",
      "d) xyz\n",
      "e) (4+3j)\n"
     ]
    }
   ],
   "source": [
    "# # Ausgabe einzeln über print-Funktion - gibt alle Ergebnisse in die Outputzeile aus\n",
    "\n",
    "# # Rechnungen werden in Variablen gespeichert\n",
    "\n",
    "a = 4 + 5\n",
    "b = 3.5 * 4\n",
    "c = (3000 + 200) * 3/25\n",
    "d = \"x\" + \"yz\"\n",
    "e = 4 + 3j\n",
    "\n",
    "print(\"a)\", a)\n",
    "print(\"b)\", b)\n",
    "print(\"c)\", c)\n",
    "print(\"d)\", d)\n",
    "print(\"e)\",e)\n"
   ]
  },
  {
   "cell_type": "code",
   "execution_count": 11,
   "metadata": {},
   "outputs": [
    {
     "name": "stdout",
     "output_type": "stream",
     "text": [
      "a) 9\n",
      "b) 14.0\n",
      "c) 384.0\n",
      "d) xyz\n",
      "e) (4+3j)\n"
     ]
    }
   ],
   "source": [
    "# Folgende Zeile zum Überprüfen einkommentieren\n",
    "print('a) {}\\nb) {}\\nc) {}\\nd) {}\\ne) {}'.format(a, b, c, d, e))"
   ]
  },
  {
   "cell_type": "markdown",
   "metadata": {},
   "source": [
    "**Erwarteter Output:**<br>\n",
    "a) 9<br>\n",
    "b) 14.0<br>\n",
    "c) 384.0<br>\n",
    "d) xyz<br>\n",
    "e) (4+3j)<br>"
   ]
  },
  {
   "cell_type": "markdown",
   "metadata": {},
   "source": [
    "-----\n",
    "#### **Aufgabe 2:** \n",
    "\n",
    "Zu welchen [Datentypen](#Datentypen \"Link auf Kapitel Datentypen\") gehören die Lösungen von Aufgabe 1? \n",
    "\n",
    "Hinweis: Nutzen Sie die in Aufgabe 1 erstellten Variablen. "
   ]
  },
  {
   "cell_type": "code",
   "execution_count": 12,
   "metadata": {},
   "outputs": [
    {
     "name": "stdout",
     "output_type": "stream",
     "text": [
      "a) <class 'int'>\n",
      "b) <class 'float'>\n",
      "c) <class 'float'>\n",
      "d) <class 'str'>\n",
      "e) <class 'complex'>\n"
     ]
    }
   ],
   "source": [
    "# Codezeile Aufgabe\n",
    "print(\"a)\", type(a))\n",
    "print(\"b)\", type(b))\n",
    "print(\"c)\", type(c))\n",
    "print(\"d)\", type(d))\n",
    "print(\"e)\", type(e))"
   ]
  },
  {
   "cell_type": "code",
   "execution_count": 13,
   "metadata": {},
   "outputs": [
    {
     "name": "stdout",
     "output_type": "stream",
     "text": [
      "a) <class 'int'>\n",
      "b) <class 'float'>\n",
      "c) <class 'float'>\n",
      "d) <class 'str'>\n",
      "e) <class 'complex'>\n"
     ]
    }
   ],
   "source": [
    "# Folgende Zeile zum Überprüfen einkommentieren\n",
    "print('a) {}\\nb) {}\\nc) {}\\nd) {}\\ne) {}'.format(type(a), type(b), type(c), type(d), type(e)))"
   ]
  },
  {
   "cell_type": "markdown",
   "metadata": {},
   "source": [
    "**Erwarteter Output:**<br>\n",
    "a) int <br>\n",
    "b) float<br>\n",
    "c) float<br>\n",
    "d) str<br>\n",
    "e) complex<br>\n",
    "\n",
    "----"
   ]
  },
  {
   "cell_type": "code",
   "execution_count": 14,
   "metadata": {},
   "outputs": [],
   "source": [
    "# Codezeile zum Testen\n",
    "\n"
   ]
  },
  {
   "cell_type": "markdown",
   "metadata": {},
   "source": [
    "-----\n",
    "#### **Aufgabe 3:** \n",
    "\n",
    "Führen Sie beliebige Rechenoperationen auf verschiedene [Containertypen](#Container \"Link zu Kapitel Container\") aus. Was funktioniert? Was funktioniert nicht?"
   ]
  },
  {
   "cell_type": "code",
   "execution_count": 15,
   "metadata": {},
   "outputs": [
    {
     "name": "stdout",
     "output_type": "stream",
     "text": [
      "=====#=====\n",
      "String:\n",
      "xyz xyzabc\n",
      "xyzxyz\n",
      "funktioniert nicht\n"
     ]
    }
   ],
   "source": [
    "# Codezeile Aufgabe\n",
    "print(\"=====#=====\\nString:\")\n",
    "print(d, d + \"abc\") # Addition funktioniert\n",
    "# print(d - \"abc\") # Subtraktion funktioniert nicht\n",
    "# print(d * \"abc\") # Multiplikation zwischen Strings funktioniert nicht\n",
    "print(d * 2) # Multiple Strings funktionieren\n",
    "# print(d / \"abc\") # Division funktioniert nicht\n",
    "\n",
    "try:\n",
    "    print(d - \"abc\") # Subtraktion funktioniert nicht\n",
    "except:\n",
    "    print(\"funktioniert nicht\")"
   ]
  },
  {
   "cell_type": "code",
   "execution_count": 16,
   "metadata": {},
   "outputs": [
    {
     "name": "stdout",
     "output_type": "stream",
     "text": [
      "False\n",
      "True\n",
      "True\n",
      "True\n"
     ]
    },
    {
     "name": "stderr",
     "output_type": "stream",
     "text": [
      "<>:4: SyntaxWarning: \"is\" with a literal. Did you mean \"==\"?\n",
      "<>:4: SyntaxWarning: \"is\" with a literal. Did you mean \"==\"?\n",
      "/tmp/ipykernel_1221858/2212484674.py:4: SyntaxWarning: \"is\" with a literal. Did you mean \"==\"?\n",
      "  print(\"abc\" is \"abc\")\n"
     ]
    }
   ],
   "source": [
    "print(\"abc\" != \"abc\")\n",
    "print(\"abc\" == \"abc\")\n",
    "print(\"ab\" in \"abc\")\n",
    "print(\"abc\" is \"abc\")\n"
   ]
  },
  {
   "cell_type": "code",
   "execution_count": 17,
   "metadata": {},
   "outputs": [
    {
     "name": "stdout",
     "output_type": "stream",
     "text": [
      "=====#=====\n",
      "Tuple:\n",
      "(1, 2, 3, 4, 5, 6)\n",
      "(1, 2, 3, 1, 2, 3)\n",
      "True\n",
      "=====#=====\n",
      "Liste:\n",
      "[1, 2, 3, 4, 5, 6]\n",
      "=====#=====\n",
      "Tupel und Liste und andersherum:\n",
      "=====#=====\n",
      "Strings und ...:\n",
      "=====#=====\n",
      "Dictionaries:\n"
     ]
    }
   ],
   "source": [
    "print(\"=====#=====\\nTuple:\")\n",
    "print( (1, 2, 3) + (4, 5, 6) )\n",
    "# print( (1, 2, 3) - (4, 5, 6) )\n",
    "print( (1, 2, 3) * 2 )\n",
    "# print( (1, 2, 3) / (1, 2, 3) )\n",
    "\n",
    "print( 1 in (1, 2, 3) )\n",
    "\n",
    "print(\"=====#=====\\nListe:\")\n",
    "print( [1, 2, 3] + [4, 5, 6] )\n",
    "# print( [1, 2, 3] - [4, 5, 6] )\n",
    "\n",
    "print(\"=====#=====\\nTupel und Liste und andersherum:\")\n",
    "# print( (1, 2, 3) + [4, 5, 6] )\n",
    "# print( (1, 2, 3) - [4, 5, 6] )\n",
    "\n",
    "# print( [1, 2, 3] + (4, 5, 6) )\n",
    "# print( [1, 2, 3] - (4, 5, 6) )\n",
    "\n",
    "print(\"=====#=====\\nStrings und ...:\")\n",
    "# print( \"abc\" + (4, 5, 6) )\n",
    "# print( \"abc\" + [4, 5, 6] )\n",
    "# print( \"abc\" * [1, 2, 3] )\n",
    "\n",
    "print(\"=====#=====\\nDictionaries:\")\n",
    "# print( {\"key1\":[1, 2, 3, 4], \"key2\":(1, 2, 3)} + {\"key1\":[5, 6, 7, 8], \"key2\":(4, 5, 6)})"
   ]
  },
  {
   "cell_type": "markdown",
   "metadata": {},
   "source": [
    "-----\n",
    "#### **Aufgabe 4:** \n",
    "\n",
    "**Vergleich**\n",
    "\n",
    "Mithilfe logischer Operatoren lassen sich Vergleiche durchführen, die `True` oder `False` als Antwort zurückgeben.\n",
    "\n",
    "Führen Sie die folgenden Vergleiche durch:<br>\n",
    "a) Ist `a` größer als `b`?<br>\n",
    "b) Sind die Datentypen von `b` und `c` gleich?<br>\n",
    "c) Befindet sich der String `x` in der Variablen `d`?<br>\n",
    "d) Ist der Inhalt der Variablen `a` kleiner-gleich als 10? Ist er auch kleiner?<br>\n",
    "e) Ist der Inhalt der Variablen `e` gleich der komplexen Zahl `4+3i`?<br>"
   ]
  },
  {
   "cell_type": "code",
   "execution_count": 18,
   "metadata": {},
   "outputs": [
    {
     "name": "stdout",
     "output_type": "stream",
     "text": [
      "Reminder:\n",
      "a) 9 \n",
      "b) 14.0 \n",
      "c) 384.0 \n",
      "d) xyz \n",
      "e) (4+3j)\n",
      "Lösung:\n",
      "a) False\n",
      "b) True True\n",
      "c) True True\n",
      "d) True True\n",
      "e) True True\n"
     ]
    }
   ],
   "source": [
    "# Codezeile Aufgabe\n",
    "print(\"Reminder:\")\n",
    "print(\"a)\", a, \"\\nb)\", b, \"\\nc)\", c, \"\\nd)\", d, \"\\ne)\", e)\n",
    "\n",
    "print(\"Lösung:\")\n",
    "print(\"a)\", a > b )\n",
    "print(\"b)\", type(b) == type(c), type(b) is type(c))\n",
    "print(\"c)\", str(\"x\") in d, \"x\" in d )\n",
    "print(\"d)\", a <= 10, a < 10 )\n",
    "print(\"e)\", e == complex(4+3j), e == 4+3j )"
   ]
  },
  {
   "cell_type": "markdown",
   "metadata": {},
   "source": [
    "----\n",
    "### Indizierung von Containern\n",
    "\n",
    "Siehe auch [Container](#Container \"Link zum Kapitel Container\").\n",
    "\n",
    "> #### Die Null-Indizierung:\n",
    "> Python beginnt beim Zählen (Indizieren von Objekten, etc.) bei 0. <br>\n",
    "\n",
    "* Beginn von links bei `0`\n",
    "* Beginn von rechts bei `-1`\n",
    "* Elemente: `[von:bis:Schrittweite]`\n",
    "\n",
    "Beispiel:<br>\n",
    "Das erste Element einer Liste `liste = [1, 2, 3]` ist die `1`, wird jedoch in Python als Element `0` angesprochen (indiziert).\n",
    "```python\n",
    "liste = [1, 2, 3]\n",
    "liste[0] # gibt das erste Element aus\n",
    "liste[-1] # gibt das letzte Element aus\n",
    "liste[1:2] # gibt das zweite bis ausschließlich dritte Element aus\n",
    "liste[1:3] # gibt das zweite bis einschließlich dritte Element aus\n",
    "liste[::2] # beginnt beim ersten Element (0) und gibt jedes zweite aus\n",
    "```\n",
    "\n",
    "Diese Art der Indizierung funktioniert bei allen Containern.\n",
    "\n",
    "#### Indizierung von Dictionaries `dict`:\n",
    "\n",
    "Hier wird der gezählte Index durch den Schlüssel ersetzt. Schlüssel-Wert-Paare lassen sich mit der Methode `.items()` als Tuple-Einträge in einer Liste auslesen. Zusätzlich lassen sich die Schlüssel und Werte als separate Listen aus einem Dictionary auslesen. Diese wiederum sind normal indizierbar.\n",
    "\n",
    "```python\n",
    "dictionary = {'a':1, 'b':2, 'c':3}\n",
    "dictionary['a'] # Indizierung nach Schlüssel\n",
    "dictionary_list = list(dictionary.items()) # Schlüssel-Wert-Paare als Liste\n",
    "keys_list = list(dictionary.keys()) # Schlüssel als Liste \n",
    "values_list = list(dictionary.values()) # Werte als Liste\n",
    "```\n",
    "\n",
    "> #### Größe / Länge eines Containers ausgeben lassen:\n",
    "> Mithilfe der Funktion \n",
    "> ```python\n",
    "> len(container)\n",
    "> ```\n",
    "> <br>\n",
    "> lässt sich die Größe bzw. die Anzahl der Einträge abfragen.<br>\n",
    "> Auch hier indiziert Python intern bei Null beginnend, allerdings wird die tatsächliche Anzahl der Elemente angegeben und nicht der Zähler des letzten Elements. \n",
    "\n",
    "### Überschreiben von Einträgen:\n",
    "\n",
    "Funktioniert bei Strings `str`, Listen `list` und Dictionaries `dict`:\n",
    "\n",
    "```python\n",
    "liste[0] = -1 # überschreibe das erste Element mit einem neuen Wert\n",
    "dictionary['a'] = 111 # überschreibe den Wert des Schlüssels 'a' mit einem neuen Wert\n",
    "```\n",
    "\n",
    "Funktioniert nicht bei Tupeln `tuple`, da diese nicht änderbar sind.\n",
    "\n",
    "### Anhängen von Einträgen:\n",
    "\n",
    "Funktioniert bei Listen `list` und Dictionaries `dict`:\n",
    "\n",
    "```python\n",
    "liste.append([4, 5, 6]) # anhängen an Listen mittels .append()\n",
    "dictionary['d'] = 4 # anhängen an Dictionaries durch Erstellen eines neuen Schlüssel-Wert-Paares\n",
    "```"
   ]
  },
  {
   "cell_type": "code",
   "execution_count": 19,
   "metadata": {},
   "outputs": [],
   "source": [
    "# Codezeile zum Testen\n"
   ]
  },
  {
   "cell_type": "code",
   "execution_count": 20,
   "metadata": {},
   "outputs": [],
   "source": [
    "# Codezeile zum Testen\n"
   ]
  },
  {
   "cell_type": "code",
   "execution_count": 21,
   "metadata": {},
   "outputs": [],
   "source": [
    "# Codezeile zum Testen\n"
   ]
  },
  {
   "cell_type": "markdown",
   "metadata": {},
   "source": [
    "---\n",
    "#### **Aufgabe 5:** \n",
    "\n",
    "a) Lassen Sie sich jeweils das dritte Element aus den folgenden vorgespeicherten Containern in der Reihenfolge 1-4 ausgeben:"
   ]
  },
  {
   "cell_type": "code",
   "execution_count": 22,
   "metadata": {},
   "outputs": [],
   "source": [
    "# DO NOT TOUCH Beginn - wenn nötig ausführen\n",
    "container1 = \"Pymugthon is fun!\"\n",
    "container2 = (11, 22, 121, 187, 0.1, -21)\n",
    "container3 = {0:35, 1:9j, \"test\":'WissDV', 'd':False}\n",
    "container4 = ['3.7', 'abc', 'WiSe2023/2024', 3*8]\n",
    "# DO NOT TOUCH Ende"
   ]
  },
  {
   "cell_type": "code",
   "execution_count": 23,
   "metadata": {},
   "outputs": [
    {
     "name": "stdout",
     "output_type": "stream",
     "text": [
      "m\n",
      "121\n",
      "WissDV\n",
      "WiSe2023/2024\n",
      "====#====\n",
      "('test', 'WissDV')\n",
      "test\n",
      "WissDV\n"
     ]
    }
   ],
   "source": [
    "# Codezeile Aufgabe\n",
    "print(container1[2])\n",
    "print(container2[2])\n",
    "print(container3[\"test\"])\n",
    "print(container4[2])\n",
    "\n",
    "print(\"====#====\")\n",
    "container3_dictionary_list = list( container3.items() ) # Schlüssel-Wert-Paare als Liste\n",
    "print(container3_dictionary_list[2])\n",
    "container3_keys_list = list( container3.keys() ) # Schlüssel als Liste \n",
    "print(container3_keys_list[2])\n",
    "container3_values_list = list( container3.values() ) # Werte als Liste\n",
    "print(container3_values_list[2])"
   ]
  },
  {
   "cell_type": "code",
   "execution_count": 24,
   "metadata": {},
   "outputs": [],
   "source": [
    "# Codezeile zum Test von Strings:\n",
    "\n"
   ]
  },
  {
   "cell_type": "markdown",
   "metadata": {},
   "source": [
    "b) Nutzen Sie die Indizierungsmethode um den dritten Wert der Variable `container4` durch die Zeichenkette `Python` zu ersetzen und wiederholen Sie das Prozedere aus Aufgabe a)."
   ]
  },
  {
   "cell_type": "code",
   "execution_count": 25,
   "metadata": {},
   "outputs": [
    {
     "name": "stdout",
     "output_type": "stream",
     "text": [
      "m 121 WissDV Python\n"
     ]
    }
   ],
   "source": [
    "# Codezeile Aufgabe\n",
    "container4[2] = \"Python\"\n",
    "print(container1[2], container2[2], container3[\"test\"], container4[2])"
   ]
  },
  {
   "cell_type": "markdown",
   "metadata": {},
   "source": [
    "**Kontrollergebnis:**<br>\n",
    "`m 121 WissDV Python`"
   ]
  },
  {
   "cell_type": "markdown",
   "metadata": {},
   "source": [
    "c) Nutzen Sie die Indizierungsmethode um sich die Zeichenkette `mug 121 WissDV Python is fun!` aus einer Kombination der vorgespeicherten Container aus Aufgabe a) und des geänderten Containers aus Aufgabe b) ausgeben zu lassen."
   ]
  },
  {
   "cell_type": "code",
   "execution_count": 26,
   "metadata": {},
   "outputs": [
    {
     "data": {
      "text/plain": [
       "'mug'"
      ]
     },
     "execution_count": 26,
     "metadata": {},
     "output_type": "execute_result"
    }
   ],
   "source": [
    "# Codezeile Aufgabe\n",
    "container1[2:5]\n",
    "container1[-15:-12]"
   ]
  },
  {
   "cell_type": "code",
   "execution_count": 27,
   "metadata": {},
   "outputs": [
    {
     "name": "stdout",
     "output_type": "stream",
     "text": [
      "mug 121 WissDV Python is fun!\n",
      "mug 121 WissDV Python is fun!\n"
     ]
    }
   ],
   "source": [
    "# print( container1[2:5] + \" \" )\n",
    "print( container1[2:5], container2[2], container3[\"test\"], container4[2], container1[10:20] ) # von links indiziert\n",
    "print( container1[-15:-12], container2[-4], container3[\"test\"], container4[-2], container1[-7: ] ) # von rechts indiziert (beginnend bei -1)\n",
    "\n",
    "# print( container1[2:5], container1[2:5], sep=\"_\") # # print-Funktion kann eine Definition des seperators übernehmen"
   ]
  },
  {
   "cell_type": "markdown",
   "metadata": {},
   "source": [
    "d) Fügen Sie `container3` und `container4` jeweils einen beliebigen Eintrag hinzu. \n",
    "\n",
    "Hinweis: Nutzen Sie für den Dictionary die Indizierungsmethode und einen neuen Schlüssel und für die Liste die Methode ```.append()```."
   ]
  },
  {
   "cell_type": "code",
   "execution_count": 28,
   "metadata": {},
   "outputs": [
    {
     "name": "stdout",
     "output_type": "stream",
     "text": [
      "{0: 35, 1: 9j, 'test': 'WissDV', 'd': False, 'subject': 'wissenschaftliche Datenverarbeitung'}\n",
      "['3.7', 'abc', 'Python', 24, 'Bonn', [1, 2, 3], [1, 2, ('a)', 'b)', 'c:', 9)]]\n"
     ]
    }
   ],
   "source": [
    "# Codezeile Aufgabe\n",
    "container3[\"subject\"] = 'wissenschaftliche Datenverarbeitung'\n",
    "print(container3)\n",
    "container4.append( \"Bonn\" )\n",
    "container4.append( [1, 2, 3] )\n",
    "container4.append( [ 1, 2, ( \"a)\", 'b)', \"c:\", 9 ) ] )\n",
    "print(container4)"
   ]
  },
  {
   "cell_type": "markdown",
   "metadata": {},
   "source": [
    "e) Lassen Sie sich die Zeichenkette `\"fun\"` mithilfe eines einzigen Befehls aus `container1` ausgeben.\n",
    "\n",
    "Hinweis: Nutzen Sie die Möglichkeiten aus [Indizierung von Containern](#Indizierung-von-Containern \"Link zu 'Indizierung von Containern'\")."
   ]
  },
  {
   "cell_type": "code",
   "execution_count": 29,
   "metadata": {},
   "outputs": [
    {
     "name": "stdout",
     "output_type": "stream",
     "text": [
      "fun\n",
      "fun\n",
      "17\n",
      "fun\n"
     ]
    }
   ],
   "source": [
    "# Codezeile Aufgabe\n",
    "\n",
    "print( container1[-4:-1] )\n",
    "print( container1[13:16] )\n",
    "print( len(container1) ) # Nutzen von len für Gesamtlänge des Containers-1\n",
    "print( container1[13:len(container1)-1] )\n",
    "\n",
    "# etwas wie container1[13]+container1[14]+container1[15] wäre kein eizelner Befehl?!"
   ]
  },
  {
   "cell_type": "markdown",
   "metadata": {},
   "source": [
    "----\n",
    "----\n",
    "## Grundstruktur von Python-Programmen\n",
    "\n",
    "```python\n",
    "Anweisung\n",
    "…\n",
    "Anweisungskopf:\n",
    "    Anweisung # Anweisungskörper\n",
    "    …\n",
    "    Anweisung\n",
    "```\n",
    "\n",
    "### Funktionen und Methoden\n",
    "\n",
    "Funktion:\n",
    "```python\n",
    "help()\n",
    "eigene_funktion()\n",
    "```\n",
    "\n",
    "Methode:\n",
    "```python\n",
    "list.append()\n",
    "```\n",
    "\n",
    "Folgende Funktionen sind standartmäßig in *Python3* vorhanden (build-in) und werden häufig gebraucht:\n",
    "\n",
    "```python\n",
    "abs() # berechnet Betrag\n",
    "complex() # erzeugt komplexe Zahl\n",
    "dict() # erzeugt Dictionary\n",
    "enumerate() # Aufzählungsiterator für iterierbares Objekt\n",
    "float() # erzeugt Gleitkommazahl\n",
    "help() # Aufruf der interaktiven Hilfe\n",
    "int() # erzeugt Ganzzahl\n",
    "len() # Länge einer Instanz\n",
    "list() # erzeugt Liste\n",
    "map() # wendet Funktion auf jedes Element eines iterierbaren Objektes an\n",
    "max() # größtes Element eines iterierbaren Objektes\n",
    "min() # kleinstes Element eines iterierbaren Objektes\n",
    "print() # Ausgabe\n",
    "range() # erzeugt Iterator über Zahlenfolge im einem Bereich\n",
    "round() # rundet auf Anzahl von Nachkommastellen\n",
    "sorted() # sortiert iterierbares Objekt\n",
    "str() # erzeugt Zeichenkette (String)\n",
    "sum() # berechnet die Summe aller Elemente eines iterierbaren Objektes zurück\n",
    "tuple() # erzeugt Tupel\n",
    "type() # gibt Datentyp einer Instanz zurück\n",
    "zip() # fasst Elemente iterierbarer Objekte (Sequenzen) zu Tupeln zusammen (bspw. für for-Schleife)\n",
    "und einige mehr\n",
    "```"
   ]
  },
  {
   "cell_type": "markdown",
   "metadata": {},
   "source": [
    "----\n",
    "#### **Aufgabe 6:** \n",
    "\n",
    "Welche Möglichkeiten bietet die Funktion\n",
    "```python \n",
    "print()\n",
    "```\n",
    "zur Ausgabe von Daten? \n",
    "\n",
    "Hinweis: Lassen Sie sich den Docstring der Funktion anzeigen."
   ]
  },
  {
   "cell_type": "code",
   "execution_count": 30,
   "metadata": {},
   "outputs": [
    {
     "name": "stdout",
     "output_type": "stream",
     "text": [
      "Help on built-in function print in module builtins:\n",
      "\n",
      "print(...)\n",
      "    print(value, ..., sep=' ', end='\\n', file=sys.stdout, flush=False)\n",
      "    \n",
      "    Prints the values to a stream, or to sys.stdout by default.\n",
      "    Optional keyword arguments:\n",
      "    file:  a file-like object (stream); defaults to the current sys.stdout.\n",
      "    sep:   string inserted between values, default a space.\n",
      "    end:   string appended after the last value, default a newline.\n",
      "    flush: whether to forcibly flush the stream.\n",
      "\n"
     ]
    },
    {
     "data": {
      "text/plain": [
       "\u001b[0;31mDocstring:\u001b[0m\n",
       "print(value, ..., sep=' ', end='\\n', file=sys.stdout, flush=False)\n",
       "\n",
       "Prints the values to a stream, or to sys.stdout by default.\n",
       "Optional keyword arguments:\n",
       "file:  a file-like object (stream); defaults to the current sys.stdout.\n",
       "sep:   string inserted between values, default a space.\n",
       "end:   string appended after the last value, default a newline.\n",
       "flush: whether to forcibly flush the stream.\n",
       "\u001b[0;31mType:\u001b[0m      builtin_function_or_method"
      ]
     },
     "metadata": {},
     "output_type": "display_data"
    }
   ],
   "source": [
    "# Codezeile Aufgabe\n",
    "help(print)\n",
    "print??"
   ]
  },
  {
   "cell_type": "code",
   "execution_count": 31,
   "metadata": {},
   "outputs": [
    {
     "name": "stdout",
     "output_type": "stream",
     "text": [
      "Mit print lassen sich Informationen ausgeben:\n",
      "----\n",
      " Pymugthon is fun!\n",
      "----\n",
      " -\n",
      "===#===\n",
      "===#==="
     ]
    }
   ],
   "source": [
    "print(\"Mit print lassen sich Informationen ausgeben:\", container1, \"-\",\n",
    "         sep=\"\\n----\\n \", end=\"\\n===#===\\n===#===\", \n",
    "     )"
   ]
  },
  {
   "cell_type": "code",
   "execution_count": 32,
   "metadata": {},
   "outputs": [
    {
     "name": "stdout",
     "output_type": "stream",
     "text": [
      "\n"
     ]
    }
   ],
   "source": [
    "print()"
   ]
  },
  {
   "cell_type": "code",
   "execution_count": 33,
   "metadata": {},
   "outputs": [],
   "source": [
    "# Codezeile: Beispiel für weitere Funktionalität von print:\n",
    "\n",
    "f = open(\"data/print_test.txt\", mode=\"w\") # Textfile zum Schreiben öffnen und an Variable f übergeben\n",
    "print(\"Das ist ein Test\\n 1234\", file=f) # Text mittels print in Textfile (file=Variable f) schreiben\n",
    "f.close() # Textfile schließen"
   ]
  },
  {
   "cell_type": "code",
   "execution_count": 34,
   "metadata": {},
   "outputs": [
    {
     "name": "stdout",
     "output_type": "stream",
     "text": [
      "Das ist ein Test\n",
      " 1234\n",
      "\n"
     ]
    }
   ],
   "source": [
    "print_test = open(\"data/print_test.txt\", \"r\") # Textfile zum Lesen öffnen und als Variable print_test speichern\n",
    "print(print_test.read()) # print_test ausgeben mittels Methode read."
   ]
  },
  {
   "cell_type": "markdown",
   "metadata": {},
   "source": [
    "----\n",
    "### Schleifen\n",
    "\n",
    "* **bis zur Erfüllung der Bedingung im Schleifenkopf werden alle Anweisungen im Schleifenkörper ausgeführt**\n",
    "* Iteration über Container\n",
    "```python\n",
    "for i in container:\n",
    "    print(i)\n",
    "```\n",
    "\n",
    "\n",
    "* \"Während\"-Anweisungen\n",
    "* \"Wenn-dann\" Anweisungen\n",
    "* Kombinationen\n",
    "* Schlüsselwörter `for`, `while`, `if`, `elif`, `else`\n",
    "\n",
    "Die `for`-Schleife:\n",
    "```python\n",
    "for bedingung: # Schleifenkopf\n",
    "    anweisung # Schleifenkörper\n",
    "```\n",
    "\n",
    "Die `while`-Schleife: (Vorsicht beim Setzen der Bedingung - Schleifen laufen bis zur Erfüllung der Bedingung, bei Nicht-Erfüllung auch ewig)\n",
    "```python\n",
    "while bedingung:\n",
    "    anweisung\n",
    "```\n",
    "\n",
    "Die `if`-Schleife:\n",
    "```python\n",
    "if bedingung:\n",
    "    anweisung\n",
    "elif bedingung:\n",
    "    anweisung\n",
    "else:\n",
    "    anweisung\n",
    "```"
   ]
  },
  {
   "cell_type": "code",
   "execution_count": 35,
   "metadata": {},
   "outputs": [],
   "source": [
    "# Codezeile zum Testen\n",
    "\n"
   ]
  },
  {
   "cell_type": "markdown",
   "metadata": {},
   "source": [
    "----\n",
    "#### **Aufgabe 7:** \n",
    "\n",
    "Erstellen Sie einen beliebigen eigenen Container, iterieren Sie mithilfe einer `for`-Schleife über diesen und lassen sie sich die Einträge dabei einzeln ausgeben."
   ]
  },
  {
   "cell_type": "code",
   "execution_count": 36,
   "metadata": {},
   "outputs": [
    {
     "name": "stdout",
     "output_type": "stream",
     "text": [
      "tuple:\n",
      "1\n",
      "2\n",
      "3\n",
      "4\n",
      "==#==\n",
      "list:\n",
      "1\n",
      "2\n",
      "3\n",
      "4\n",
      "==#==\n",
      "dict:\n",
      "a\n",
      "0\n",
      "c\n",
      "==#==\n",
      "dict (einzelne Einträge):\n",
      "dict_items([('a', 1), (0, 2), ('c', 3)])\n",
      "a 1\n",
      "0 2\n",
      "c 3\n",
      "==#==\n",
      "str:\n",
      "W\n",
      "i\n",
      "s\n",
      "s\n",
      "D\n",
      "V\n"
     ]
    }
   ],
   "source": [
    "# Codezeile Aufgabe\n",
    "\n",
    "print(\"tuple:\")\n",
    "tuple = (1, 2, 3, 4)\n",
    "for entry in tuple:\n",
    "    print(entry)\n",
    "\n",
    "print(\"==#==\")\n",
    "\n",
    "print(\"list:\")\n",
    "liste = [1, 2, 3, 4]\n",
    "for entry in liste:\n",
    "    print(entry)\n",
    "\n",
    "\n",
    "print(\"==#==\")\n",
    "\n",
    "print(\"dict:\")\n",
    "dictionary = {\"a\":1, 0:2, \"c\":3}\n",
    "for entry in dictionary:\n",
    "    print(entry)\n",
    "\n",
    "print(\"==#==\")\n",
    "\n",
    "print(\"dict (einzelne Einträge):\")\n",
    "dictionary = {\"a\":1, 0:2, \"c\":3}\n",
    "print(dictionary.items())\n",
    "for key, entry in dictionary.items():\n",
    "    print(key, entry)\n",
    "\n",
    "print(\"==#==\")\n",
    "\n",
    "print(\"str:\")\n",
    "string = \"WissDV\"\n",
    "for i in string:\n",
    "    print(i)"
   ]
  },
  {
   "cell_type": "markdown",
   "metadata": {},
   "source": [
    "----\n",
    "#### **Aufgabe 8:** \n",
    "\n",
    "Nutzen Sie eine `for`-Schleife, um einen eigenen Container zu erstellen. Gehen Sie dabei nach folgendem Schema vor:\n",
    "\n",
    "```python\n",
    "container = [] # Initialisierug des Containers: \"erstelle eine leere Liste und weise sie der Variable `container` zu\"\n",
    "for i in range(1, 10, 2): # Schleifenkopf mit Iterationsanweisung \"für jedes i im Bereich von 1 bis 10 mit der Schrittweite 2:\"\n",
    "    container.append(i) # Schleifenkörper mit Anweisung \"hänge für jedes i das i an den Container an\"\n",
    "```\n",
    "Hinweis: Nutzen Sie alle ihnen bekannten Befehle, um sich die Abläufe dieses Prozesses zu verdeutlichen (bspw. `print, help, len, ?, ??`).    \n"
   ]
  },
  {
   "cell_type": "code",
   "execution_count": 37,
   "metadata": {},
   "outputs": [
    {
     "name": "stdout",
     "output_type": "stream",
     "text": [
      "[]\n",
      "1\n",
      "[1]\n",
      "4\n",
      "[1, 4]\n",
      "7\n",
      "[1, 4, 7]\n",
      "[1, 4, 7]\n",
      "{'a': 1, 'b': 3, 'c': 5, 'd': 7, 'e': 9}\n"
     ]
    }
   ],
   "source": [
    "# Codezeile Aufgabe\n",
    "list(range(1, 10, 2))\n",
    "\n",
    "container = [] # Initialisierug des Containers: \"erstelle eine leere Liste und weise sie der Variable `container` zu\"\n",
    "print(container)\n",
    "for i in range(1, 10, 3): # Schleifenkopf mit Iterationsanweisung \"für jedes i im Bereich von 1 bis 10 mit der Schrittweite 2:\"\n",
    "    print(i)\n",
    "    container.append(i) # Schleifenkörper mit Anweisung \"hänge für jedes i das i an den Container an\"\n",
    "    print(container)\n",
    "print(container)\n",
    "\n",
    "container = { } # Initialisierug des Containers: \"erstelle eine leere Liste und weise sie der Variable `container` zu\"\n",
    "for i, key in zip(range(1, 10, 2), \"abcde\"): # Schleifenkopf mit Iterationsanweisung \"für jedes i im Bereich von 1 bis 10 mit der Schrittweite 2:\"\n",
    "    container[key] = i # Schleifenkörper mit Anweisung \"hänge für jedes i das i an den Container an\"\n",
    "\n",
    "print(container)"
   ]
  },
  {
   "cell_type": "markdown",
   "metadata": {},
   "source": [
    "----\n",
    "#### **Aufgabe 9:** \n",
    "\n",
    "Schreiben Sie eine `while`-Schleife, die die Zahlen von 10 bis 20 ausgibt. Orientieren Sie sich am folgenden Schema:\n",
    "\n",
    "```python\n",
    "i = 0 # Initialisierung der Iterators \"i soll bei 0 beginnen\"\n",
    "while i < 5: # Schleifenkopf mit Bedingung \"solange i kleiner als 5 ist\"\n",
    "    print('Hello World!') # Anweisung\n",
    "    i = i + 1 # Erhöhung des Iterators am Ende der Schleife \n",
    "    # -> Erhöhung von i um 1 in der Bedingung des nächsten Durchlaufs\n",
    "```\n",
    "\n",
    "**Hinweis: Achten Sie darauf, dass der Iterator am Ende jedes Schleifendurchgangs erhöht wird (bspw.** `i = i + 1` oder `i += 1`**). Ansonsten droht die Schleife ewig zu laufen.** Zudem muss der Iterator gegebenenfalls vor der Schleife initialisiert werden."
   ]
  },
  {
   "cell_type": "code",
   "execution_count": 38,
   "metadata": {},
   "outputs": [
    {
     "name": "stdout",
     "output_type": "stream",
     "text": [
      "10\n",
      "11\n",
      "12\n",
      "13\n",
      "14\n",
      "15\n",
      "16\n",
      "17\n",
      "18\n",
      "19\n",
      "20\n"
     ]
    }
   ],
   "source": [
    "# Codezeile Aufgabe\n",
    "\n",
    "i = 10 # Initialisierung der Iterators \"i soll bei 0 beginnen\"\n",
    "\n",
    "while i <= 20: # Schleifenkopf mit Bedingung \"solange i kleiner als 5 ist\"\n",
    "    print(i) # Anweisung\n",
    "    i = i + 1 # Erhöhung des Iterators am Ende der Schleife \n",
    "    # -> Erhöhung von i um 1 in der Bedingung des nächsten Durchlaufs\n"
   ]
  },
  {
   "cell_type": "code",
   "execution_count": 39,
   "metadata": {},
   "outputs": [
    {
     "name": "stdout",
     "output_type": "stream",
     "text": [
      "10\n",
      "11\n",
      "12\n",
      "13\n",
      "14\n",
      "15\n",
      "16\n",
      "17\n",
      "18\n",
      "19\n",
      "20\n"
     ]
    }
   ],
   "source": [
    "i = 0 # Initialisierung der Iterators \"i soll bei 0 beginnen\"\n",
    "\n",
    "while i <= 20: # Schleifenkopf mit Bedingung \"solange i kleiner als 5 ist\"\n",
    "    if i >= 10:\n",
    "        print(i)\n",
    "    i += 1 # Erhöhung des Iterators am Ende der Schleife \n",
    "    # -> Erhöhung von i um 1 in der Bedingung des nächsten Durchlaufs"
   ]
  },
  {
   "cell_type": "markdown",
   "metadata": {},
   "source": [
    "----\n",
    "#### **Aufgabe 10:** \n",
    "\n",
    "\n",
    "Deklarieren Sie einen beliebigen Container als Variable. Nutzen Sie die `if`-Schleife, um einen `print`-Befehl auszugeben, falls die Bedingung \n",
    "```python\n",
    "\"a\" in variablenname\n",
    "``` \n",
    "gegeben ist. Fügen Sie eine `else`-Schleife für den Fall, dass die Bedingung nicht zutrifft, hinzu. "
   ]
  },
  {
   "cell_type": "code",
   "execution_count": 40,
   "metadata": {},
   "outputs": [
    {
     "name": "stdout",
     "output_type": "stream",
     "text": [
      "\"a\" ist nicht in \"Wissenschftliche Dtenverrbeitung\" enthalten.\n"
     ]
    }
   ],
   "source": [
    "# Codezeile Aufgabe\n",
    "\n",
    "variablenname = \"Wissenschftliche Dtenverrbeitung\"\n",
    "\n",
    "if \"a\" in variablenname:\n",
    "    print('\"a\" ist in', variablenname, \"enthalten.\")\n",
    "    print( '\"a\" ist in \"{}\" enthalten.'.format(variablenname) )\n",
    "else:\n",
    "    print( '\"a\" ist nicht in \"{}\" enthalten.'.format(variablenname) )\n",
    "    \n",
    "\n",
    "# \" test\".format??"
   ]
  },
  {
   "cell_type": "markdown",
   "metadata": {},
   "source": [
    "----\n",
    "#### **Aufgabe 11:** \n",
    "\n",
    "**Game: Zahlenraten**\n",
    "\n",
    "**ACHTUNG: Gehen Sie überlegt mit der `while`-Schleife um! Falsch gesetzte Bedingungen und fehlende Abbruchbedingungen können zu ewigen Schleifendurchläufen führen. Der manuelle Abbruch kostet Zeit.**\n",
    "\n",
    "Folgender Code behandelt die Verknüpfung von `while`- und `if`-Schleifen:\n",
    "\n",
    "\n",
    "```python\n",
    "gesuchte_zahl = 1337\n",
    "rate_versuch = -1\n",
    "counter = 0\n",
    "\n",
    "while rate_versuch != gesuchte_zahl:\n",
    "    \n",
    "    rate_versuch = 0\n",
    "    rate_versuch = int(input(\"Raten Sie die gesuchte Ganzzahl: \"))\n",
    "    \n",
    "    if rate_versuch == 0:\n",
    "        print(\"Abbruch zur Sicherheit des Kernels.\")\n",
    "        break\n",
    "    \n",
    "    if rate_versuch < gesuchte_zahl:\n",
    "        print(\"Zu klein geraten.\")\n",
    "    \n",
    "    if rate_versuch > gesuchte_zahl:\n",
    "        print(\"Zu groß geraten.\")\n",
    "        \n",
    "    counter = counter + 1\n",
    "    \n",
    "print(\"Gratulation, Sie haben die gesuchte Zahl mit\", counter, \"Versuchen erraten!\")\n",
    "```\n",
    "\n",
    "Hinweis: Kommentieren Sie die Zeile `rate_versuch = int(input(....` ein bzw. aus, falls der `input`-Befehl beim Ausführen der Zelle ohne Eingabe stört.\n",
    "\n",
    "a) Kommentieren Sie die Code-Zeilen knapp mit `#`. Was passiert in den einzelnen Zeilen?"
   ]
  },
  {
   "cell_type": "code",
   "execution_count": 41,
   "metadata": {},
   "outputs": [
    {
     "name": "stdout",
     "output_type": "stream",
     "text": [
      "Abbruch zur Sicherheit des Kernels.\n",
      "Gratulation, Sie haben die gesuchte Zahl mit 0 Versuchen erraten!\n"
     ]
    }
   ],
   "source": [
    "# Codezeile Aufgabe\n",
    "\n",
    "# \"global\" definierte Variablen\n",
    "gesuchte_zahl = 1337     # Variable int wird initialisiert - gesuchte Zahl\n",
    "rate_versuch = -1        # Variable int wird initialisiert - geratene Zahl ungleich gesuchte Zahl - muss initialisiert werden, damit es in der Schleife bekannt ist\n",
    "counter = 0              # Variable int wird initialisiert - Zähler auf null gesetzt\n",
    "\n",
    "# while-Schleife mit neuen Definitionen\n",
    "while rate_versuch != gesuchte_zahl: # Beginn der while-Schleife \n",
    "#     \"Während die geratene Zahl ungleich der gesuchten Zahl ist...\"\n",
    "    \n",
    "    rate_versuch = 0                 # Ausweichende Definition, falls der input nicht genutzt wird, kann auch oben schon 0 gesetzt werden\n",
    "#     rate_versuch = int(input(prompt=\"Raten Sie die gesuchte Ganzzahl: \")) # Eingabe-Zeile, per Definition nur int-Eingabe\n",
    "    \n",
    "    if rate_versuch == 0:            # # if-Schleife für Abbruch des Spiels\n",
    "        print(\"Abbruch zur Sicherheit des Kernels.\") # Ausgabe\n",
    "        break               # bricht die Schleife ab und beendet den while-Schleifen-Durchgang\n",
    "    \n",
    "    if rate_versuch < gesuchte_zahl: # # Ausgabe, falls zu klein geraten - if-Schleife\n",
    "        print(\"Zu klein geraten.\")\n",
    "    \n",
    "    if rate_versuch > gesuchte_zahl: # # Ausgabe, falls zu groß geraten - if-Schleife\n",
    "        print(\"Zu groß geraten.\")\n",
    "        \n",
    "    counter = counter + 1 # Zähler der Versuche - für jeden Versuch +1\n",
    "    \n",
    "print(\"Gratulation, Sie haben die gesuchte Zahl mit\", counter, \"Versuchen erraten!\") # Abschließendes print außerhalb der while-Schleife\n",
    "# möglw. andere Abfrage"
   ]
  },
  {
   "cell_type": "markdown",
   "metadata": {},
   "source": [
    "b) Modifizieren Sie den Code, indem Sie weitere Informationen, Abfragen etc. hinzufügen."
   ]
  },
  {
   "cell_type": "code",
   "execution_count": 42,
   "metadata": {},
   "outputs": [
    {
     "name": "stdout",
     "output_type": "stream",
     "text": [
      "Abbruch zur Sicherheit des Kernels.\n",
      "Gratulation, Sie haben die gesuchte Zahl mit 0 Versuchen erraten!\n"
     ]
    }
   ],
   "source": [
    "# Codezeile Aufgabe\n",
    "\n",
    "gesuchte_zahl = 1337\n",
    "rate_versuch = -1\n",
    "counter = 0\n",
    "\n",
    "while rate_versuch != gesuchte_zahl:\n",
    "    \n",
    "    rate_versuch = 0\n",
    "    # rate_versuch = int(input(\"Raten Sie die gesuchte Ganzzahl: \"))\n",
    "    \n",
    "    if rate_versuch == 0:\n",
    "        print(\"Abbruch zur Sicherheit des Kernels.\")\n",
    "        break\n",
    "    \n",
    "    if rate_versuch < gesuchte_zahl:\n",
    "        print(\"Zu klein geraten.\")\n",
    "    \n",
    "    if rate_versuch > gesuchte_zahl:\n",
    "        print(\"Zu groß geraten.\")\n",
    "        \n",
    "    counter = counter + 1\n",
    "    \n",
    "print(\"Gratulation, Sie haben die gesuchte Zahl mit\", counter, \"Versuchen erraten!\")"
   ]
  },
  {
   "cell_type": "markdown",
   "metadata": {},
   "source": [
    "---\n",
    "---\n",
    "### Eigene Funktionen\n",
    "\n",
    "\n",
    "Neben der Nutzung der standartmäßig vorhandenen Funktionen ist es selbstverständlich möglich, eigene Funktionen zu schreiben:\n",
    "\n",
    "* Einleitung durch Schlüsselwort: `def`\n",
    "* Funktionsname\n",
    "* Argumente in Klammern `()`\n",
    "* Rückgabe (nicht immer nötig) durch Schlüsselwort: `return`\n",
    "\n",
    "```python\n",
    "def funktionsname(argument): # Funktionskopf\n",
    "    anweisung # Funktionskörper\n",
    "    return anweisung # Funktionsrückgabe\n",
    "```\n",
    "\n",
    "\n",
    "Funktionen bieten sich an um:<br>\n",
    "* Code allgemeingültiger zu gestalten\n",
    "* Wiederholungen zu vermeiden\n",
    "* komplexere Inhalte zentral zu hinterlegen und einfach abzurufen\n"
   ]
  },
  {
   "cell_type": "markdown",
   "metadata": {},
   "source": [
    "----\n",
    "#### **Aufgabe 12:** \n",
    "\n",
    "a) Schreiben Sie eine Funktion, die einen Container als Argument übernimmt und die Länge des Containers zurückgibt. Dokumentieren und testen Sie Ihre Funktion. \n",
    "\n",
    "Hinweis: Nutzen Sie standartmäßig vorhandene Funktionen in ihrer Funktion und schreiben Sie sie allgemeingültig."
   ]
  },
  {
   "cell_type": "code",
   "execution_count": 43,
   "metadata": {},
   "outputs": [],
   "source": [
    "# Codezeile Aufgabe\n",
    "\n",
    "def container_info(x):\n",
    "    \"\"\"\n",
    "    Funktion gibt Informationen eines Containers zurück:\n",
    "\n",
    "    Argumente:\n",
    "        x\n",
    "    Rückgabe\n",
    "        len(x)\n",
    "    \n",
    "    \"\"\"\n",
    "    \n",
    "    return len(x)\n",
    "\n"
   ]
  },
  {
   "cell_type": "code",
   "execution_count": 44,
   "metadata": {},
   "outputs": [],
   "source": [
    "laenge = container_info(container1)"
   ]
  },
  {
   "cell_type": "code",
   "execution_count": 45,
   "metadata": {},
   "outputs": [
    {
     "data": {
      "text/plain": [
       "\u001b[0;31mSignature:\u001b[0m \u001b[0mcontainer_info\u001b[0m\u001b[0;34m(\u001b[0m\u001b[0mx\u001b[0m\u001b[0;34m)\u001b[0m\u001b[0;34m\u001b[0m\u001b[0;34m\u001b[0m\u001b[0m\n",
       "\u001b[0;31mSource:\u001b[0m   \n",
       "\u001b[0;32mdef\u001b[0m \u001b[0mcontainer_info\u001b[0m\u001b[0;34m(\u001b[0m\u001b[0mx\u001b[0m\u001b[0;34m)\u001b[0m\u001b[0;34m:\u001b[0m\u001b[0;34m\u001b[0m\n",
       "\u001b[0;34m\u001b[0m    \u001b[0;34m\"\"\"\u001b[0m\n",
       "\u001b[0;34m    Funktion gibt Informationen eines Containers zurück:\u001b[0m\n",
       "\u001b[0;34m\u001b[0m\n",
       "\u001b[0;34m    Argumente:\u001b[0m\n",
       "\u001b[0;34m        x\u001b[0m\n",
       "\u001b[0;34m    Rückgabe\u001b[0m\n",
       "\u001b[0;34m        len(x)\u001b[0m\n",
       "\u001b[0;34m    \u001b[0m\n",
       "\u001b[0;34m    \"\"\"\u001b[0m\u001b[0;34m\u001b[0m\n",
       "\u001b[0;34m\u001b[0m    \u001b[0;34m\u001b[0m\n",
       "\u001b[0;34m\u001b[0m    \u001b[0;32mreturn\u001b[0m \u001b[0mlen\u001b[0m\u001b[0;34m(\u001b[0m\u001b[0mx\u001b[0m\u001b[0;34m)\u001b[0m\u001b[0;34m\u001b[0m\u001b[0;34m\u001b[0m\u001b[0m\n",
       "\u001b[0;31mFile:\u001b[0m      /tmp/ipykernel_1221858/3790729533.py\n",
       "\u001b[0;31mType:\u001b[0m      function"
      ]
     },
     "metadata": {},
     "output_type": "display_data"
    }
   ],
   "source": [
    "container_info??"
   ]
  },
  {
   "cell_type": "code",
   "execution_count": 46,
   "metadata": {},
   "outputs": [
    {
     "name": "stdout",
     "output_type": "stream",
     "text": [
      "Variable                     Type             Data/Info\n",
      "-------------------------------------------------------\n",
      "a                            int              9\n",
      "b                            float            14.0\n",
      "c                            float            384.0\n",
      "container                    dict             n=5\n",
      "container1                   str              Pymugthon is fun!\n",
      "container2                   tuple            n=6\n",
      "container3                   dict             n=5\n",
      "container3_dictionary_list   list             n=4\n",
      "container3_keys_list         list             n=4\n",
      "container3_values_list       list             n=4\n",
      "container4                   list             n=7\n",
      "container_info               function         <function container_info at 0x7f3e00272160>\n",
      "counter                      int              0\n",
      "d                            str              xyz\n",
      "dictionary                   dict             n=3\n",
      "e                            complex          (4+3j)\n",
      "entry                        int              3\n",
      "f                            TextIOWrapper    <_io.TextIOWrapper name='<...>ode='w' encoding='UTF-8'>\n",
      "gesuchte_zahl                int              1337\n",
      "hello_world                  str              Mein 'Hello World'-Statement!\n",
      "i                            int              21\n",
      "key                          str              e\n",
      "laenge                       int              17\n",
      "liste                        list             n=4\n",
      "print_test                   TextIOWrapper    <_io.TextIOWrapper name='<...>ode='r' encoding='UTF-8'>\n",
      "rate_versuch                 int              0\n",
      "string                       str              WissDV\n",
      "this                         module           <module 'this' from '/srv<...>l/lib/python3.9/this.py'>\n",
      "tuple                        tuple            n=4\n",
      "variablenname                str              Wissenschftliche Dtenverrbeitung\n"
     ]
    }
   ],
   "source": [
    "%whos"
   ]
  },
  {
   "cell_type": "markdown",
   "metadata": {},
   "source": [
    "b) Erweitern Sie ihre Funktion um ein `print`-Statement, welches die Länge des Containers unabhängig von der Zurückgabe ausgibt."
   ]
  },
  {
   "cell_type": "code",
   "execution_count": 47,
   "metadata": {},
   "outputs": [
    {
     "name": "stdout",
     "output_type": "stream",
     "text": [
      "Länge des Containers: 17\n"
     ]
    },
    {
     "data": {
      "text/plain": [
       "17"
      ]
     },
     "execution_count": 47,
     "metadata": {},
     "output_type": "execute_result"
    }
   ],
   "source": [
    "# Codezeile Aufgabe\n",
    "\n",
    "def container_info(x):\n",
    "    \"\"\"\n",
    "    Funktion gibt Informationen eines Containers zurück und printet sie:\n",
    "\n",
    "    Argumente:\n",
    "        x\n",
    "    Rückgabe\n",
    "        len(x)\n",
    "    \n",
    "    \"\"\"\n",
    "    print(\"Länge des Containers:\", len(x) )\n",
    "    return len(x)\n",
    "\n",
    "container_info(container1)"
   ]
  },
  {
   "cell_type": "markdown",
   "metadata": {},
   "source": [
    "c) Erweitern Sie Ihre Funktion so, dass das Resultat aus Aufgabenteil b) nur ausgegeben wird, wenn `info=True` als Argument gesetzt wird.\n",
    "\n",
    "Hinweis: Fügen Sie `info` als Argument in den Funktionskopf hinzu und nutzen Sie Ihr Wissen um Schleifen."
   ]
  },
  {
   "cell_type": "code",
   "execution_count": 48,
   "metadata": {},
   "outputs": [
    {
     "name": "stdout",
     "output_type": "stream",
     "text": [
      "Länge des Containers: 17\n"
     ]
    },
    {
     "data": {
      "text/plain": [
       "17"
      ]
     },
     "execution_count": 48,
     "metadata": {},
     "output_type": "execute_result"
    }
   ],
   "source": [
    "# Codezeile Aufgabe\n",
    "\n",
    "def container_info(x, info=False):\n",
    "    \"\"\"\n",
    "    Funktion gibt Informationen eines Containers zurück und printet sie:\n",
    "\n",
    "    Argumente:\n",
    "        x\n",
    "    Rückgabe\n",
    "        len(x)\n",
    "    \n",
    "    \"\"\"\n",
    "    if info==True:\n",
    "        print(\"Länge des Containers:\", len(x) )\n",
    "    return len(x)\n",
    "\n",
    "container_info(container1, info=True)"
   ]
  },
  {
   "cell_type": "code",
   "execution_count": 49,
   "metadata": {},
   "outputs": [
    {
     "name": "stdout",
     "output_type": "stream",
     "text": [
      "Funktionsaufruf container_a:\n",
      "Länge des Containers: 3\n",
      "Funktionsaufruf container_b:\n",
      "Länge des Containers: 7\n",
      "Funktionsaufruf container_c:\n",
      "info ist nicht True\n"
     ]
    },
    {
     "data": {
      "text/plain": [
       "3"
      ]
     },
     "execution_count": 49,
     "metadata": {},
     "output_type": "execute_result"
    }
   ],
   "source": [
    "def container_len_test(argument, info=True): # Funktion benannt\n",
    "    \"\"\"Docstring - Beschreibung der Funktion\"\"\"\n",
    "    if info == True:\n",
    "        print(\"Länge des Containers:\", len(argument)) # print-Statement\n",
    "    \n",
    "    else:\n",
    "        print(\"info ist nicht True\")\n",
    "        \n",
    "    return len(argument)        # Funktionsrückgabe\n",
    "\n",
    "\n",
    "# Container, die ich aufrufen möchte\n",
    "container_a = [1, 2, 3] # Liste\n",
    "container_b = \"1, 2, 3\" # String\n",
    "container_c = {0:1, 1:2, 2:3} # Dictionary\n",
    "\n",
    "print(\"Funktionsaufruf container_a:\")\n",
    "container_len_test(container_a)\n",
    "print(\"Funktionsaufruf container_b:\")\n",
    "container_len_test(container_b, info=True)\n",
    "print(\"Funktionsaufruf container_c:\")\n",
    "container_len_test(container_c, info=False)"
   ]
  },
  {
   "cell_type": "markdown",
   "metadata": {},
   "source": [
    "#### Unterschied zwischen Rückgabe `return` und Ausgabe `print`:"
   ]
  },
  {
   "cell_type": "code",
   "execution_count": 50,
   "metadata": {},
   "outputs": [
    {
     "name": "stdout",
     "output_type": "stream",
     "text": [
      "Länge des Containers: 17\n"
     ]
    }
   ],
   "source": [
    "def container_info_return(x):\n",
    "    \"\"\"\n",
    "    Funktion gibt Informationen eines Containers zurück und printet sie:\n",
    "\n",
    "    Argumente:\n",
    "        x\n",
    "    Rückgabe\n",
    "        len(x)\n",
    "    \n",
    "    \"\"\"\n",
    "    # print(\"Länge des Containers:\", len(x) )\n",
    "    return len(x)\n",
    "\n",
    "info_return = container_info_return(container1)\n",
    "\n",
    "\n",
    "def container_info_print(x):\n",
    "    \"\"\"\n",
    "    Funktion gibt Informationen eines Containers zurück und printet sie:\n",
    "\n",
    "    Argumente:\n",
    "        x\n",
    "    Rückgabe\n",
    "        len(x)\n",
    "    \n",
    "    \"\"\"\n",
    "    print(\"Länge des Containers:\", len(x) )\n",
    "    # return len(x)\n",
    "\n",
    "info_print = container_info_print(container1)"
   ]
  },
  {
   "cell_type": "code",
   "execution_count": 51,
   "metadata": {},
   "outputs": [
    {
     "name": "stdout",
     "output_type": "stream",
     "text": [
      "17\n",
      "None\n"
     ]
    }
   ],
   "source": [
    "print(info_return)\n",
    "print(info_print)"
   ]
  },
  {
   "cell_type": "markdown",
   "metadata": {},
   "source": [
    "---\n",
    "---\n",
    "## Ausblick: NumPy - Numerical Python\n",
    "\n",
    "[NumPy Dokumentation](https://numpy.org/ \"externer Link nach numpy.org\")\n",
    "\n",
    "Modul für die meisten mathematischen, numerischen Operationen:\n",
    "\n",
    "* Vektoren\n",
    "* Matrizen (Inverse, Pseudoinverse)\n",
    "* Datenimport / Datenexport\n",
    "* Regression / Fit\n",
    "* uvm.\n",
    "\n",
    "\n",
    "Import:\n",
    "```python\n",
    "import numpy\n",
    "```\n",
    "meistens:\n",
    "```python\n",
    "import numpy as np\n",
    "```\n",
    "\n",
    "**Vorsicht:**\n",
    "Ähnliche Syntax wie Listen `list`, allerdings wesentlich andere Funktionalität.\n",
    "\n",
    "* effizientere Speicherung\n",
    "* zusätzliche Funktionen zur Datenbearbeitung\n",
    "* effiziente Schnittstelle zum Speichern und Bearbeiten dicht gepackter Daten\n",
    "* grundlegendes Werkzeug der *Data Science* mit *Python*\n",
    "\n",
    "\n",
    "*```Funktion(x)``` zum Erstellen und Umformatieren von x in den jeweiligen Datentyp, Beispiel für Formatierung des Datentyps*\n",
    "\n",
    "NumPy n-dimensionaler Array: ```numpy.ndarray```\n",
    "```python\n",
    "numpy.array(), array([[1, 2, 3],\n",
    "                      [4, 5, 6],\n",
    "                      [7, 8, 9]])\n",
    "```"
   ]
  },
  {
   "cell_type": "markdown",
   "metadata": {},
   "source": [
    "----\n",
    "----\n",
    "#### **Zusatzaufgabe für besonders motivierte Teilnehmer*innen:** \n",
    "\n",
    "Schreiben Sie Funktionen für den Eigenbedarf: Formeln, Alltägliches, alles was Sie schon immer mal als Funktion in *Python* festhalten wollten."
   ]
  },
  {
   "cell_type": "code",
   "execution_count": 52,
   "metadata": {},
   "outputs": [],
   "source": [
    "# Codezeile Aufgabe\n",
    "\n"
   ]
  },
  {
   "cell_type": "markdown",
   "metadata": {},
   "source": [
    "----\n",
    "#### **Zusatzaufgabe für besonders motivierte Teilnehmer*innen:** \n",
    "\n",
    "Modifizieren Sie die folgenden Funktionen zur Berechnung der Fakultät mit allen Mitteln, die Sie bisher kennengelernt haben und überlegen Sie, welche der beiden Ausführung ihnen mehr zusagt. Welche bewerten Sie als effizienter, verständlicher, etc.?"
   ]
  },
  {
   "cell_type": "code",
   "execution_count": 53,
   "metadata": {},
   "outputs": [
    {
     "data": {
      "text/plain": [
       "24"
      ]
     },
     "execution_count": 53,
     "metadata": {},
     "output_type": "execute_result"
    }
   ],
   "source": [
    "# Codezeile Aufgabe\n",
    "\n",
    "def faculty1(number):\n",
    "    \"\"\"This function returns the faculty of a number.\"\"\"\n",
    "    res = 1\n",
    "    for x in range(number):\n",
    "        res = res * (x+1)\n",
    "    return res\n",
    "\n",
    "faculty1(4)"
   ]
  },
  {
   "cell_type": "code",
   "execution_count": 54,
   "metadata": {},
   "outputs": [
    {
     "data": {
      "text/plain": [
       "24"
      ]
     },
     "execution_count": 54,
     "metadata": {},
     "output_type": "execute_result"
    }
   ],
   "source": [
    "# Codezeile Aufgabe\n",
    "\n",
    "def faculty2(number):\n",
    "    \"\"\"This function returns the faculty of a number.\"\"\"\n",
    "    if number == 1:\n",
    "        return 1\n",
    "    else:\n",
    "        return number * faculty2(number-1)\n",
    "\n",
    "faculty2(4)"
   ]
  },
  {
   "cell_type": "code",
   "execution_count": 55,
   "metadata": {},
   "outputs": [],
   "source": [
    "# Codezeile zum Testen\n",
    "\n"
   ]
  },
  {
   "cell_type": "markdown",
   "metadata": {},
   "source": [
    "----\n",
    "#### **Zusatzaufgabe für besonders motivierte Teilnehmer*innen:** \n",
    "\n",
    "Schreiben Sie eine Funktion, die eine mit Zahlen gefüllte Liste als Argument entgegennimmt und Sie sortiert. Vermeiden Sie die build-in Funktion ```sorted()```."
   ]
  },
  {
   "cell_type": "code",
   "execution_count": 56,
   "metadata": {},
   "outputs": [],
   "source": [
    "# Codezeile Aufgabe\n",
    "\n"
   ]
  },
  {
   "cell_type": "markdown",
   "metadata": {},
   "source": [
    "Folgenden Referenz-Code wenn nötig aufklappen:"
   ]
  },
  {
   "cell_type": "code",
   "execution_count": 57,
   "metadata": {
    "jupyter": {
     "source_hidden": true
    },
    "tags": []
   },
   "outputs": [
    {
     "name": "stdout",
     "output_type": "stream",
     "text": [
      "[0, 1, 3, 4, 5, 7]\n"
     ]
    }
   ],
   "source": [
    "# Referenzcode\n",
    "\n",
    "def sort_list(liste):\n",
    "    \n",
    "    liste_sorted = []\n",
    "    \n",
    "    while len(liste) > 0:\n",
    "        liste_sorted.append(min(liste))\n",
    "        liste.remove(min(liste))\n",
    "        \n",
    "    return liste_sorted\n",
    "\n",
    "print(sort_list([0, 5, 3, 7, 4, 1]))"
   ]
  },
  {
   "cell_type": "code",
   "execution_count": 58,
   "metadata": {
    "tags": []
   },
   "outputs": [
    {
     "name": "stdout",
     "output_type": "stream",
     "text": [
      "[0, 1, 3, 4, 5, 7]\n"
     ]
    }
   ],
   "source": [
    "# Kontrollergebnis\n",
    "\n",
    "print(sorted([0, 5, 3, 7, 4, 1]))"
   ]
  },
  {
   "cell_type": "code",
   "execution_count": null,
   "metadata": {},
   "outputs": [],
   "source": []
  }
 ],
 "metadata": {
  "kernelspec": {
   "display_name": "py3-general [conda env:py3-general]",
   "language": "python",
   "name": "conda-env-py3-general-py"
  },
  "language_info": {
   "codemirror_mode": {
    "name": "ipython",
    "version": 3
   },
   "file_extension": ".py",
   "mimetype": "text/x-python",
   "name": "python",
   "nbconvert_exporter": "python",
   "pygments_lexer": "ipython3",
   "version": "3.9.18"
  }
 },
 "nbformat": 4,
 "nbformat_minor": 4
}
