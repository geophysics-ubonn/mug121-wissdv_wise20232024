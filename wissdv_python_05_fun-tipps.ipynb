{
 "cells": [
  {
   "cell_type": "markdown",
   "metadata": {},
   "source": [
    "Wintersemester 2023/2024"
   ]
  },
  {
   "cell_type": "markdown",
   "metadata": {},
   "source": [
    "# mug121 - Wissenschaftliche Datenverarbeitung: Python-Einführung – Notebook 5 - Objektorientierte Programmierung, Fun, Tipps und Ausblick"
   ]
  },
  {
   "cell_type": "markdown",
   "metadata": {},
   "source": [
    "> Niklas Heidemann (heidemann@geo.uni-bonn.de)<br>\n",
    "> Alexander Jaron (jaron@geo.uni-bonn.de)"
   ]
  },
  {
   "cell_type": "markdown",
   "metadata": {},
   "source": [
    "---\n",
    "---\n",
    "\n",
    "## Weiterer Ablauf: \n",
    "\n",
    "* Objektorientiertes Programmieren (Klassen `class`) und eigene Bibliotheken \n",
    "\n"
   ]
  },
  {
   "cell_type": "markdown",
   "metadata": {},
   "source": [
    "----\n",
    "----\n",
    "> ## Erinnerung: Modularisierung\n",
    "> \n",
    "> ### Globale Module - Import von Bibliotheken\n",
    "> \n",
    "> ```python\n",
    "> # Import der gesamten Bibliothek:\n",
    "> import bibliothek\n",
    "> import bibliothek as kürzel\n",
    "> # Import einzelner Funktionen:\n",
    "> from bibliothek import funktion\n",
    "> from bibliothek import funktion as kürzel\n",
    "> ```\n",
    "> \n",
    "> möglichst vermeiden:\n",
    "> \n",
    "> ```from bibliothek import *```\n",
    "> \n",
    "> * **!! importiert alle Funktionen des Moduls `bibliothek` und überschreibt / konkurriert mit build-in Funktionen !!**\n",
    "> \n",
    "> ### Funktionsaufruf\n",
    "> \n",
    "> Funktionsaufruf je nach Import mit `bibliothek.funktion()` bzw. `kürzel.funktion()`, `funktion()` oder `kürzel()`\n",
    "> \n",
    "> \n",
    "> ### Lokale Module - Import von lokalen Paketen\n",
    "> \n",
    "> * eigene Funktionen oder Klassen lassen sich in `.py`-Dateien oder `.ipynb`-Notebooks ablegen\n",
    "> * Import von `name.py`  wie unter [Globale Module](#Globale-Module---Import-von-Bibliotheken \"Kapitel > 'Globale Module'\") z.B. mit \n",
    "> \n",
    "> ```python\n",
    "> import name as kürzel\n",
    "> ```\n",
    "> \n",
    "> * Funktionsaufruf wie gewohnt mit `name.funktion()`, bzw. `kürzel.funktion()`\n",
    "> * Funktionsnamen sind *case-sensitiv* (Groß- und Kleinschreibung wird beachtet)\n",
    "> \n",
    "> **Ladereihenfolge: global oder lokal** - welches zuerst?\n",
    "> \n",
    "> 1. lokale Module\n",
    "> 2. globale Module\n",
    "> 3. falls weder lokale noch globale Module unter verwendetem Namen gefunden werden können: > \"ModuleNotFoundError\"\n",
    "> \n",
    "> **Außer:** Überschreiben gewünscht.\n",
    "----"
   ]
  },
  {
   "cell_type": "code",
   "execution_count": 1,
   "metadata": {},
   "outputs": [],
   "source": [
    "# Codezeile zum Testen\n",
    "# import meine_lokale_bib_njh as mlb\n"
   ]
  },
  {
   "cell_type": "markdown",
   "metadata": {},
   "source": [
    "----\n",
    "----\n",
    "\n",
    "## Funktionen und Objekte\n",
    "\n",
    "```python\n",
    "def funktionsname(argumente):\n",
    "    \"\"\"Docstring\"\"\"\n",
    "    funktionskörper\n",
    "    return funktionsrückgabe\n",
    "```\n",
    "\n",
    "\n",
    "```python\n",
    "class objectname01(object):\n",
    "    \"\"\"Docstring\"\"\"\n",
    "    \n",
    "    def __init__(self, argumente):\n",
    "        self.argument = argument\n",
    "        \n",
    "       \n",
    "    def __add__(self): # Rechenoperation \"+\" für dieses Objekt\n",
    "        \n",
    "        pass\n",
    "        ...\n",
    "        \n",
    "    def funktionsname(self, zusätzliche argumente): # Vererbung und Weitergabe\n",
    "        \"\"\"Docstring\"\"\"\n",
    "        funktionskörper\n",
    "        return funktionsrückgabe\n",
    "    \n",
    "class objectname02(objectname01): # übernimmt alle Funktionen und Eigenschaften aus objectname01\n",
    "    \"\"\"Docstring\"\"\"\n",
    "    \n",
    "    def funktionsname02(self, zusätzliche argumente): # Vererbung und Weitergabe\n",
    "        \"\"\"Docstring\"\"\"\n",
    "        funktionskörper\n",
    "        return funktionsrückgabe\n",
    "```\n",
    "\n",
    "* **Vererbung** mittels `self`\n",
    "  * Variablen\n",
    "  * Argumente\n",
    "  * Funktionen\n",
    "\n",
    "----"
   ]
  },
  {
   "cell_type": "code",
   "execution_count": 2,
   "metadata": {},
   "outputs": [],
   "source": [
    "# Codezeile zum Testen\n",
    "\n"
   ]
  },
  {
   "cell_type": "code",
   "execution_count": 3,
   "metadata": {},
   "outputs": [],
   "source": [
    "class Konto(object): \n",
    "\n",
    "    def __init__(self, inhaber, kontonummer, \n",
    "                 kontostand, \n",
    "                 kontokorrent=0): \n",
    "        self.Inhaber = inhaber \n",
    "        self.Kontonummer = kontonummer \n",
    "        self.Kontostand = kontostand \n",
    "        self.Kontokorrent = kontokorrent\n",
    "        print(\"Initialisierung des Kontos abgeschlossen!\")\n",
    "#         print(\"Kontoinhaber: {}, Kontonummer: {}\".format(self.Inhaber, self.Kontonummer))\n",
    "\n",
    "    def ueberweisen(self, ziel, betrag):\n",
    "        if(self.Kontostand - betrag < -self.Kontokorrent):\n",
    "            print(\"nicht möglich\")\n",
    "            # Deckung nicht genuegend\n",
    "            return False  \n",
    "        else: \n",
    "            print(\"Überweisung getätigt\")\n",
    "            self.Kontostand -= betrag \n",
    "#             self.Kontostand = self.Kontostand - betrag\n",
    "            ziel.Kontostand += betrag \n",
    "            return True\n",
    " \n",
    "    def einzahlen(self, betrag): \n",
    "        self.Kontostand += betrag \n",
    " \n",
    "    def auszahlen(self, betrag): \n",
    "        self.Kontostand -= betrag \n",
    " \n",
    "    def kontostand(self): \n",
    "        return self.Kontostand\n",
    "    \n",
    "    def print_kontoinfos(self, print_all=True):\n",
    "        if print_all == False:\n",
    "            print(\"Inhaber: {}\".format(self.Inhaber))\n",
    "            print(\"Nr.: {}\".format(self.Kontonummer))\n",
    "            print(\"Kontostand: {}\".format(self.Kontostand))\n",
    "        else:\n",
    "            print(\"Inhaber: {}\".format(self.Inhaber))\n",
    "            print(\"Nr.: {}\".format(self.Kontonummer))\n",
    "            print(\"Kontostand: {}\".format(self.Kontostand))\n",
    "            print(\"Kontokorrent: {}\".format(self.Kontokorrent))\n",
    "            \n",
    "    \n",
    "    "
   ]
  },
  {
   "cell_type": "code",
   "execution_count": 4,
   "metadata": {},
   "outputs": [
    {
     "name": "stdout",
     "output_type": "stream",
     "text": [
      "Initialisierung des Kontos abgeschlossen!\n",
      "<__main__.Konto object at 0x7f28d02f4970>\n"
     ]
    }
   ],
   "source": [
    "konto1 = Konto(\"WissDVler*in\", 123456789, 200)\n",
    "print(konto1)"
   ]
  },
  {
   "cell_type": "code",
   "execution_count": 5,
   "metadata": {},
   "outputs": [
    {
     "name": "stdout",
     "output_type": "stream",
     "text": [
      "WissDVler*in\n"
     ]
    }
   ],
   "source": [
    "print(konto1.Inhaber)"
   ]
  },
  {
   "cell_type": "code",
   "execution_count": 6,
   "metadata": {},
   "outputs": [
    {
     "name": "stdout",
     "output_type": "stream",
     "text": [
      "123456789\n"
     ]
    }
   ],
   "source": [
    "print(konto1.Kontonummer)"
   ]
  },
  {
   "cell_type": "code",
   "execution_count": 7,
   "metadata": {},
   "outputs": [
    {
     "name": "stdout",
     "output_type": "stream",
     "text": [
      "Initialisierung des Kontos abgeschlossen!\n"
     ]
    }
   ],
   "source": [
    "konto2 = Konto(\"Empfänger*in\", 987654321, 1000)"
   ]
  },
  {
   "cell_type": "code",
   "execution_count": 8,
   "metadata": {},
   "outputs": [
    {
     "name": "stdout",
     "output_type": "stream",
     "text": [
      "nicht möglich\n",
      "False\n",
      "Schade, mehr Geld nötig.\n"
     ]
    }
   ],
   "source": [
    "ueberweisung1 = konto1.ueberweisen(konto2, 300)\n",
    "print(ueberweisung1)\n",
    "if ueberweisung1 == True:\n",
    "    print(\"Sie haben Ihre erste Überweisung getätigt, herzlichen Glückwunsch!\")\n",
    "else:\n",
    "    print(\"Schade, mehr Geld nötig.\")"
   ]
  },
  {
   "cell_type": "code",
   "execution_count": 9,
   "metadata": {},
   "outputs": [
    {
     "name": "stdout",
     "output_type": "stream",
     "text": [
      "200 1000\n"
     ]
    }
   ],
   "source": [
    "print(konto1.Kontostand, konto2.Kontostand)"
   ]
  },
  {
   "cell_type": "code",
   "execution_count": 10,
   "metadata": {},
   "outputs": [],
   "source": [
    "konto1.auszahlen(150)"
   ]
  },
  {
   "cell_type": "code",
   "execution_count": 11,
   "metadata": {},
   "outputs": [
    {
     "name": "stdout",
     "output_type": "stream",
     "text": [
      "50\n"
     ]
    }
   ],
   "source": [
    "print(konto1.Kontostand)"
   ]
  },
  {
   "cell_type": "code",
   "execution_count": 12,
   "metadata": {},
   "outputs": [
    {
     "name": "stdout",
     "output_type": "stream",
     "text": [
      "Überweisung getätigt\n"
     ]
    },
    {
     "data": {
      "text/plain": [
       "True"
      ]
     },
     "execution_count": 12,
     "metadata": {},
     "output_type": "execute_result"
    }
   ],
   "source": [
    "konto2.ueberweisen(konto1, 400)"
   ]
  },
  {
   "cell_type": "code",
   "execution_count": 13,
   "metadata": {},
   "outputs": [
    {
     "name": "stdout",
     "output_type": "stream",
     "text": [
      "950\n"
     ]
    }
   ],
   "source": [
    "konto1.einzahlen(500)\n",
    "print(konto1.Kontostand)"
   ]
  },
  {
   "cell_type": "code",
   "execution_count": 14,
   "metadata": {},
   "outputs": [
    {
     "name": "stdout",
     "output_type": "stream",
     "text": [
      "Inhaber: WissDVler*in\n",
      "Nr.: 123456789\n",
      "Kontostand: 950\n",
      "None\n"
     ]
    }
   ],
   "source": [
    "print(konto1.print_kontoinfos(print_all=False))"
   ]
  },
  {
   "cell_type": "code",
   "execution_count": 15,
   "metadata": {},
   "outputs": [],
   "source": [
    "konto2.Kontokorrent = -100"
   ]
  },
  {
   "cell_type": "code",
   "execution_count": 16,
   "metadata": {},
   "outputs": [
    {
     "name": "stdout",
     "output_type": "stream",
     "text": [
      "Inhaber: Empfänger*in\n",
      "Nr.: 987654321\n",
      "Kontostand: 600\n",
      "Kontokorrent: -100\n",
      "None\n"
     ]
    }
   ],
   "source": [
    "print(konto2.print_kontoinfos())"
   ]
  },
  {
   "cell_type": "code",
   "execution_count": 17,
   "metadata": {},
   "outputs": [],
   "source": [
    "class User(object):\n",
    "#     name = \"\"\n",
    " \n",
    "    def __init__(self, name):\n",
    "        self.name = name\n",
    " \n",
    "    def printName(self):\n",
    "        print(\"Name = \" + self.name)\n",
    "        \n",
    "    def sayHello(self):\n",
    "        print(\"Hello, my name is \" + self.name)\n",
    "\n",
    "\n",
    "class Programmer(User):\n",
    "    def __init__(self, name):\n",
    "        self.name = name\n",
    " \n",
    "    def doPython(self):\n",
    "        print(\"{} programming Python\".format(self.name))\n",
    "        \n",
    "class XYZ(Programmer):\n",
    "    pass"
   ]
  },
  {
   "cell_type": "code",
   "execution_count": 18,
   "metadata": {},
   "outputs": [
    {
     "data": {
      "text/plain": [
       "'PC-User'"
      ]
     },
     "execution_count": 18,
     "metadata": {},
     "output_type": "execute_result"
    }
   ],
   "source": [
    "user1 = User(\"PC-User\")\n",
    "user1.name"
   ]
  },
  {
   "cell_type": "code",
   "execution_count": 19,
   "metadata": {},
   "outputs": [
    {
     "name": "stdout",
     "output_type": "stream",
     "text": [
      "Name = PC-User\n",
      "Hello, my name is PC-User\n"
     ]
    }
   ],
   "source": [
    "user1.printName()\n",
    "user1.sayHello()\n"
   ]
  },
  {
   "cell_type": "code",
   "execution_count": 20,
   "metadata": {},
   "outputs": [
    {
     "name": "stdout",
     "output_type": "stream",
     "text": [
      "Programmer programming Python\n",
      "Programmer\n"
     ]
    }
   ],
   "source": [
    "prog1 = Programmer(\"Programmer\")\n",
    "prog1.doPython()\n",
    "print(prog1.name)\n"
   ]
  },
  {
   "cell_type": "code",
   "execution_count": 21,
   "metadata": {},
   "outputs": [
    {
     "name": "stdout",
     "output_type": "stream",
     "text": [
      "Hello, my name is Programmer\n"
     ]
    }
   ],
   "source": [
    "prog1.sayHello()"
   ]
  },
  {
   "cell_type": "code",
   "execution_count": 22,
   "metadata": {},
   "outputs": [
    {
     "name": "stdout",
     "output_type": "stream",
     "text": [
      "PC-User programming Python\n",
      "PC-User\n"
     ]
    }
   ],
   "source": [
    "prog2 = Programmer(user1.name)\n",
    "prog2.doPython()\n",
    "print(prog2.name)"
   ]
  },
  {
   "cell_type": "code",
   "execution_count": 23,
   "metadata": {},
   "outputs": [],
   "source": [
    "class CoffeeMachine(object):\n",
    "# #     name = None\n",
    "#     beans = 0\n",
    "#     water = 0\n",
    " \n",
    "    def __init__(self, name, beans, water):\n",
    "        self.name = name\n",
    "        self.beans = beans\n",
    "        self.water = water\n",
    " \n",
    "    def addBean(self):\n",
    "        self.beans = self.beans + 1\n",
    " \n",
    "    def removeBean(self):\n",
    "        self.beans = self.beans - 1\n",
    " \n",
    "    def addWater(self):\n",
    "        self.water = self.water + 1\n",
    " \n",
    "    def removeWater(self):\n",
    "        self.water = self.water - 1\n",
    " \n",
    "    def printState(self):\n",
    "        print(\"Name  = \" + self.name)\n",
    "        print(\"Beans = \" + str(self.beans))\n",
    "        print(\"Water = \" + str(self.water))"
   ]
  },
  {
   "cell_type": "code",
   "execution_count": 24,
   "metadata": {},
   "outputs": [
    {
     "name": "stdout",
     "output_type": "stream",
     "text": [
      "Name  = Python Bean\n",
      "Beans = 83\n",
      "Water = 20\n",
      "\n",
      "Name  = Python Bean\n",
      "Beans = 84\n",
      "Water = 20\n",
      "Name  = Python Bean\n",
      "Beans = 84\n",
      "Water = 19\n"
     ]
    }
   ],
   "source": [
    "pythonBean = CoffeeMachine(\"Python Bean\", 83, 20)\n",
    "pythonBean.printState()\n",
    "print(\"\")\n",
    "pythonBean.addBean()\n",
    "pythonBean.printState()\n",
    "pythonBean.removeWater()\n",
    "pythonBean.printState()"
   ]
  },
  {
   "cell_type": "markdown",
   "metadata": {},
   "source": [
    "----\n",
    "----\n",
    "\n",
    "## Grundlegende Struktur unseres Programms / Moduls\n",
    "\n",
    "### .py-Datei:\n",
    "\n",
    "* auskommentierte Beschreibung und Header des Programms/Moduls\n",
    "* allgemeine Infos\n",
    "    * print-Statement zum Laden des Moduls\n",
    "    * Version\n",
    "* globale Importe\n",
    "  * lokale Module\n",
    "  * globale Module\n",
    "* globale Variablen\n",
    "* Funktionen / Definitionen (`def`)\n",
    "* Objekte / Klassen (`class`)\n",
    "  * Klassen mit Vererbung zwischen mehreren Klassen\n",
    "  * Klassen ohne Vererbung\n",
    "\n",
    "### mehrere .py-Dateien & setup.py\n",
    "\n",
    "* mehrere einzelne Module / .py-Dateien lassen sich mittels einer `setup.py`-Datei zu einem ganzen lokalen Modul mit mehreren Untermodulen zusammensetzen.\n",
    "\n",
    "----"
   ]
  },
  {
   "cell_type": "code",
   "execution_count": 25,
   "metadata": {},
   "outputs": [
    {
     "ename": "ModuleNotFoundError",
     "evalue": "No module named 'meine_lokale_bib_njh'",
     "output_type": "error",
     "traceback": [
      "\u001b[0;31m---------------------------------------------------------------------------\u001b[0m",
      "\u001b[0;31mModuleNotFoundError\u001b[0m                       Traceback (most recent call last)",
      "Cell \u001b[0;32mIn[25], line 4\u001b[0m\n\u001b[1;32m      1\u001b[0m \u001b[38;5;66;03m# Codezeile zum Testen\u001b[39;00m\n\u001b[1;32m      2\u001b[0m \n\u001b[1;32m      3\u001b[0m \u001b[38;5;66;03m# Print-Statement zu Beginn der lokalen Bibliothek:\u001b[39;00m\n\u001b[0;32m----> 4\u001b[0m \u001b[38;5;28;01mimport\u001b[39;00m \u001b[38;5;21;01mmeine_lokale_bib_njh\u001b[39;00m \u001b[38;5;28;01mas\u001b[39;00m \u001b[38;5;21;01mmlb\u001b[39;00m\n\u001b[1;32m      5\u001b[0m \u001b[38;5;66;03m# wird beim Laden der Bibliothek ausgegeben\u001b[39;00m\n\u001b[1;32m      7\u001b[0m pythonBean \u001b[38;5;241m=\u001b[39m mlb\u001b[38;5;241m.\u001b[39mCoffeeMachine(\u001b[38;5;124m\"\u001b[39m\u001b[38;5;124mPython Bean\u001b[39m\u001b[38;5;124m\"\u001b[39m, \u001b[38;5;241m83\u001b[39m, \u001b[38;5;241m20\u001b[39m)\n",
      "\u001b[0;31mModuleNotFoundError\u001b[0m: No module named 'meine_lokale_bib_njh'"
     ]
    }
   ],
   "source": [
    "# Codezeile zum Testen\n",
    "\n",
    "# Print-Statement zu Beginn der lokalen Bibliothek:\n",
    "import meine_lokale_bib_njh as mlb\n",
    "# wird beim Laden der Bibliothek ausgegeben\n",
    "\n",
    "pythonBean = mlb.CoffeeMachine(\"Python Bean\", 83, 20)\n",
    "pythonBean.printState()\n",
    "print(\"\")\n",
    "pythonBean.addBean()\n",
    "pythonBean.printState()\n",
    "pythonBean.removeWater()\n",
    "pythonBean.printState()"
   ]
  },
  {
   "cell_type": "markdown",
   "metadata": {},
   "source": [
    "----\n",
    "----\n",
    "## Ausblick\n",
    "\n",
    "### Gemeinsam coden\n",
    "\n",
    "* [cocalc.com](https://cocalc.com/features/jupyter-notebook)\n",
    "* [colab (google)](https://colab.research.google.com/notebooks/intro.ipynb)\n",
    "\n",
    "### Auswerten und Optimieren des Codes\n",
    "\n",
    "* [**pyheat**](https://github.com/csurfer/pyheat \"https://github.com/csurfer/pyheat\") und [**pyheatmagic**](https://github.com/csurfer/pyheatmagic \"https://github.com/csurfer/pyheatmagic\")\n",
    "* **timing**:\n",
    "    ```python\n",
    "    %timeit sum( range(3) )\n",
    "    # führt den Code mehrfach aus und gibt die Geschwindigkeit des schnellsten Durchlaufs an\n",
    "    ```\n",
    "    \n",
    "    \n",
    "    ```python\n",
    "    %%timeit\n",
    "    for i in range(3):\n",
    "        i += 1\n",
    "    # wie %timeit nur für Code-Blöcke\n",
    "    ```\n",
    "    \n",
    "    \n",
    "    ```python\n",
    "    %time sum( range(3) )\n",
    "    # Geschwindigkeit eines einfachen Durchlaufs\n",
    "    ```\n",
    "\n",
    "### Dokumentieren, Debugging\n",
    "\n",
    "* logging:\n",
    "    ```python\n",
    "    import logging\n",
    "    # Bibliothek zum Initialisieren von Log-Dateien und hineinspeichern von Log, Warnungen, Fehlermeldungen\n",
    "    ```\n",
    "\n",
    "### Darstellung\n",
    "\n",
    "\n",
    "* [Rougier, 2021: Scientific Visualization](https://github.com/rougier/scientific-visualization-book)\n",
    "* [Scientific Color Maps](https://www.fabiocrameri.ch/colourmaps/)\n",
    "\n",
    "\n",
    "\n",
    "----"
   ]
  },
  {
   "cell_type": "code",
   "execution_count": null,
   "metadata": {},
   "outputs": [],
   "source": [
    "%timeit sum( range(3) )"
   ]
  },
  {
   "cell_type": "code",
   "execution_count": null,
   "metadata": {},
   "outputs": [],
   "source": [
    "%%timeit\n",
    "for i in range(3):\n",
    "    i += 1"
   ]
  },
  {
   "cell_type": "code",
   "execution_count": null,
   "metadata": {},
   "outputs": [],
   "source": [
    "%time sum( range(3) )"
   ]
  },
  {
   "cell_type": "code",
   "execution_count": null,
   "metadata": {},
   "outputs": [],
   "source": [
    "import numpy as np\n",
    "%time np.sum(range(3))"
   ]
  },
  {
   "cell_type": "code",
   "execution_count": null,
   "metadata": {},
   "outputs": [],
   "source": [
    "zahl = 1000000\n",
    "liste = [i for i in range(zahl)]\n",
    "array = np.arange(zahl)"
   ]
  },
  {
   "cell_type": "code",
   "execution_count": null,
   "metadata": {},
   "outputs": [],
   "source": [
    "%time sum( liste )"
   ]
  },
  {
   "cell_type": "code",
   "execution_count": null,
   "metadata": {},
   "outputs": [],
   "source": [
    "%time np.sum(liste)"
   ]
  },
  {
   "cell_type": "code",
   "execution_count": null,
   "metadata": {},
   "outputs": [],
   "source": [
    "%time sum( array )"
   ]
  },
  {
   "cell_type": "code",
   "execution_count": null,
   "metadata": {},
   "outputs": [],
   "source": [
    "%time np.sum(array)"
   ]
  },
  {
   "cell_type": "markdown",
   "metadata": {},
   "source": [
    "----"
   ]
  },
  {
   "cell_type": "code",
   "execution_count": null,
   "metadata": {},
   "outputs": [],
   "source": [
    "import numpy as np\n",
    "import matplotlib.pyplot as plt\n",
    "\n",
    "y_real = [100, 100]\n",
    "x_real = [0, 10]\n",
    "x_estimated = np.linspace(0, 10, 10)\n",
    "y_estimated = x_estimated ** 2\n",
    "# print(x_estimated, y_estimated)\n",
    "\n",
    "plt.xkcd()\n",
    "plt.figure(figsize=(8, 5))\n",
    "plt.plot(x_estimated, y_estimated, label='geschätzt', ls='--', c='red')\n",
    "plt.plot(x_real, y_real, label='tatsächlich', ls='--', c='blue')\n",
    "plt.xlabel('Wochen')\n",
    "plt.ylabel('Spaß bei der Sache [%]')\n",
    "plt.title('Wissenschaftliche Datenverarbeitung')\n",
    "plt.legend(loc='best')\n",
    "plt.savefig('img/fun_in_curse.pdf', bbox_inches='tight')"
   ]
  },
  {
   "cell_type": "code",
   "execution_count": null,
   "metadata": {},
   "outputs": [],
   "source": [
    "kurs_kenntnisse_beginn = {\"Datenmanagement\":1.3, \n",
    "                          \"Statistik\":1.9, \n",
    "                          \"Tabellen\":2.3, \n",
    "                          \"Programmierkenntnisse\":1.5, \n",
    "                          \"Programmiersprache\":1.4, \n",
    "                          \"wiss. Arbeit\":1.2,\n",
    "                          \"Python, Linux, git\":1.6,\n",
    "                          \"keine Kenntnisse\":2.0}\n",
    "\n",
    "plt.figure(figsize=(8, 5))\n",
    "plt.barh(list(kurs_kenntnisse_beginn.keys()), np.array(list(kurs_kenntnisse_beginn.values()))/4*100)\n",
    "plt.xlim(0, 100)\n",
    "plt.title(\"Abfrage: Erfahrungen/Kenntnisse zu Kursbeginn\")\n",
    "plt.xlabel(\"Gesamtwert Angabe in Prozent [%]\")\n",
    "plt.show()"
   ]
  },
  {
   "cell_type": "code",
   "execution_count": null,
   "metadata": {},
   "outputs": [],
   "source": [
    "import numpy as np\n",
    "import matplotlib.pyplot as plt\n",
    "\n",
    "x = np.linspace(0, 3*np.pi, 100)\n",
    "y_sine = np.sin(x)\n",
    "y_cosine = np.cos(x)\n",
    "\n",
    "plt.figure()\n",
    "plt.plot(x, y_sine, label='Sinus')\n",
    "plt.plot(x, y_cosine, label='Cosinus')\n",
    "plt.xlabel('x-axis')\n",
    "plt.ylabel('y-axis')\n",
    "plt.title(r'Sine and cosine for multiples of $\\pi$')\n",
    "plt.legend(loc='best')"
   ]
  },
  {
   "cell_type": "code",
   "execution_count": null,
   "metadata": {},
   "outputs": [],
   "source": [
    "# Codezeile zum Testen\n"
   ]
  },
  {
   "cell_type": "code",
   "execution_count": null,
   "metadata": {},
   "outputs": [],
   "source": [
    "plt.rcdefaults()\n",
    "def image_editing(is_gray=True):\n",
    "    from scipy import misc\n",
    "    face = misc.face(gray=is_gray)\n",
    "    plt.figure(figsize=(10.24, 7.68))\n",
    "    if is_gray == True:\n",
    "        cmap=\"gray\"\n",
    "        plot = plt.imshow(face, cmap=cmap)\n",
    "        label = \"Grauwerte, cmap auf gray\"\n",
    "    else:\n",
    "        plot = plt.imshow(face)\n",
    "        label=\"Farbwerte, cmap auf default (viridis)\"\n",
    "    plt.colorbar(plot, label=label)\n",
    "    print(face.shape) # <-- resolution = shape of the array\n",
    "    \n",
    "image_editing(True)\n",
    "image_editing(False)"
   ]
  },
  {
   "cell_type": "code",
   "execution_count": null,
   "metadata": {},
   "outputs": [],
   "source": [
    "import numpy as np\n",
    "data = np.loadtxt(\"data/polydata_wissdv.dat\")\n",
    "x, y = data[:,0], data[:,1]\n",
    "print(x.shape, y.shape)"
   ]
  },
  {
   "cell_type": "code",
   "execution_count": null,
   "metadata": {},
   "outputs": [],
   "source": [
    "def fit_polynomial(x, y, deg):\n",
    "    p = np.polyfit(x, y, deg=deg)\n",
    "    print(\"fit parameters: {}\".format(p))\n",
    "    values = np.polyval(p, x)\n",
    "    print(\"model values: {}\".format(values.shape))\n",
    "    return p, values\n",
    "\n",
    "_, model_deg0 = fit_polynomial(x, y, 0)\n",
    "_, model_deg1 = fit_polynomial(x, y, 1)\n",
    "_, model_deg2 = fit_polynomial(x, y, 2)\n",
    "_, model_deg3 = fit_polynomial(x, y, 3)\n",
    "_, model_deg4 = fit_polynomial(x, y, 4)"
   ]
  },
  {
   "cell_type": "code",
   "execution_count": null,
   "metadata": {
    "tags": []
   },
   "outputs": [],
   "source": [
    "%%capture\n",
    "\n",
    "plot_data = {\"y\":y, \"deg=0\":model_deg0, \"deg=1\":model_deg1, \"deg=2\":model_deg2, \"deg=3\":model_deg3, \"deg=4\":model_deg4}  # use subset for animation\n",
    "\n",
    "from matplotlib import pyplot as plt\n",
    "import matplotlib.animation as animation\n",
    "from IPython.display import HTML\n",
    "%matplotlib inline\n",
    "\n",
    "# Create animation\n",
    "fig, ax = plt.subplots(figsize=(10, 4))\n",
    "\n",
    "plot_cfg = {\n",
    "    \"cMin\": 0,\n",
    "    \"cMax\": 3,\n",
    "    \"logScale\": False,\n",
    "    \n",
    "}\n",
    "\n",
    "ax.scatter(x, y, marker=\"+\", label=\"data\")\n",
    "\n",
    "def animate(i):\n",
    "    if i == 0:\n",
    "        ax.set_title(\"data\")\n",
    "    else:\n",
    "        ax.plot(x, list(plot_data.values())[i], label=list(plot_data.keys())[i])\n",
    "        ax.set_title(list(plot_data.keys())[i])\n",
    "    \n",
    "\n",
    "# fig.tight_layout()\n",
    "\n",
    "# interval is time between frames in ms\n",
    "anim = animation.FuncAnimation(fig, animate, frames=len(plot_data), interval=300, ) \n",
    "ax.legend()\n",
    "\n",
    "# anim.save('fit_animation.avi')\n",
    "# anim.save('fit_animation.mp4')\n",
    "plt.show()"
   ]
  },
  {
   "cell_type": "code",
   "execution_count": null,
   "metadata": {},
   "outputs": [],
   "source": [
    "HTML(anim.to_jshtml())"
   ]
  },
  {
   "cell_type": "code",
   "execution_count": null,
   "metadata": {},
   "outputs": [],
   "source": [
    "# anim.save('fit_animation.avi')\n",
    "# anim.save('fit_animation.mp4')"
   ]
  },
  {
   "cell_type": "code",
   "execution_count": null,
   "metadata": {},
   "outputs": [],
   "source": []
  }
 ],
 "metadata": {
  "kernelspec": {
   "display_name": "py3-general [conda env:py3-general]",
   "language": "python",
   "name": "conda-env-py3-general-py"
  },
  "language_info": {
   "codemirror_mode": {
    "name": "ipython",
    "version": 3
   },
   "file_extension": ".py",
   "mimetype": "text/x-python",
   "name": "python",
   "nbconvert_exporter": "python",
   "pygments_lexer": "ipython3",
   "version": "3.9.18"
  }
 },
 "nbformat": 4,
 "nbformat_minor": 4
}
