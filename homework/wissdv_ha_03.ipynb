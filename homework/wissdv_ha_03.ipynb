{
 "cells": [
  {
   "cell_type": "markdown",
   "metadata": {},
   "source": [
    "Wintersemester 2022/2023"
   ]
  },
  {
   "cell_type": "markdown",
   "metadata": {},
   "source": [
    "# mug121 - Wissenschaftliche Datenverarbeitung: Hausaufgabe 03 - Dummy-Datensatz und Funktionen"
   ]
  },
  {
   "cell_type": "markdown",
   "metadata": {},
   "source": [
    "> Alexander Jaron (jaron@geo.uni-bonn.de)\n",
    "\n",
    "Diese Hausaufgabe soll möglichst in **Gruppen von 3-4 Personen** bearbeitet und eingereicht werden."
   ]
  },
  {
   "cell_type": "markdown",
   "metadata": {},
   "source": [
    "----\n",
    "\n",
    "**Aufgabe 1:** Kleine Statistik an 10 Einträgen **[10 Punkte]**\n",
    "\n",
    "Benennen Sie dieses IPython-Notebook um zu `mug121_HA03_Name-Vorname_Name-Vorname.ipynb`.\n",
    "\n",
    "Erstellen Sie sich einen Container mit **10 Einträgen**. Der Container kann eine Liste, ein Tupel oder ein Dictionary sein. Die Einträge müssen vom Typ **`int`** oder **`float`** sein.\n",
    "\n",
    "Nutzen Sie built-in Funktionen wie `sum, min, max, len` um sich eine **simple \"Statistik\"** des Datencontainers ausgeben zu lassen. Denken Sie beispielsweise auch an Mittelwert und Median.\n",
    "Formatieren Sie die Ausgabe möglichst allgemeingültig und schreiben Sie gegebenenfalls eine Funktion für diese Aufgabe.\n",
    "\n",
    "<br>"
   ]
  },
  {
   "cell_type": "code",
   "execution_count": 1,
   "metadata": {},
   "outputs": [],
   "source": [
    "# # Codezeile Aufgabe 1\n",
    "\n"
   ]
  },
  {
   "cell_type": "markdown",
   "metadata": {},
   "source": [
    "----\n",
    "**Aufgabe 2:** Eigener Dictionary Datencontainer **[10 Punkte]**\n",
    "\n",
    "Erstellen Sie einen ***Dictionary*** und speichern Sie ihn als Variable **`data`**. Dieser Dictionary soll folgendermaßen aussehen:\n",
    "\n",
    "* Zwei Einträge (Schlüssel-Wert-Paare)\n",
    "* Schlüssel sind die Namen von Städten, formatiert als String\n",
    "* Werte sind Tupel oder Listen mit zeitlich abhängigen Daten (Temperatur / Bevölkerung / Erdbebenstärke etc. / andere geowissenschaftlich relevante Daten)\n",
    "* maximal 10 Einträge pro Tupel/Liste\n",
    "\n",
    "Geben Sie die Werte aus, indem Sie `data` einzeln mit den Schlüsseln indizieren.\n",
    "\n",
    "Hinweis: gewünschtes Schema\n",
    "\n",
    "```python\n",
    "data = {\"Stadt1\":[Werte1], \"Stadt2\":[Werte2]}\n",
    "```\n",
    "\n",
    "Hinweis 2: Hier Arbeit hineinzustecken wird sich ebenfalls lohnen: Den eigenen Datensatz werden wir demnächst plotten.\n",
    "\n",
    "<br>"
   ]
  },
  {
   "cell_type": "code",
   "execution_count": 2,
   "metadata": {},
   "outputs": [],
   "source": [
    "# # Codezeile Aufgabe 2\n",
    "\n"
   ]
  },
  {
   "cell_type": "markdown",
   "metadata": {},
   "source": [
    "----\n",
    "\n",
    "**Aufgabe 3 - Abgabe:** **[+1 Zusatzpunkt für richtigen Betreffspräfix]**\n",
    "\n",
    "Geben Sie das bearbeitete IPython-Notebook `mug121_HA03_Name-Vorname_Name-Vorname.ipynb` auf eCampus ab (mit Rechtsklick->Download oder File->Download kann das Notebook auf Ihren Computer heruntergeladen werden).\n",
    "\n",
    "----\n"
   ]
  }
 ],
 "metadata": {
  "kernelspec": {
   "display_name": "py3-general [conda env:py3-general]",
   "language": "python",
   "name": "conda-env-py3-general-py"
  },
  "language_info": {
   "codemirror_mode": {
    "name": "ipython",
    "version": 3
   },
   "file_extension": ".py",
   "mimetype": "text/x-python",
   "name": "python",
   "nbconvert_exporter": "python",
   "pygments_lexer": "ipython3",
   "version": "3.9.18"
  }
 },
 "nbformat": 4,
 "nbformat_minor": 4
}
