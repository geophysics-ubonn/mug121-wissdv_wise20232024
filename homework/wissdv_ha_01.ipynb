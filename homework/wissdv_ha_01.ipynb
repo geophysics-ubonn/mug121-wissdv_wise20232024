{
 "cells": [
  {
   "cell_type": "markdown",
   "metadata": {},
   "source": [
    "Wintersemester 2023/2024"
   ]
  },
  {
   "cell_type": "markdown",
   "metadata": {},
   "source": [
    "# mug121 - Wissenschaftliche Datenverarbeitung: Hausaufgabe 01 - Datenstruktur und -dokumentation"
   ]
  },
  {
   "cell_type": "markdown",
   "metadata": {},
   "source": [
    "> Niklas Heidemann (heidemann@geo.uni-bonn.de)<br>\n",
    "> Alexander Jaron (jaron@geo.uni-bonn.de)\n",
    "\n",
    "Diese Hausaufgabe bitte einzeln bearbeiten und abgeben."
   ]
  },
  {
   "cell_type": "markdown",
   "metadata": {},
   "source": [
    "----\n",
    "**Aufgabe 1:** **[5 Punkte]**\n",
    "\n",
    "Die Struktur und Dokumentation von Datensätzen spielt eine wesentliche Rolle in der wissenschaftlichen Datenverarbeitung. Datensätze müssen zur Verständlichkeit und Reproduzierbarkeit in einer einheitlichen Struktur und mit Informationen zu Herkunft, Datum, Zeit, verantwortlicher Person und mit Hinweisen zu besonderen Eigenschaften, Messparametern und sonstigen Informationen abgelegt werden.\n",
    "     \n",
    "1. Erstellen Sie im Hauptordner Ihres JupyterHubs ein neues Verzeichnis mit dem Namen `dr_testdatastructure` (`dr` steht hier für *data root*).\n",
    "\n",
    "2. Erstellen Sie in diesem Wurzelverzeichnis einen Ordner mit dem Namen `m_20231018_1031_00_UTC+0000_testdata`.\n",
    "\n",
    "2. Bauen Sie in diesem Ordner eine Datenstruktur rund um eine (beliebig volle oder leere - toben Sie sich ggf. aus) Datendatei `data.txt` auf. Diese Datendatei soll in einem Unterordner `rawdata` liegen. Fügen Sie ggf. Ordner für Bilder und Zusatzinformationen hinzu.\n",
    "\n",
    "3. Erstellen Sie nun eine Metadaten-Datei `metadata.ini` im `m_20231018_1031_00_UTC+0000_testdata`-Ordner des Verzeichnisses, in der Sie zeilenweise wesentliche Informationen im Stil \n",
    "```\n",
    "[general]\n",
    "Ort = ...\n",
    "Zeit = ...\n",
    "etc.\n",
    "```\n",
    "    <br>\n",
    "    eintragen. \n",
    "\n",
    "    Welche Informationen könnten noch hilfreich sein? - Tragen Sie alles in die Metadaten ein."
   ]
  },
  {
   "cell_type": "markdown",
   "metadata": {},
   "source": [
    "----\n",
    "**Aufgabe 2:** **[5 Punkte]**\n",
    "\n",
    "Öffnen Sie nun ein Terminal (falls Sie Aufgabe 1 nicht schon mithilfe eines Terminals gemacht haben) und sehen Sie sich den Verzeichnisbaum von `dr_testdatastructure` an, indem Sie den Befehl `tree` im Terminal nutzen.\n",
    "\n",
    "Exportieren Sie nun Ihren Verzeichnisbaum und ihre `metadata.ini` aus Aufgabe 1 mit diesem Befehl (siehe auch Hinweis weiter unten) in eine Textdatei `mug121_HA01_Name-Vorname.txt`.\n",
    "\n",
    "Hinweis:\n",
    "`tree` übernimmt als Option einen Ordnerpfad (`tree <ordnerpfad>` ohne die <>) und gibt standardmäßig sowohl Dateien als auch Ordner aus.\n",
    "Mit `tree --help` rufen Sie die Hilfe des Befehls auf. \n",
    "Das Terminal sollte bestensfalls nur den Inhalt des Verzeichnisses `dr_testdatastructure` ausgeben.\n",
    "\n",
    "Mit `tree > dateiname.txt` können Sie Informationen in eine Textdatei schreiben und mit `tree >> dateiname.txt` sogar an eine bestehende anhängen.\n"
   ]
  },
  {
   "cell_type": "markdown",
   "metadata": {},
   "source": [
    "---\n",
    "**Aufgabe 3:** **[+2 Zusatzpunkte für richtige Verwendung der Speichermethode mit `tree` und Abgabe mit richtigem Dateinamen]**\n",
    "\n",
    "Reichen Sie beides zusammen als Textdatei `mug121_HA01_Name-Vorname.txt` auf eCampus ein.\n",
    "\n",
    "----\n"
   ]
  }
 ],
 "metadata": {
  "kernelspec": {
   "display_name": "py3-general [conda env:py3-general]",
   "language": "python",
   "name": "conda-env-py3-general-py"
  },
  "language_info": {
   "codemirror_mode": {
    "name": "ipython",
    "version": 3
   },
   "file_extension": ".py",
   "mimetype": "text/x-python",
   "name": "python",
   "nbconvert_exporter": "python",
   "pygments_lexer": "ipython3",
   "version": "3.7.6"
  }
 },
 "nbformat": 4,
 "nbformat_minor": 4
}
