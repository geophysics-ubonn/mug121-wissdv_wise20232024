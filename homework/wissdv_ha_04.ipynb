{
 "cells": [
  {
   "cell_type": "markdown",
   "metadata": {},
   "source": [
    "Wintersemester 2023/2024"
   ]
  },
  {
   "cell_type": "markdown",
   "metadata": {},
   "source": [
    "# mug121 - Wissenschaftliche Datenverarbeitung: Hausaufgabe 04"
   ]
  },
  {
   "cell_type": "markdown",
   "metadata": {},
   "source": [
    "> Alexander Jaron (jaron@geo.uni-bonn.de)\n",
    "\n",
    "Diese Hausaufgabe soll möglichst in **Gruppen von 3-4 Personen** bearbeitet und eingereicht werden."
   ]
  },
  {
   "cell_type": "markdown",
   "metadata": {},
   "source": [
    "----\n",
    "**Aufgabe 1:** **[20 Punkte]**\n",
    "\n",
    "Benennen Sie dieses IPython-Notebook um zu `mug121_HA04_Name-Vorname_Name-Vorname.ipynb` und entwickeln Sie in den Codezeilen weiter unten einen Code mit der folgenden Abfolge:\n",
    "\n",
    "1. Erstellen Sie einen auskommentierten Header (Kopfzeile) mit Zweck (HA04), Autoren (Ihre Namen), Datum und Programmiersprache.\n",
    "2. Erstellen Sie eine Funktion, die den folgenden Code enthält:<br>\n",
    "   \n",
    "   ```python\n",
    "   def print_container(container):\n",
    "       \"\"\"\n",
    "       Beschreibung der Funktion (Docstring)\n",
    "       \"\"\"\n",
    "       \n",
    "       print(\"Container-Info:\\n\", container, \"\\n des Typs:\", type(container), \"\\n mit Anzahl Einträge:\" , len(container))\n",
    "   ```\n",
    "   <br>\n",
    "   \n",
    "3. Erweitern Sie die oben stehende Funktion auf Basis Ihrer Überlegungen zum Pseudocode in HA02. Welche Informationen können noch hilfreich sein? Welche weiteren Strings, Formatierungen etc. können Sie in dem Print-Statement unterbringen? Wollen Sie unterschiedliche Ausgaben für unterschiedliche Containertypen haben (bspw. eigene Ausgabe für build-in Container vs. NumPy-Array / Pandas Series/DataFrame)? <br> Lassen Sie alle Ihre Überlegungen einfließen und bauen Sie so eine Funktion, die zur Ausgabe vieler Container-Infos mit einem Aufruf pro Container genutzt werden kann.<br>\n",
    "Bauen Sie **mindestens 4 Ausgaben von Informationen über den Container** ein, bspw. über `print`-Statements.\n",
    "   \n",
    "5. Erstellen Sie einen beliebigen Container (gerne alle bekannten Containertypen verwenden) und speichern Sie ihn als Variable `my_container`:\n",
    "   ```python\n",
    "   my_container = \n",
    "   ```\n",
    "   <br>\n",
    "   \n",
    "6. Rufen Sie die in 1.2 erstellte und in 1.3 erweiterte Funktion auf und übergeben Sie ihr den erstellten Container `my_container` unter Nutzung des folgenden Codeschnipsels:<br>\n",
    "   \n",
    "   ```python\n",
    "   print_container(my_container)\n",
    "   ```\n",
    "   <br>\n",
    "   \n",
    "7. Nutzen Sie built-in Funktionen wie `sum, min, max, len` um sich eine **simple \"Statistik\"** von `my_container` ausgeben zu lassen. Denken Sie beispielsweise auch an Mittelwert und Median. Formatieren Sie die Ausgabe möglichst allgemeingültig und schreiben Sie gegebenenfalls eine Funktion für diese Aufgabe.\n",
    "   \n",
    "8. **Wichtig:** Kommentieren Sie Ihren Code: Was passiert in den einzelnen Zeilen / Blöcken?\n",
    "\n",
    "9. Ersetzen Sie die Zeichenkette *Beschreibung der Funktion* durch eine kurze Beschreibung, die die Frage beantwortet: Was macht die Funktion? Aktualisieren Sie die Beschreibung entsprechend zu Ihren Erweiterungen.\n",
    "\n",
    "10. Speichern Sie Ihr Notebook (Diskette oben links im Notebook-Fenster, `File -> Save Notebook`, `Ctrl + S` oder `File -> Export Notebook As...`). <br><br>   \n",
    "\n",
    "<br>"
   ]
  },
  {
   "cell_type": "markdown",
   "metadata": {},
   "source": [
    "**Hinweise:**\n",
    "\n",
    "* Zum Kommentieren müssen Sie Ihrem Kommentar die Raute `#` voranstellen. Das kann in einer Zeile hinter Code durchgeführt werden.\n",
    "* Achten Sie darauf, den Funktionskörper - alles nach dem Doppelpunkt - in 1.2 richtig einzurücken (Taste Tab). Der Code in 1.3 und 1.4 wird dann wieder linksbündig gesetzt.\n",
    "* Sollten Sie auf Fehler stoßen: Nicht verzweifeln! Tippen Sie Ihren Code, überprüfen Sie, ob Sie die Tippfehler gemacht haben und schreiben Sie bei unlösbaren Fehlern einen kurzen Kommentar-Text, was Sie an dem Fehler nicht verstehen.\n",
    "* Starten Sie bei Fehlern ggf. Ihren Kernel neu: Der Kernel sollte oben rechts auf *py3-general* eingestellt sein. Nutzen Sie `Run -> Restart Kernel and Run All Cells`.\n",
    "* Auch nicht funktionierender Code wird in dieser Hausaufgabe als Abgabe akzeptiert, sofern Sie Ihre Antwort \"sprechen\" lassen: **Code kommentieren! Und zwar soviel wie möglich!**<br>\n",
    "\n",
    "<br>"
   ]
  },
  {
   "cell_type": "code",
   "execution_count": 1,
   "metadata": {},
   "outputs": [],
   "source": [
    "# # Codezeile Aufgabe 1\n",
    "\n",
    "# Codezeile Header\n",
    "\n",
    "\n",
    "\n",
    "# Codezeile Funktion\n",
    "\n",
    "\n",
    "\n",
    "# Codezeile Container-Definition\n",
    "\n",
    "\n",
    "\n",
    "# Codezeile Funktionsaufruf\n",
    "\n"
   ]
  },
  {
   "cell_type": "markdown",
   "metadata": {},
   "source": [
    "----\n",
    "\n",
    "**Aufgabe 2 - Abgabe:**\n",
    "\n",
    "Geben Sie das bearbeitete IPython-Notebook `mug121_HA04_Name-Vorname_Name-Vorname.ipynb` auf eCampus ab (mit Rechtsklick->Download oder File->Download kann das Notebook auf Ihren Computer heruntergeladen werden).\n",
    "\n",
    "\n",
    "----\n"
   ]
  }
 ],
 "metadata": {
  "kernelspec": {
   "display_name": "py3-general [conda env:py3-general]",
   "language": "python",
   "name": "conda-env-py3-general-py"
  },
  "language_info": {
   "codemirror_mode": {
    "name": "ipython",
    "version": 3
   },
   "file_extension": ".py",
   "mimetype": "text/x-python",
   "name": "python",
   "nbconvert_exporter": "python",
   "pygments_lexer": "ipython3",
   "version": "3.9.18"
  }
 },
 "nbformat": 4,
 "nbformat_minor": 4
}
