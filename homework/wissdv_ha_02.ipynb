{
 "cells": [
  {
   "cell_type": "markdown",
   "metadata": {},
   "source": [
    "Wintersemester 2023/2024"
   ]
  },
  {
   "cell_type": "markdown",
   "metadata": {},
   "source": [
    "# mug121 - Wissenschaftliche Datenverarbeitung: Hausaufgabe 02 - Paper und Pseudocode"
   ]
  },
  {
   "cell_type": "markdown",
   "metadata": {},
   "source": [
    "> Niklas Heidemann (heidemann@geo.uni-bonn.de)<br>\n",
    "> Alexander Jaron (jaron@geo.uni-bonn.de)\n",
    "\n",
    "Diese Hausaufgabe soll möglichst in **Gruppen von 3-4 Personen** bearbeitet und eingereicht werden."
   ]
  },
  {
   "cell_type": "markdown",
   "metadata": {},
   "source": [
    "----\n",
    "\n",
    "**Aufgabe 1:** Paper lesen **[10 Punkte]**\n",
    "\n",
    "Benennen Sie dieses Notebook nach dem Schema `mug121_HA02_Name01-Vorname01_Name02-Vorname02_etc.ipynb`.\n",
    "\n",
    "Laden Sie das Paper *Wilson-et-al_2016_1609.00037v2.pdf* aus dem Ordner *Literatur* auf eCampus herunter ([Link auf das Paper in eCampus](https://ecampus.uni-bonn.de/goto_ecampus_file_2404386.html)).\n",
    "\n",
    "Das Paper trägt den Titel \"Good Enough Practices in Scientific Computing\" (Wilson et al. 2016). \n",
    "\n",
    "Lesen Sie das Paper und notieren Sie Stichpunkte zu den folgenden Fragen:\n",
    "\n",
    "1. Wie gehen Sie beim Durchlesen vor? Macht es Sinn, zuerst am Anfang und am Ende zu lesen und dann den gesamten Text? Was denken Sie?\n",
    "2. Was enthalten die einzelnen Kapitel (inkl. der einleitenden Kapitel Abstract, Author Summary, Introduction, Acknowledgements)? Machen Sie einen Stichpunkt zu jedem Kapitel, falls möglich.\n",
    "3. Was sind die wesentlichen Aussagen? Fassen Sie die wesentlichen Aussagen des Papers in maximal 5 Stichpunkten zusammen.\n",
    "4. Warum behandeln wir dieses Paper?\n",
    "5. Entscheiden Sie sich zum Schluss für 4 wesentliche Schlüsselworte (keywords), die Sie dem Paper verpassen würden, wenn Sie es kategorisieren müssten.\n",
    "\n",
    "Halten Sie die Antworten in der folgenden Markdown-Zeile fest:\n",
    "\n",
    "---"
   ]
  },
  {
   "cell_type": "markdown",
   "metadata": {},
   "source": [
    "Antwort Aufgabe 1:\n",
    "\n"
   ]
  },
  {
   "cell_type": "markdown",
   "metadata": {},
   "source": [
    "----\n",
    "**Aufgabe 2:** **[10 Punkte]**\n",
    "\n",
    "Benennen Sie, falls noch nicht geschehen, dieses Notebook nach dem Schema `mug121_HA02_Name01-Vorname01_Name02-Vorname02_etc.ipynb`.\n",
    "\n",
    "Wie stellen Sie sich eine Code-Struktur für die folgenden drei Schritte zur Verarbeitung eines Datensatzes vor? \n",
    "\n",
    "1. Import\n",
    "2. Bearbeitung & Statistik\n",
    "3. Darstellung\n",
    "\n",
    "Schreiben Sie Pseudocode (eine Mischung aus Codeschnipseln und kommentierter Codeabfolge ohne genaue Beachtung der Syntax) zu den drei Punkten einer solchen Abfolge. Bauen Sie gerne auch Funktionen ein, die sie bereits kennen und dokumentieren Sie ihre Ideen, Ansätze und ihre Vorgehensweise (auskommentieren mittels `#`).\n",
    "\n",
    "Welche Schritte könnte es geben? Was möchte ich importieren, was muss ich als Variablen abspeichern, was möchte ich wiederum exportieren? Wie könnte man Zwischenstände im Code ausgeben lassen oder überprüfen?\n",
    "\n",
    "Dokumentieren und erklären Sie die Abschnitte und Ihre Gedanken dazu kurz. Allerdings: Nur vollständig dokumentierter Pseudocode kann die volle Punktzahl bekommen. \n",
    "\n",
    "Hier gibt es keine richtigen oder falschen Codeschnipsel, jede Idee zählt und ist noch nützlicher, wenn sie dokumentiert und kurz erklärt wird. Funktionierender Code wird in dieser Hausaufgabe nicht erwartet!"
   ]
  },
  {
   "cell_type": "raw",
   "metadata": {},
   "source": [
    "---\n",
    "Antwort Aufgabe 2 (Raw-Code-Zelle):\n",
    "\n"
   ]
  },
  {
   "cell_type": "markdown",
   "metadata": {},
   "source": [
    "---\n",
    "**Aufgabe 3:** **[+1 Zusatzpunkt für richtigen Dateinamen]**\n",
    "\n",
    "Geben Sie die Antwort auf Aufgabe 1 und den Pseudocode in diesem Notebook, benannt als `mug121_HA02_Name01-Vorname01_Name02-Vorname02_etc.ipynb`, auf eCampus ab.\n",
    "\n",
    "----\n"
   ]
  },
  {
   "cell_type": "code",
   "execution_count": null,
   "metadata": {},
   "outputs": [],
   "source": []
  }
 ],
 "metadata": {
  "kernelspec": {
   "display_name": "py3-general [conda env:py3-general]",
   "language": "python",
   "name": "conda-env-py3-general-py"
  },
  "language_info": {
   "codemirror_mode": {
    "name": "ipython",
    "version": 3
   },
   "file_extension": ".py",
   "mimetype": "text/x-python",
   "name": "python",
   "nbconvert_exporter": "python",
   "pygments_lexer": "ipython3",
   "version": "3.7.6"
  }
 },
 "nbformat": 4,
 "nbformat_minor": 4
}
