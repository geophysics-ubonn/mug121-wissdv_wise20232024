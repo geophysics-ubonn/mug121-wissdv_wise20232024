{
 "cells": [
  {
   "cell_type": "markdown",
   "metadata": {},
   "source": [
    "Wintersemester 2023/2024"
   ]
  },
  {
   "cell_type": "markdown",
   "metadata": {},
   "source": [
    "# mug121 - Wissenschaftliche Datenverarbeitung: Aufgabe 08 - NumPy und Pandas"
   ]
  },
  {
   "cell_type": "markdown",
   "metadata": {},
   "source": [
    "> Alexander Jaron (jaron@geo.uni-bonn.de)<br>\n",
    "> Niklas Heidemann (heidemann@geo.uni-bonn.de)\n"
   ]
  },
  {
   "cell_type": "markdown",
   "metadata": {},
   "source": [
    "----\n",
    "**Aufgabe 1:** \n",
    "\n",
    "Benennen Sie dieses IPython-Notebook um zu **`mug121_HA08_Name-Vorname_Name-Vorname.ipynb`** und entwickeln Sie in den Codezeilen weiter unten einen Code mit der folgenden Abfolge:\n",
    "\n",
    "1. Erstellen Sie einen auskommentierten Header (Kopfzeile) mit Zweck (HA08), Autoren (Ihre Namen), Datum und Programmiersprache.\n",
    "2. Erzeugen Sie einen NumPy-Array `array` mit insgesamt mindestens 100 Werten oder verwenden Sie Ihr Ergebnis aus HA07. Nutzen Sie dabei die Funktionen aus dem iPython-Notebook der Vorlesung und die folgenden Hinweise:\n",
    "    \n",
    "    * Nennen Sie die Variable\n",
    "      ```python\n",
    "      array = ...\n",
    "      ```\n",
    "    * Der Array soll Daten nach dem folgenden Schema beinhalten: <br> Array-Zeilen sind Indizes, also Datenpunkte, <br> Array-Spalten sind physikalische, chemische, meteorologische oder geophysikalische Größen (bspw. Beschleunigung, Geschwindigkeit, Konzentration, Druck, Temperatur, Leitfähigkeit, Kapazität, Magnetisierung etc.).<br> Die Werte müssen aber nicht zwangsläufig innerhalb Ihrer Größe realistisch sein/Sinn ergeben.\n",
    "    * Die Größen und deren Einheit werden entsprechend ihrer Reihenfolge in einer weiteren auskommentierten Codezeile hinterlegt.\n",
    "    * Der Array muss mindestens drei Spalten haben und insgesamt mindestens 100 Werte. Die maximale Werte-Anzahl ist Ihnen überlassen.\n",
    "    \n",
    "3. Erzeugen Sie nun mithilfe dieses Arrays oder über eine Ihrer Meinung nach geeignetere Methode einen Pandas-DataFrame der Daten. Beachten Sie, dass Sie sowohl Zeilen als auch Spalten indizieren/labeln können. Verwenden Sie also für die Zeilen einen fortlaufenden oder anderweitig passenden Index und für die Spalten eine Kurzform der dargestellten Größe (siehe Aufgabenteil 2).\n",
    "    \n",
    "3. Lassen Sie sich möglichst viele Eigenschaften des DataFrames in einer effizienten Schreibweise ausgeben, bspw. auch als Funktion oder Erweiterung bereits erstellter Funktionen.\n",
    "\n",
    "4. Extrahieren Sie die einzelnen **Spalten** des DataFrames mithilfe der Indizierung von Pandas-DataFrames. Erstellen Sie außerdem eine Statistik mit Mittelwert, Median und Standardabweichung der einzelnen Spalten.\n",
    "\n",
    "5. **Verrechnen Sie mindestens zwei Spalten** miteinander und speichern Sie das Ergebnis als weitere Spalte in den DataFrame, die entsprechend ihres Inhalts/Ergebnisses benannt ist. Beachten Sie auch hier die Indizierung in Pandas.\n",
    "   \n",
    "5. **Wichtig:** Kommentieren Sie Ihren Code: Was passiert in den einzelnen Zeilen / Blöcken? Lassen Sie sich außerdem die Ergebnisse der einzelnen Aufgaben auch mit `print` ausgeben.\n",
    "\n",
    "6. Speichern Sie Ihr Notebook (Diskette oben links im Notebook-Fenster, `File -> Save Notebook`, `Ctrl + S` oder `File -> Export Notebook As...`). <br><br>   \n",
    "\n",
    "<br>\n",
    "\n",
    "**Hinweise:**\n",
    "\n",
    "* Zum Kommentieren müssen Sie Ihrem Kommentar die Raute `#` voranstellen. Das kann in einer Zeile hinter Code durchgeführt werden.\n",
    "* Achten Sie darauf, alles nach dem Doppelpunkt (Funktions- oder Schleifenkörper) richtig einzurücken (Taste Tab). Der Code außerhalb des Funktions- oder Schleifenkörpers wird dann wieder linksbündig und uneingerückt gesetzt.\n",
    "* Vorsicht bei der Verwendung von Attributen: Diese werden - anders als Funktionen und Methoden - ohne runde Klammern `()` aufgerufen.\n",
    "* Sollten Sie auf Fehler stoßen: Nicht verzweifeln! Tippen Sie Ihren Code, überprüfen Sie, ob Sie die Tippfehler gemacht haben und schreiben Sie bei unlösbaren Fehlern einen kurzen Kommentar-Text, was Sie an dem Fehler nicht verstehen.\n",
    "* Starten Sie bei Fehlern ggf. Ihren Kernel neu: Der Kernel sollte oben rechts auf *py3-general* eingestellt sein. Nutzen Sie `Run -> Restart Kernel and Run All Cells`.\n",
    "* Auch nicht funktionierender Code wird in dieser Hausaufgabe als Abgabe akzeptiert, sofern Sie Ihre Antwort \"sprechen\" lassen: **Code kommentieren! Und zwar soviel wie möglich!**<br>\n",
    "\n",
    "<br>"
   ]
  },
  {
   "cell_type": "code",
   "execution_count": 1,
   "metadata": {},
   "outputs": [],
   "source": [
    "# # Codezeile Aufgabe 1\n",
    "\n",
    "\n"
   ]
  },
  {
   "cell_type": "markdown",
   "metadata": {},
   "source": [
    "----\n",
    "\n",
    "**Aufgabe 2 - Abgabe:**\n",
    "\n",
    "Geben Sie das IPython-Notebook **`mug121_HA08_Name-Vorname_Name-Vorname.ipynb`** entsprechend der Aufgabenstellung im eCampus-Kurs ab (mit Rechtsklick->Download oder File->Download kann das Notebook auf Ihren Computer heruntergeladen werden).\n",
    "   \n",
    "\n",
    "   \n",
    "----\n"
   ]
  }
 ],
 "metadata": {
  "kernelspec": {
   "display_name": "py3-general [conda env:py3-general]",
   "language": "python",
   "name": "conda-env-py3-general-py"
  },
  "language_info": {
   "codemirror_mode": {
    "name": "ipython",
    "version": 3
   },
   "file_extension": ".py",
   "mimetype": "text/x-python",
   "name": "python",
   "nbconvert_exporter": "python",
   "pygments_lexer": "ipython3",
   "version": "3.9.18"
  }
 },
 "nbformat": 4,
 "nbformat_minor": 4
}
