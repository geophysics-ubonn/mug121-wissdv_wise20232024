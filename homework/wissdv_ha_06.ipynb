{
 "cells": [
  {
   "cell_type": "markdown",
   "metadata": {},
   "source": [
    "Wintersemester 2023/2024"
   ]
  },
  {
   "cell_type": "markdown",
   "metadata": {},
   "source": [
    "# mug121 - Wissenschaftliche Datenverarbeitung: Hausaufgabe 06 - NumPy-Array"
   ]
  },
  {
   "cell_type": "markdown",
   "metadata": {},
   "source": [
    "> Alexander Jaron (jaron@geo.uni-bonn.de)\n",
    "\n",
    "Diese Hausaufgabe soll möglichst in **Gruppen von 3-4 Personen** bearbeitet und eingereicht werden."
   ]
  },
  {
   "cell_type": "markdown",
   "metadata": {},
   "source": [
    "----\n",
    "**Aufgabe 1:** **[20 Punkte]**\n",
    "\n",
    "Benennen Sie dieses IPython-Notebook um zu **`mug121_HA06_Name-Vorname_Name-Vorname.ipynb`** und entwickeln Sie in den Codezeilen weiter unten einen Code mit der folgenden Abfolge:\n",
    "\n",
    "1. Erstellen Sie einen auskommentierten Header (Kopfzeile) mit Zweck (HA06), Autoren (Ihre Namen), Datum und Programmiersprache.\n",
    "2. Erzeugen Sie einen 10x10 NumPy-Array `array` mit Werten zwischen 0 und 100. Nutzen Sie dabei die Funktionen aus dem iPython-Notebook der Vorlesung und die folgenden Hinweise:\n",
    "    \n",
    "    * Nennen Sie die Variable\n",
    "      ```python\n",
    "      array = ...\n",
    "      ```\n",
    "    * Es gibt hier mehrere Möglichkeiten: Die Erzeugung kann händisch durchgeführt werden oder über eine entsprechende Funktion.\n",
    "    \n",
    "    \n",
    "3. Lassen Sie sich die folgenden Eigenschaften der Matrix ausgeben:\n",
    "    1. Länge `len()`\n",
    "    2. Dimensionen `.shape`\n",
    "    3. Größe und Datentyp `.size`, `.itemize`, `.nbytes`, `.dtype` \n",
    "    3. Summe der Einträge\n",
    "    4. die Hauptdiagonale\n",
    "    5. Summe der Hauptdiagonalen\n",
    "    6. eine Statistik mit Mittelwert, Median und Standardabweichung\n",
    "        1. der gesamten Matrix\n",
    "        2. der Hauptdiagonalen\n",
    "\n",
    "\n",
    "4. Extrahieren Sie die einzelnen **Zeilen** der Matrix mithilfe einer Schleife und/oder Indizierung.\n",
    "   \n",
    "5. **Wichtig:** Kommentieren Sie Ihren Code: Was passiert in den einzelnen Zeilen / Blöcken?\n",
    "\n",
    "6. Speichern Sie Ihr Notebook (Diskette oben links im Notebook-Fenster, `File -> Save Notebook`, `Ctrl + S` oder `File -> Export Notebook As...`). <br><br>   \n",
    "\n",
    "<br>\n",
    "\n",
    "**Hinweise:**\n",
    "\n",
    "* Zum Kommentieren müssen Sie Ihrem Kommentar die Raute `#` voranstellen. Das kann in einer Zeile hinter Code durchgeführt werden.\n",
    "* Beachten Sie beim Indizieren von NumPy-ndarrays immer, dass das Schema gilt: **n-Dimensionen:** [start:stop:step, start:stop:step, start:stop:step, etc] mit Kommatrennung der Dimensionen.\n",
    "* Achten Sie darauf, alles nach dem Doppelpunkt (Funktions- oder Schleifenkörper) richtig einzurücken (Taste Tab). Der Code außerhalb des Funktions- oder Schleifenkörpers wird dann wieder linksbündig und uneingerückt gesetzt.\n",
    "* Vorsicht bei der Verwendung von Attributen: Diese werden - anders als Funktionen und Methoden - ohne runde Klammern `()` aufgerufen.\n",
    "* Sollten Sie auf Fehler stoßen: Nicht verzweifeln! Tippen Sie Ihren Code, überprüfen Sie, ob Sie die Tippfehler gemacht haben und schreiben Sie bei unlösbaren Fehlern einen kurzen Kommentar-Text, was Sie an dem Fehler nicht verstehen.\n",
    "* Starten Sie bei Fehlern ggf. Ihren Kernel neu: Der Kernel sollte oben rechts auf *py3-general* eingestellt sein. Nutzen Sie `Run -> Restart Kernel and Run All Cells`.\n",
    "* Auch nicht funktionierender Code wird in dieser Hausaufgabe als Abgabe akzeptiert, sofern Sie Ihre Antwort \"sprechen\" lassen: **Code kommentieren! Und zwar soviel wie möglich!**<br>\n",
    "\n",
    "<br>"
   ]
  },
  {
   "cell_type": "code",
   "execution_count": 2,
   "metadata": {},
   "outputs": [],
   "source": [
    "# # Codezeile Aufgabe 1\n",
    "\n"
   ]
  },
  {
   "cell_type": "markdown",
   "metadata": {},
   "source": [
    "----\n",
    "\n",
    "**Aufgabe 2 - Abgabe:**\n",
    "\n",
    "Geben Sie das IPython-Notebook `mug121_HA06_Name-Vorname_Name-Vorname.ipynb` entsprechend der Aufgabenstellung auf eCampus ab (mit Rechtsklick->Download oder File->Download kann das Notebook auf Ihren Computer heruntergeladen werden).\n",
    "\n",
    "\n",
    "----\n"
   ]
  },
  {
   "cell_type": "code",
   "execution_count": null,
   "metadata": {},
   "outputs": [],
   "source": []
  }
 ],
 "metadata": {
  "kernelspec": {
   "display_name": "py3-general [conda env:py3-general]",
   "language": "python",
   "name": "conda-env-py3-general-py"
  },
  "language_info": {
   "codemirror_mode": {
    "name": "ipython",
    "version": 3
   },
   "file_extension": ".py",
   "mimetype": "text/x-python",
   "name": "python",
   "nbconvert_exporter": "python",
   "pygments_lexer": "ipython3",
   "version": "3.9.18"
  }
 },
 "nbformat": 4,
 "nbformat_minor": 4
}
