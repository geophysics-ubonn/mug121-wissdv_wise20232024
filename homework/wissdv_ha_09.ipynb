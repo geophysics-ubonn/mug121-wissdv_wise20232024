{
 "cells": [
  {
   "cell_type": "markdown",
   "metadata": {},
   "source": [
    "Wintersemester 2023/2024"
   ]
  },
  {
   "cell_type": "markdown",
   "metadata": {},
   "source": [
    "# mug121 - Wissenschaftliche Datenverarbeitung: Hausaufgabe 09 - NumPy und Matplotlib"
   ]
  },
  {
   "cell_type": "markdown",
   "metadata": {},
   "source": [
    "> Alexander Jaron (jaron@geo.uni-bonn.de) <br>\n",
    "> Niklas Heidemann (heidemann@geo.uni-bonn.de)\n",
    "\n",
    "Diese Hausaufgabe soll möglichst in **Gruppen von 3-4 Personen** bearbeitet und eingereicht werden."
   ]
  },
  {
   "cell_type": "markdown",
   "metadata": {},
   "source": [
    "----\n",
    "**Aufgabe 1:** **[20 Punkte]**\n",
    "\n",
    "Benennen Sie dieses IPython-Notebook um zu **`mug121_HA09_Name-Vorname_Name-Vorname.ipynb`** und entwickeln Sie in den Codezeilen weiter unten einen Code mit der folgenden Abfolge:\n",
    "\n",
    "1. Erstellen Sie einen auskommentierten Header (Kopfzeile) mit Zweck (HA09), Autoren (Ihre Namen), Datum und Programmiersprache.\n",
    "\n",
    "2. Wir nehmen folgende Ausgangssituation an: \n",
    "    * In einem Gebiet wurden räumlich abhängige Daten aufgenommen, bspw. Temperatur, Druck, Luftfeuchtigkeit, elektrische Leitfähigkeit, Bodenfeuchte, mittlere Magnetisierung der Gesteine, Stoffkonzentrationen oder andere physikalische Parameter.\n",
    "    * Da diese Daten je nach Zeitskala auch deutlich zeitabhängig sind, wurde zu jedem Wert auch die Zeit notiert. Dabei zeigt sich, dass das Gebiet in der zeitlichen Abfolge gerastert wurde, also erst von West nach Ost und dann weiter von Nord nach Süd.<br><br>\n",
    "\n",
    "2. Erzeugen Sie einen NumPy-Array `data` mit der folgenden Struktur:\n",
    "    \n",
    "    * Die ersten beiden Dimensionen sind Einträge der Daten auf dem Koordinatengitter (X, Y), korrespondierend zum ersten Eintrag in der dritten Dimension.\n",
    "    * Der zweite Eintrag in der dritten Dimension ist die Zeit `t`, die in den ersten beiden Dimensionen die räumliche Rasterung zu den Zeitschritten zuweist.\n",
    "    * Die Länge/Anzahl der Einträge ist Ihnen überlassen, falls Sie sich nicht entscheiden können, nehmen Sie je 10 Einträge in X- und Y-Richtung.\n",
    "    * Es ergibt sich ein NumPy-Array mit folgendem `data.shape`: `(Anzahl in X, Anzahl in Y, 2)`\n",
    "    \n",
    "    * **Hinweis:** Erstellen Sie zunächst den array (hier gibt es verschiedene Möglichkeiten) und füllen Sie ihn dann.\n",
    "    * Sofern Sie nicht anders vorgehen wollen und unter der Voraussetzung, dass Sie ebenfalls 10 Einträge in jede Richtung wählen, können Sie zum Füllen eines erstellten Arrays folgende Codeschnipsel verwenden:\n",
    "    ```python\n",
    "    for i in np.arange(0, 10):\n",
    "        data[:, i, 0] = np.linspace(0, 10, 10) + i + np.random.random((10,)) * 2.5\n",
    "    \n",
    "    data[:, :, 1] = np.arange(data[:,:,0].size).reshape((10,10))\n",
    "    ```\n",
    "    <br><br>\n",
    "    \n",
    "3. Lassen Sie sich die folgenden Eigenschaften der Matrix ausgeben:\n",
    "    1. Länge `len()`\n",
    "    2. Dimensionen `.shape`\n",
    "    3. Größe und Datentyp `.size`, `.itemsize`, `.nbytes`, `.dtype` <br><br>\n",
    "\n",
    "4. Plotten Sie `data` mithilfe der Funktionen aus matplotlib:\n",
    "    \n",
    "    * Die räumliche Verteilung der Werte (2D-Matrix räumlich) als `imshow`-Plot mit Colormap und Beschriftung.\n",
    "    * Die zeitliche Verteilung der Werte (2D-Matrix zeitlich) in einen weiteren `imshow`-Plot mit Colormap und Beschriftung.\n",
    "    * Die beiden Plots nebeneinander in einen Subplot.\n",
    "    * Nutzen Sie zum Initialisieren des Subplots folgende Zeile:\n",
    "    ```python\n",
    "    fig, ax = plt.subplots(1, 2, figsize=(10,4))\n",
    "    ```\n",
    "    * Greifen Sie auf die beiden Achsenobjekte zu und setzen Sie zunächst den Plot mit den räumlichen Daten und rechts daneben den Plot der zeitlichen Abfolge dieser.\n",
    "    * Beschriften Sie jeweils sowohl den Plot mit einem Titel, als auch die Achsen, als auch die Colorbar.\n",
    "    * Nutzen Sie zwei verschiedene Colormaps. **Hinweis:** Das Keyword-Argument `cmap` in der ``imshow``-Funktion übernimmt bspw. auch `cmap=plt.colormaps[\"XXX\"]`. *XXX* ist hier ein String mit dem Namen der Colormap. Standardmäßig verfügbare Colormaps finden Sie hier: https://matplotlib.org/stable/tutorials/colors/colormaps.html\n",
    "    <br><br>\n",
    "    \n",
    "   \n",
    "5. Erklären Sie kurz alle Achsen: Wie kommt die Beschriftung der Ticks an X- und Y-Achse zustande und wie die Beschriftung der Colorbar? Wie könnte man die Ticks der X- und Y-Achse umbenennen? \n",
    "\n",
    "5. **[+2 Zusatzpunkte]** Setzen Sie die Ticks auf die Ränder der Gitterzellen und benennen Sie sie nach dem Schema real verwendeter Koordinatengitter um. \n",
    "\n",
    "5. **Wichtig:** Kommentieren Sie Ihren Code: Was passiert in den einzelnen Zeilen / Blöcken? Lassen Sie sich außerdem die Ergebnisse der einzelnen Aufgaben auch mit `print` ausgeben.\n",
    "\n",
    "6. Speichern Sie Ihr Notebook (Diskette oben links im Notebook-Fenster, `File -> Save Notebook`, `Ctrl + S` oder `File -> Export Notebook As...`). <br><br>   \n",
    "\n",
    "<br>\n",
    "\n",
    "**Hinweise:**\n",
    "\n",
    "* Zum Kommentieren müssen Sie Ihrem Kommentar die Raute `#` voranstellen. Das kann in einer Zeile hinter Code durchgeführt werden.\n",
    "* Beachten Sie beim Indizieren von NumPy-ndarrays immer, dass das Schema gilt: **n-Dimensionen:** [start:stop:step, start:stop:step, start:stop:step, etc] mit Kommatrennung der Dimensionen.\n",
    "* Vorsicht bei der Verwendung von Attributen: Diese werden - anders als Funktionen und Methoden - ohne runde Klammern `()` aufgerufen.\n",
    "* Sollten Sie auf Fehler stoßen: Nicht verzweifeln! Tippen Sie Ihren Code, überprüfen Sie, ob Sie die Tippfehler gemacht haben und schreiben Sie bei unlösbaren Fehlern einen kurzen Kommentar-Text, was Sie an dem Fehler nicht verstehen.\n",
    "* Starten Sie bei Fehlern ggf. Ihren Kernel neu: Der Kernel sollte oben rechts auf *py3-general* eingestellt sein. Nutzen Sie `Run -> Restart Kernel and Run All Cells`.\n",
    "* Auch nicht funktionierender Code wird in dieser Hausaufgabe als Abgabe akzeptiert, sofern Sie Ihre Antwort \"sprechen\" lassen: **Code kommentieren! Und zwar soviel wie möglich!**<br>\n",
    "\n",
    "<br>"
   ]
  },
  {
   "cell_type": "code",
   "execution_count": 1,
   "metadata": {},
   "outputs": [],
   "source": [
    "# # Codezeile Aufgabe 1\n",
    "\n"
   ]
  },
  {
   "cell_type": "markdown",
   "metadata": {},
   "source": [
    "----\n",
    "\n",
    "**Aufgabe 2 - Abgabe:**\n",
    "\n",
    "\n",
    "Geben Sie das IPython-Notebook **`mug121_HA09_Name-Vorname_Name-Vorname.ipynb`** entsprechend der Aufgabenstellung im eCampus-Kurs ab (mit Rechtsklick->Download oder File->Download kann das Notebook auf Ihren Computer heruntergeladen werden).\n",
    "\n",
    "   \n",
    "----\n"
   ]
  },
  {
   "cell_type": "code",
   "execution_count": null,
   "metadata": {},
   "outputs": [],
   "source": []
  }
 ],
 "metadata": {
  "kernelspec": {
   "display_name": "py3-general [conda env:py3-general]",
   "language": "python",
   "name": "conda-env-py3-general-py"
  },
  "language_info": {
   "codemirror_mode": {
    "name": "ipython",
    "version": 3
   },
   "file_extension": ".py",
   "mimetype": "text/x-python",
   "name": "python",
   "nbconvert_exporter": "python",
   "pygments_lexer": "ipython3",
   "version": "3.9.18"
  }
 },
 "nbformat": 4,
 "nbformat_minor": 4
}
