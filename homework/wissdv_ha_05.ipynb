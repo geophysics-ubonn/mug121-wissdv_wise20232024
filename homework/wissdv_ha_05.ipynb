{
 "cells": [
  {
   "cell_type": "markdown",
   "metadata": {},
   "source": [
    "Wintersemester 2023/2024"
   ]
  },
  {
   "cell_type": "markdown",
   "metadata": {},
   "source": [
    "# mug121 - Wissenschaftliche Datenverarbeitung: Hausaufgabe 05"
   ]
  },
  {
   "cell_type": "markdown",
   "metadata": {},
   "source": [
    "> Alexander Jaron (jaron@geo.uni-bonn.de)\n",
    "\n",
    "Diese Hausaufgabe soll möglichst in **Gruppen von 3-4 Personen** bearbeitet und eingereicht werden."
   ]
  },
  {
   "cell_type": "markdown",
   "metadata": {},
   "source": [
    "----\n",
    "**Aufgabe 1:** **[20 Punkte]**\n",
    "\n",
    "Benennen Sie dieses IPython-Notebook um zu `mug121_HA05_Name-Vorname_Name-Vorname.ipynb` und entwickeln Sie in den Codezeilen weiter unten einen Code mit der folgenden Abfolge:\n",
    "\n",
    "1. Erstellen Sie einen auskommentierten Header (Kopfzeile) mit Zweck (HA05), Autoren (Ihre Namen), Datum und Programmiersprache.\n",
    "2. Erstellen Sie Code mit der folgenden Funktionalität:<br>\n",
    "\n",
    "   * Zunächst wird ein leerer Container des Typs `list` mit dem Namen `data_corr` erstellt.\n",
    "   * Ein zweiter Container enthält die Daten \n",
    "    \n",
    "   ```python\n",
    "   data = (17, 21, 23, 23, 25, 29, 28, 27, 26, 24, 25, 22)\n",
    "   ```\n",
    "   \n",
    "   * Ein dritter Container enthält die Korrekturwerte\n",
    "   ```python\n",
    "   corr = (1, -1, 0, -2, -1, 2, 1, 2, 0, -1, -1, 0)\n",
    "   ```\n",
    "   \n",
    "   * Nun soll eine Schleife durchlaufen werden, die folgendes macht:\n",
    "     * Den Wert für jeden Datenpunkt aus `data` mit print ausgeben\n",
    "     * Den Korrekturwert für jeden Datenpunkt aus `corr` mit print ausgeben\n",
    "     * Den Datenpunkt mit dem Korrekturwert addieren\n",
    "     * Den neuen, korrigierten Datenpunkt an den Container `data_corr` anhängen\n",
    "     * Mit dem nächsten Punkt fortfahren\n",
    "   * Diese Schritte sollen nacheinander für die einzelnen Datenpunkte durchlaufen werden und nach einmaligem Durchlauf abgeschlossen sein.\n",
    "   \n",
    "3. Schreiben Sie Ihren Code allgemeingültig in eine Funktion. Diese Funktion soll als Argumente die drei Datencontainer, also den leeren und zwei gefüllte übernehmen und den zusammengesetzten Container zurückgeben. Hier ein Minimalcode dazu. Ihr Code sollte ausführlicher sein.\n",
    "\n",
    "```python\n",
    "def funktionsname(container_tofill, data, corr):\n",
    "    \"\"\"Beschreibung\"\"\"\n",
    "    pass # Hier anstelle von Code, muss in Ihrem Beispiel mit Code ERSETZT werden\n",
    "    return container_tofill\n",
    "```\n",
    "\n",
    "   \n",
    "4. Rufen Sie die in 1.3 erstellte Funktion auf und übergeben Sie ihr **vier neu benannte Container**.\n",
    "   \n",
    "5. **Wichtig:** Kommentieren Sie Ihren Code: Was passiert in den einzelnen Zeilen / Blöcken?\n",
    "\n",
    "6. Ersetzen Sie die Zeichenkette *Beschreibung der Funktion* durch eine kurze Beschreibung, die die Frage beantwortet: Was macht die Funktion? Aktualisieren Sie die Beschreibung entsprechend zu Ihren Erweiterungen.\n",
    "\n",
    "7. Speichern Sie Ihr Notebook (Diskette oben links im Notebook-Fenster, `File -> Save Notebook`, `Ctrl + S` oder `File -> Export Notebook As...`). <br><br>   \n",
    "\n",
    "<br>\n",
    "\n",
    "**Hinweise:**\n",
    "\n",
    "* Zum Kommentieren müssen Sie Ihrem Kommentar die Raute `#` voranstellen. Das kann in einer Zeile hinter Code durchgeführt werden.\n",
    "* Beim Nummerieren der Einträge eines Containers kann auch die Funktion `enumerate()` sehr hilfreich sein. Beachten Sie dann aber, dass sie einen zweiten Laufindex/Iterator in Ihrer Schleife haben.\n",
    "* Achten Sie darauf, alles nach dem Doppelpunkt (Funktions- oder Schleifenkörper) richtig einzurücken (Taste Tab). Der Code außerhalb des Funktions- oder Schleifenkörpers wird dann wieder linksbündig und uneingerückt gesetzt.\n",
    "* Sollten Sie auf Fehler stoßen: Nicht verzweifeln! Tippen Sie Ihren Code, überprüfen Sie, ob Sie die Tippfehler gemacht haben und schreiben Sie bei unlösbaren Fehlern einen kurzen Kommentar-Text, was Sie an dem Fehler nicht verstehen.\n",
    "* Starten Sie bei Fehlern ggf. Ihren Kernel neu: Der Kernel sollte oben rechts auf *py3-general* eingestellt sein. Nutzen Sie `Run -> Restart Kernel and Run All Cells`.\n",
    "* Auch nicht funktionierender Code wird in dieser Hausaufgabe als Abgabe akzeptiert, sofern Sie Ihre Antwort \"sprechen\" lassen: **Code kommentieren! Und zwar soviel wie möglich!**<br>\n",
    "\n",
    "<br>"
   ]
  },
  {
   "cell_type": "code",
   "execution_count": 1,
   "metadata": {},
   "outputs": [],
   "source": [
    "# # Codezeile Aufgabe 1\n",
    "\n",
    "# Codezeile Header\n",
    "\n",
    "\n",
    "\n",
    "# Codezeile Container & Schleife\n",
    "\n",
    "\n",
    "\n",
    "# Codezeile Funktion\n",
    "\n",
    "\n",
    "\n",
    "# Codezeile Funktionsaufruf\n",
    "\n"
   ]
  },
  {
   "cell_type": "markdown",
   "metadata": {},
   "source": [
    "----\n",
    "\n",
    "**Aufgabe 2 - Abgabe:**\n",
    "\n",
    "Geben Sie das IPython-Notebook `mug121_HA05_Name-Vorname_Name-Vorname.ipynb` entsprechend der Aufgabenstellung auf eCampus ab (mit Rechtsklick->Download oder File->Download kann das Notebook auf Ihren Computer heruntergeladen werden).\n",
    "\n",
    "----\n",
    "\n"
   ]
  },
  {
   "cell_type": "code",
   "execution_count": null,
   "metadata": {},
   "outputs": [],
   "source": []
  }
 ],
 "metadata": {
  "kernelspec": {
   "display_name": "py3-general [conda env:py3-general]",
   "language": "python",
   "name": "conda-env-py3-general-py"
  },
  "language_info": {
   "codemirror_mode": {
    "name": "ipython",
    "version": 3
   },
   "file_extension": ".py",
   "mimetype": "text/x-python",
   "name": "python",
   "nbconvert_exporter": "python",
   "pygments_lexer": "ipython3",
   "version": "3.9.18"
  }
 },
 "nbformat": 4,
 "nbformat_minor": 4
}
