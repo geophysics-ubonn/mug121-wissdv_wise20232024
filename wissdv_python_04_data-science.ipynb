{
 "cells": [
  {
   "cell_type": "markdown",
   "metadata": {},
   "source": [
    "Wintersemester 2023/2024"
   ]
  },
  {
   "cell_type": "markdown",
   "metadata": {},
   "source": [
    "# mug121 - Wissenschaftliche Datenverarbeitung: Python-Einführung – Notebook 4 - Import, Export, Verarbeitung und Darstellung von Datensätzen "
   ]
  },
  {
   "cell_type": "markdown",
   "metadata": {},
   "source": [
    "> Niklas Heidemann (heidemann@geo.uni-bonn.de)<br>\n",
    "> Alexander Jaron (jaron@geo.uni-bonn.de)"
   ]
  },
  {
   "cell_type": "markdown",
   "metadata": {},
   "source": [
    "---\n",
    "---\n",
    "\n",
    "## Weiterer Ablauf: \n",
    "\n",
    "* Anwendung auf Daten (Import, Export, Prozessierung, Darstellung)\n",
    "\n",
    "\n",
    "* Objektorientiertes Programmieren (Klassen `class`) und eigene Bibliotheken \n",
    "\n"
   ]
  },
  {
   "cell_type": "markdown",
   "metadata": {},
   "source": [
    "----\n",
    "----\n",
    "> ## Erinnerung: Modularisierung\n",
    "> \n",
    "> ### Globale Module - Import von Bibliotheken\n",
    "> \n",
    "> ```python\n",
    "> # Import der gesamten Bibliothek:\n",
    "> import bibliothek\n",
    "> import bibliothek as kürzel\n",
    "> # Import einzelner Funktionen:\n",
    "> from bibliothek import funktion\n",
    "> from bibliothek import funktion as kürzel\n",
    "> ```\n",
    "> \n",
    "> möglichst vermeiden:\n",
    "> \n",
    "> ```from bibliothek import *```\n",
    "> \n",
    "> * **!! importiert alle Funktionen des Moduls `bibliothek` und überschreibt / konkurriert mit build-in Funktionen !!**\n",
    "> \n",
    "> ### Funktionsaufruf\n",
    "> \n",
    "> Funktionsaufruf je nach Import mit `bibliothek.funktion()` bzw. `kürzel.funktion()`, `funktion()` oder `kürzel()`\n",
    "> \n",
    "\n",
    "### Lokale Module - Import von lokalen Paketen\n",
    "\n",
    "* eigene Funktionen oder Klassen lassen sich in `.py`-Dateien oder `.ipynb`-Notebooks ablegen\n",
    "* Import von `name.py`  wie unter [Globale Module](#Globale-Module---Import-von-Bibliotheken \"Kapitel 'Globale Module'\") z.B. mit \n",
    "\n",
    "```python\n",
    "import name as kürzel\n",
    "```\n",
    "\n",
    "\n",
    "* Funktionsaufruf wie gewohnt mit `name.funktion()`, bzw. `kürzel.funktion()`\n",
    "* Funktionsnamen sind *case-sensitiv* (Groß- und Kleinschreibung wird beachtet)\n",
    "\n",
    "**Ladereihenfolge: global oder lokal** - welches zuerst?\n",
    "\n",
    "1. lokale Module\n",
    "2. globale Module\n",
    "3. falls weder lokale noch globale Module unter verwendetem Namen gefunden werden können: \"ModuleNotFoundError\"\n",
    "\n",
    "----"
   ]
  },
  {
   "cell_type": "code",
   "execution_count": 1,
   "metadata": {},
   "outputs": [],
   "source": [
    "# Codezeile zum Testen\n",
    "\n"
   ]
  },
  {
   "cell_type": "markdown",
   "metadata": {},
   "source": [
    "----\n",
    "\n",
    "**Aufgabe 0:**\n",
    "\n",
    "Importieren Sie Ihre eigene kleine Python-Library:\n",
    "\n",
    "* Sie haben eine Python-Datei nach dem Schema `library_name.py` erstellt oder vorliegen.\n",
    "* Legen Sie diese Datei im gleichen Verzeichnis auf der gleichen Ebene ab, in der Sie auch dieses Notebook ausführen.\n",
    "* Nutzen Sie den Befehl <br>\n",
    "\n",
    "    ```python \n",
    "    import library_name\n",
    "    ``` \n",
    "    <br>\n",
    "    oder eine Variante (siehe oben).\n",
    "    Damit importieren Sie die Library als lokales Modul.\n",
    "* Rufen Sie Funktionen des Moduls mit \n",
    "    \n",
    "    ```python \n",
    "    library_name.funktionsname()\n",
    "    ``` \n",
    "    <br>\n",
    "    auf.\n",
    "    \n",
    "\n",
    "Vervollständigen Sie künftig dieses Modul mit allen selbstgeschriebenen Funktionen, die allgemeingültig und/oder für spezielle Anwendungen genutzt werden können. \n",
    "\n",
    "**Hinweis:**\n",
    "\n",
    "Bevor das Modul und etwaige Änderungen an der `.py`-Datei (denken Sie an Speichern `Strg. + S`) geladen werden können, muss nicht nur der Import-Befehl neu ausgeführt werden, sondern auch der Kernel neu gestartet werden. Verwenden Sie hierfür der Einfachheit halber `Run -> Restart Kernel and Run All Cells`.\n",
    "\n",
    "Außerdem: Hier bietet es sich an, dieses Notebook und Ihre `.py`-Datei nebeneinander im Jupyter Lab zu öffnen."
   ]
  },
  {
   "cell_type": "code",
   "execution_count": 2,
   "metadata": {},
   "outputs": [],
   "source": [
    "# Codezeile Aufgabe\n",
    "\n"
   ]
  },
  {
   "cell_type": "markdown",
   "metadata": {},
   "source": [
    "----\n",
    "----\n",
    "\n",
    "    \n",
    "\n",
    "## **Import von Daten-Dateien**\n",
    "\n",
    "### Build-in\n",
    "\n",
    "```python\n",
    "data_py = open(\"XXX.txt\", \"r\")\n",
    "# als String, Liste, Tupel etc.\n",
    "```\n",
    "\n",
    "### NumPy\n",
    "\n",
    "```python\n",
    "import numpy as np\n",
    "data_np = np.loadtxt(\"XXX.txt\")\n",
    "# als Daten-NumPy-ndarray\n",
    "```\n",
    "\n",
    "### Pandas\n",
    "\n",
    "```python\n",
    "import pandas as pd\n",
    "data_pd = pd.read_csv(\"XXX.csv\")\n",
    "# als Pandas-DataFrame\n",
    "```\n",
    "\n",
    "\n",
    "### Pickle (ganze Objekte importieren)\n",
    "\n",
    "```python\n",
    "import pickle\n",
    "with open(\"XXX.pickle\", \"rb\") as file:\n",
    "    data_pickle = pickle.load(file)\n",
    "# als Objekt\n",
    "```\n",
    "\n",
    "-----\n",
    "\n",
    "## **Export von Daten-Dateien**\n",
    "\n",
    "### Build-in\n",
    "\n",
    "```python\n",
    "f = open(\"XXX.txt\", \"w+\") # file öffnen\n",
    "print(data_py.read(), file=f) # Inhalt hineinschreiben\n",
    "f.close() # file schließen\n",
    "```\n",
    "\n",
    "### NumPy\n",
    "\n",
    "```python\n",
    "import numpy as np\n",
    "np.savetxt(data_np, \"XXX.txt\") # ndarray als .txt speichern\n",
    "```\n",
    "\n",
    "### Pandas\n",
    "\n",
    "```python\n",
    "import pandas as pd\n",
    "data_pd.to_csv(\"XXX.csv\") # DataFrame als .csv speichern\n",
    "```\n",
    "\n",
    "\n",
    "### Pickle (ganze Objekte exportieren/Backup)\n",
    "\n",
    "```python\n",
    "import pickle\n",
    "\n",
    "with open(\"XXX.pickle\", \"wb\") as file:\n",
    "pickle.dump(data_pickle, file)\n",
    "# ganzes Objekt abspeichern\n",
    "```\n",
    "---"
   ]
  },
  {
   "cell_type": "code",
   "execution_count": 3,
   "metadata": {},
   "outputs": [
    {
     "name": "stdout",
     "output_type": "stream",
     "text": [
      "<class 'list'>\n",
      "[]\n",
      "<class 'list'>\n",
      "[]\n"
     ]
    }
   ],
   "source": [
    "# Codezeile zum Testen\n",
    "\n",
    "data = []\n",
    "print(type(data))\n",
    "print(data)\n",
    "\n",
    "import pickle\n",
    "with open(\"test12345.pickle\", \"wb\") as f:\n",
    "    pickle.dump(data, f)\n",
    "    \n",
    "with open(\"test12345.pickle\", \"rb\") as f:\n",
    "    data_test = pickle.load(f)\n",
    "\n",
    "print(type(data))\n",
    "print(data_test)"
   ]
  },
  {
   "cell_type": "code",
   "execution_count": 4,
   "metadata": {},
   "outputs": [],
   "source": [
    "# Codezeile zum Testen\n",
    "\n"
   ]
  },
  {
   "cell_type": "markdown",
   "metadata": {},
   "source": [
    "---\n",
    "**Aufgabe 1: Eigener Datensatz aus Hausaufgabe 03**\n",
    "\n",
    "1. Kopieren Sie Ihren Datensatz in die folgende Zeile, den Sie in Teilaufgabe 2 der Hausaufgabe 3 erstellt haben.\n",
    "    Nutzen Sie alternativ den folgenden Datensatz:\n",
    "\n",
    "    ```python\n",
    "    data = {\"Bonn\":[1, 2, 3], \"Köln\":[2, 3, 2]}\n",
    "    ```\n",
    "    <br>\n",
    "2. Geben Sie die Werte von beiden Spalten mit entsprechender Benennung und übersichtlicher Formatierung mithilfe eines ```print```-Befehls aus.\n",
    "\n",
    "3. Schreiben Sie die gleiche Ausgabe in eine Datei im Pfad ```data/dataset_cities.txt```.\n",
    "\n",
    "4. Plotten Sie beide Wertereihen für die Städte als zwei Linien in einen Plot. Ergänzen Sie Ihren Plot durch Label an Achsen und Linien, schalten Sie ein Grid ein, plotten Sie eine Legende.<br>\n",
    "    Hinweis: `plt.grid()`, `plt.legend()` sowie `label` als Argument in `plt.plot()`, `plt.xlabel()` und `plt.ylabel()`.\n",
    "\n",
    "5. Speichern Sie den Plot als Bilddatei im Ordner ``img/dataset_cities.jpg``.\n",
    "\n",
    "\n",
    "Hinweis: Trennen Sie die Zelle ggf.."
   ]
  },
  {
   "cell_type": "code",
   "execution_count": 5,
   "metadata": {},
   "outputs": [],
   "source": [
    "# Codezeile Aufgabe\n",
    "\n"
   ]
  },
  {
   "cell_type": "markdown",
   "metadata": {},
   "source": [
    "----\n",
    "----\n",
    "> ### Regression\n",
    "> \n",
    "> Wichtige Funktionen für Regressionen:\n",
    "> \n",
    "> ```python\n",
    "> np.polyfit() # Fit von Polynomen von Grad n\n",
    "> np.polyval() # entsprechende Werteverteilung\n",
    "> \n",
    "> ```\n",
    "> \n",
    "> Andere Bibliotheken:<br>\n",
    "> beispielsweise\n",
    "> \n",
    "> ```python\n",
    "> scipy.stats.linregress() # lineare Regression\n",
    "> \n",
    "> ```\n",
    "\n"
   ]
  },
  {
   "cell_type": "markdown",
   "metadata": {},
   "source": [
    "----\n",
    "**Aufgabe 2: Punktewolke fitten**"
   ]
  },
  {
   "cell_type": "code",
   "execution_count": 6,
   "metadata": {},
   "outputs": [
    {
     "data": {
      "image/png": "[encoded data removed]",
      "text/plain": [
       "<Figure size 600x300 with 1 Axes>"
      ]
     },
     "metadata": {},
     "output_type": "display_data"
    }
   ],
   "source": [
    "# gegeben Beginn\n",
    "import numpy as np\n",
    "import matplotlib.pyplot as plt\n",
    "\n",
    "np.random.seed(10)\n",
    "\n",
    "def poly(x):\n",
    "    return - 0.5 * x**2 + 0.3 * x + 10\n",
    "\n",
    "_data_x = np.linspace(0, 100, 200)\n",
    "_noise = np.random.randint(0, 1500, 200)\n",
    "\n",
    "_data_y = poly(_data_x) + _noise\n",
    "\n",
    "plt.figure(figsize=(6, 3))\n",
    "plt.plot(_data_x, _data_y, \"+\")\n",
    "plt.show()\n",
    "\n",
    "data = np.stack((_data_x, _data_y), axis=1)\n",
    "filename = \"data/polydata_wissdv.dat\"\n",
    "infos = \"# x, y (Datensatz zum Testen von Fits höheren Grades in WissDV WiSe20212022)\"\n",
    "np.savetxt(filename, data, \n",
    "           header=infos, )\n",
    "# gegeben Ende"
   ]
  },
  {
   "cell_type": "markdown",
   "metadata": {},
   "source": [
    "0. Führen Sie die gegebene Zelle aus.\n",
    "1. Öffnen Sie die Ascii-Datei `data/polydata_wissdv.dat` händisch und sehen Sie sich den Datensatz an.\n",
    "2. Importieren Sie den Datensatz, indem sie die Ascii-Datei `data/polydata_wissdv.dat` laden und den Inhalt als Variable speichern.\n",
    "3. Plotten Sie die Daten.\n",
    "4. Führen Sie einen Fit durch. Verwenden Sie eine beliebige Fit-Funktion (bspw. `np.polyfit`).\n",
    "5. Plotten Sie die Originaldaten, sowie den Fit.\n",
    "6. Speichern Sie das gefittete Modell mithilfe von `np.savetxt` in eine Datei im Ordner `data` (Hinweis: `np.column_stack()`)."
   ]
  },
  {
   "cell_type": "code",
   "execution_count": 7,
   "metadata": {},
   "outputs": [],
   "source": [
    "# Codezeile Aufgabe\n",
    "\n"
   ]
  },
  {
   "cell_type": "code",
   "execution_count": 8,
   "metadata": {},
   "outputs": [],
   "source": [
    "# Codezeile Aufgabe\n",
    "\n"
   ]
  },
  {
   "cell_type": "markdown",
   "metadata": {},
   "source": [
    "----\n",
    "----\n",
    "## Struktur unserer Ablage (Repository)\n",
    "\n",
    "* Verzeichnis `data` zur Ablage von Datendateien für Import und Export\n",
    "* Verzeichnis `img` zur Ablage von Abbildungen, Plots\n",
    "  * Unterverzeichnis `scr` ist als Source-Verzeichnis für Abbildungen gedacht, die mit dem Notebook geladen werden (DoNotTouch)\n",
    "  "
   ]
  },
  {
   "cell_type": "markdown",
   "metadata": {},
   "source": [
    "----\n",
    "----\n",
    "\n",
    "## Der Datensatz\n",
    "\n",
    "![schaubild](img/scr/datenverarbeitung_schaubild.jpg)"
   ]
  },
  {
   "cell_type": "markdown",
   "metadata": {},
   "source": [
    "----\n",
    "----\n",
    "## Datensatz: Erstellen\n",
    "\n",
    "* Aus einer Datendatei laden\n",
    "* ggf. Umwandeln\n",
    "* Aus Funktion, Berechnung, Programm übernehmen\n",
    "* Selbst erzeugen\n",
    "* Abspeichern, Ablage, Dokumentation, Backup\n"
   ]
  },
  {
   "cell_type": "markdown",
   "metadata": {},
   "source": [
    "----\n",
    "----\n",
    "## Datensatz: Prozessieren\n",
    "\n",
    "### Formatierung\n",
    "\n",
    "* In ein bearbeitbares Format bringen (bspw. von binär zu ASCII)\n",
    "* In eine verständliche Form bringen / Überblick verschaffen (Datensatz separieren, verkleinern)\n",
    "* In diesem Format zwischenspeichern\n",
    "\n",
    "\n",
    "### Berechnung\n",
    "\n",
    "* Berechnung neuer Werte\n",
    "* Statistik\n",
    "* Fitting\n",
    "* Zeitreihenanalyse\n",
    "* Filterung\n",
    "* Konvertierung von Daten\n",
    "\n",
    "### Weitergabe\n",
    "\n",
    "* Abspeichern\n",
    "* Bereitstellen unter festgelegtem Pfad\n",
    "* Dokumentieren\n",
    "* (Neu-)Laden\n"
   ]
  },
  {
   "cell_type": "markdown",
   "metadata": {},
   "source": [
    "----\n",
    "----\n",
    "## Datensatz: Darstellen und Interpretieren\n",
    "\n",
    "### Darstellung\n",
    "\n",
    "* Plot-Programm\n",
    "* Rohdaten / bearbeitete Daten\n",
    "* Vergleiche\n",
    "* absolute / relative Werte\n",
    "\n",
    "\n",
    "### Interpretation\n",
    "\n",
    "* Wertebereiche darstellen/markieren\n",
    "* Trends\n",
    "* Umrechnungen\n",
    "* Vergleiche\n",
    "\n",
    "----\n",
    "----"
   ]
  },
  {
   "cell_type": "markdown",
   "metadata": {},
   "source": [
    "**Aufgabe 3: Daten Labor - \"Reparatur\" und Aufbereitung**\n",
    "\n",
    "Im Ordner `data` liegt eine Datenbank-Datei `131_20210302T000000_A.DBD`. Aus dieser Datenbank-Datei wurde mithilfe des C++-Tools Dumb_DBD (`tools/dumb_dbd_v13/`) eine Textdatei `data/temp.txt` mit lesbaren Daten erzeugt.\n",
    "\n",
    "1. Sehen Sie sich die Datei `data/temp.txt` an. Um welche Daten handelt es sich bei dem Datensatz? Was fällt Ihnen sonst noch auf?"
   ]
  },
  {
   "cell_type": "code",
   "execution_count": 9,
   "metadata": {},
   "outputs": [],
   "source": [
    "# Antwortzeile Aufgabe\n",
    "\n"
   ]
  },
  {
   "cell_type": "markdown",
   "metadata": {},
   "source": [
    "Leider ist der Datenlogger aufgrund eines Stromausfalls an einem bestimmten Zeitpunkt ausgefallen. Dieser Zeitpunkt lässt sich auf den 28.09.2020 nach 02:40 Uhr feststellen. Danach wurde der Zeitstempel der Messungen leider für einige Zeit auf 1989 zurückgesetzt.\n",
    "\n",
    "Der folgende Code lädt und behebt das Problem:"
   ]
  },
  {
   "cell_type": "code",
   "execution_count": 10,
   "metadata": {},
   "outputs": [
    {
     "name": "stdout",
     "output_type": "stream",
     "text": [
      "DataFrame:\n",
      "                       Timestamp  1PT385 (degC) 3*V (mV) 3+V (mV)\n",
      "0      2020/03/05 14:50:00.0150           24.9    329.2    338.8\n",
      "1      2020/03/05 15:00:00.0164           24.8    232.7    329.6\n",
      "2      2020/03/05 15:10:00.0018           24.7    327.1    339.4\n",
      "3      2020/03/05 15:20:00.0038           24.5    182.7    304.7\n",
      "4      2020/03/05 15:30:00.0006           24.7    188.6    308.3\n",
      "...                         ...            ...      ...      ...\n",
      "52014  2021/03/01 23:20:00.0027           24.1    441.9    342.0\n",
      "52015  2021/03/01 23:30:00.0042           24.1    433.2    341.9\n",
      "52016  2021/03/01 23:40:00.0063           24.1    440.4    341.9\n",
      "52017  2021/03/01 23:50:00.0082           24.1    438.7    342.0\n",
      "52018  2021/03/02 00:00:00.0106           24.0    439.8    342.0\n",
      "\n",
      "[52019 rows x 4 columns]\n",
      "\n",
      "mit fehlerhaftem Zeitstempel: \n",
      "                      Timestamp  1PT385 (degC) 3*V (mV) 3+V (mV)\n",
      "29735  2020/09/28 02:40:00.0046           28.8    396.3    326.6\n",
      "29736  1989/01/01 00:10:00.0005           28.7    412.0    326.8\n",
      "29737  1989/01/01 00:20:00.0004           28.9    429.8    326.9\n",
      "29738  1989/01/01 00:30:00.0004           28.9    441.2    326.7\n",
      "29739  1989/01/01 00:40:00.0021           28.8    438.8    326.9\n",
      "\n",
      "Index, ab dem der Zeitstempel nicht mehr stimmt: 29736\n",
      "\n",
      "'reparierter' Zeitstempel: \n",
      "                        Timestamp  1PT385 (degC) 3*V (mV) 3+V (mV)\n",
      "29735    2020/09/28 02:40:00.0046           28.8    396.3    326.6\n",
      "29736  2020-09-28 06:20:00.010600           28.7    412.0    326.8\n",
      "29737  2020-09-28 06:30:00.010600           28.9    429.8    326.9\n",
      "29738  2020-09-28 06:40:00.010600           28.9    441.2    326.7\n",
      "29739  2020-09-28 06:50:00.010600           28.8    438.8    326.9\n"
     ]
    },
    {
     "name": "stderr",
     "output_type": "stream",
     "text": [
      "/tmp/ipykernel_3121800/3449846039.py:19: SettingWithCopyWarning: \n",
      "A value is trying to be set on a copy of a slice from a DataFrame\n",
      "\n",
      "See the caveats in the documentation: https://pandas.pydata.org/pandas-docs/stable/user_guide/indexing.html#returning-a-view-versus-a-copy\n",
      "  temp_log['Timestamp'][29736:] = times['CT']\n"
     ]
    }
   ],
   "source": [
    "# # gegeben Beginn\n",
    "\n",
    "import numpy as np\n",
    "import pandas as pd\n",
    "\n",
    "import matplotlib.pyplot as plt\n",
    "%matplotlib inline\n",
    "\n",
    "temp_log = pd.read_csv(\"data/temp.txt\", skiprows=23, parse_dates=True)\n",
    "print(\"DataFrame:\\n {}\\n\\nmit fehlerhaftem Zeitstempel: \\n{}\".format( temp_log, temp_log[29735:].head() ))\n",
    "\n",
    "# Index, ab dem der Zeitstempel nicht mehr stimmt: 29736\n",
    "print(\"\"\"\\nIndex, ab dem der Zeitstempel nicht mehr stimmt: 29736\\n\"\"\")\n",
    "\n",
    "times = temp_log[29736:].copy()\n",
    "\n",
    "times['CT'] = [pd.to_datetime(i) for i in pd.date_range(start = pd.to_datetime(temp_log[\"Timestamp\"][int(len(temp_log[\"Timestamp\"])-1)]), \n",
    "                                                        periods = len(times), freq = '-10T')[::-1]]\n",
    "temp_log['Timestamp'][29736:] = times['CT']\n",
    "\n",
    "print(\"'reparierter' Zeitstempel: \\n{}\".format( temp_log[29735:].head() ))\n",
    "\n",
    "temp_log.index = pd.to_datetime(temp_log[\"Timestamp\"])\n",
    "\n",
    "# # gegeben Ende"
   ]
  },
  {
   "cell_type": "markdown",
   "metadata": {},
   "source": [
    "2. Plotten Sie die Hauptinformation (Spalte \"1PT385 (degC)\" des DataFrames).\n",
    "3. Berechnen Sie die rollenden Mittelwerte für die folgenden Zeitfenster und speichern Sie sie in zwei Variablen:\n",
    "\n",
    "    a) 1 Tag, also 24 Stunden (\"24h\"): Variable `temp_rollmean_daily`<br>\n",
    "    b) 1 Woche, also 7 Tage (\"7d\"): Variable `temp_rollmean_weekly`\n",
    "    \n",
    "    Nutzen Sie dafür die Methode <br>\n",
    "    `DataFrame.resample(HIER DAS ZEITFENSTER).mean().rolling(window=3, min_periods=1).mean()`\n",
    "    \n",
    "4. Erweitern Sie Ihren Plot aus Aufgabenteil 2 um die Mittelwerte und vervollständigen Sie den Plot!<br>\n",
    "    Hinweis: `plt.grid()`, `plt.legend()` sowie `label` als Argument in `plt.plot()`, `plt.xlabel()` und `plt.ylabel()`.\n",
    "\n",
    "5. Lassen Sie sich eine kleine Statistik mit minimalen und maximalen Werten von originalen und gemittelten Daten ausgeben."
   ]
  },
  {
   "cell_type": "code",
   "execution_count": 11,
   "metadata": {},
   "outputs": [],
   "source": [
    "# Codezeile Aufgabe\n",
    "\n"
   ]
  },
  {
   "cell_type": "code",
   "execution_count": 12,
   "metadata": {},
   "outputs": [],
   "source": [
    "# Codezeile Aufgabe\n",
    "\n"
   ]
  },
  {
   "cell_type": "markdown",
   "metadata": {},
   "source": [
    "6. Folgender Code berechnet den Trend des Datensatzes. Erweitern Sie Ihren Plot um den Trend. Macht die Betrachtung Sinn?"
   ]
  },
  {
   "cell_type": "code",
   "execution_count": 13,
   "metadata": {},
   "outputs": [],
   "source": [
    "# # gegeben Beginn\n",
    "X = np.array(pd.to_datetime(temp_log.index.values), dtype=float)\n",
    "Y = np.array(temp_log[\"1PT385 (degC)\"].dropna().values, dtype=float)\n",
    "a_func = np.polyfit(x=X, y=Y, deg=1)\n",
    "trend = np.polyval(a_func, X)\n",
    "# # gegeben Ende"
   ]
  },
  {
   "cell_type": "code",
   "execution_count": 14,
   "metadata": {},
   "outputs": [],
   "source": [
    "# Codezeile Aufgabe\n",
    "\n"
   ]
  },
  {
   "cell_type": "markdown",
   "metadata": {},
   "source": [
    "7. Interpretieren Sie den Datensatz unter Zuhilfenahme der vorherigen Teilaufgaben:\n",
    "   \n",
    "   Welche Aussagen lassen sich treffen?"
   ]
  },
  {
   "cell_type": "code",
   "execution_count": 15,
   "metadata": {},
   "outputs": [],
   "source": [
    "# Codezeile Aufgabe für zusätzliche Ausgaben\n",
    "\n"
   ]
  },
  {
   "cell_type": "markdown",
   "metadata": {},
   "source": [
    "Antwortzeile Aufgabe"
   ]
  }
 ],
 "metadata": {
  "kernelspec": {
   "display_name": "py3-general [conda env:py3-general]",
   "language": "python",
   "name": "conda-env-py3-general-py"
  },
  "language_info": {
   "codemirror_mode": {
    "name": "ipython",
    "version": 3
   },
   "file_extension": ".py",
   "mimetype": "text/x-python",
   "name": "python",
   "nbconvert_exporter": "python",
   "pygments_lexer": "ipython3",
   "version": "3.9.18"
  }
 },
 "nbformat": 4,
 "nbformat_minor": 4
}
